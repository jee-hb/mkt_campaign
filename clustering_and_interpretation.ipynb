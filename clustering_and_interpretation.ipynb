{
 "cells": [
  {
   "cell_type": "code",
   "execution_count": 1,
   "id": "3f6d9420",
   "metadata": {},
   "outputs": [],
   "source": [
    "from IPython.core.interactiveshell import InteractiveShell\n",
    "InteractiveShell.ast_node_interactivity = \"all\""
   ]
  },
  {
   "cell_type": "code",
   "execution_count": 2,
   "id": "36b36aa3",
   "metadata": {},
   "outputs": [
    {
     "data": {
      "text/html": [
       "        <script type=\"text/javascript\">\n",
       "        window.PlotlyConfig = {MathJaxConfig: 'local'};\n",
       "        if (window.MathJax && window.MathJax.Hub && window.MathJax.Hub.Config) {window.MathJax.Hub.Config({SVG: {font: \"STIX-Web\"}});}\n",
       "        if (typeof require !== 'undefined') {\n",
       "        require.undef(\"plotly\");\n",
       "        requirejs.config({\n",
       "            paths: {\n",
       "                'plotly': ['https://cdn.plot.ly/plotly-2.12.1.min']\n",
       "            }\n",
       "        });\n",
       "        require(['plotly'], function(Plotly) {\n",
       "            window._Plotly = Plotly;\n",
       "        });\n",
       "        }\n",
       "        </script>\n",
       "        "
      ]
     },
     "metadata": {},
     "output_type": "display_data"
    }
   ],
   "source": [
    "import os\n",
    "import pandas as pd\n",
    "import numpy as np\n",
    "import matplotlib.pyplot as plt\n",
    "import matplotlib.cm as cm\n",
    "import seaborn as sns\n",
    "import kneed\n",
    "import itertools\n",
    "import csv\n",
    "from sklearn.cluster import KMeans, DBSCAN, SpectralClustering, OPTICS, AffinityPropagation\n",
    "from sklearn.impute import SimpleImputer\n",
    "from category_encoders.one_hot import OneHotEncoder\n",
    "# from sklearn.preprocessing import OneHotEncoder\n",
    "from sklearn.preprocessing import OrdinalEncoder\n",
    "from sklearn.preprocessing import MinMaxScaler, StandardScaler\n",
    "from sklearn.decomposition import PCA\n",
    "from sklearn.metrics import silhouette_score, calinski_harabasz_score\n",
    "from yellowbrick.cluster import silhouette_visualizer\n",
    "import plotly.express as px\n",
    "from plotly.offline import init_notebook_mode\n",
    "import warnings\n",
    "pd.options.display.max_rows = 4000\n",
    "init_notebook_mode(connected=True)\n",
    "warnings.filterwarnings(action='ignore')"
   ]
  },
  {
   "cell_type": "code",
   "execution_count": 11,
   "id": "e095a463",
   "metadata": {},
   "outputs": [
    {
     "data": {
      "text/plain": [
       "'/Users/gabyherediabaek/marketing_campaign/mkt_campaign'"
      ]
     },
     "execution_count": 11,
     "metadata": {},
     "output_type": "execute_result"
    }
   ],
   "source": [
    "os.getcwd()"
   ]
  },
  {
   "cell_type": "code",
   "execution_count": 12,
   "id": "2049ad89",
   "metadata": {},
   "outputs": [
    {
     "name": "stdout",
     "output_type": "stream",
     "text": [
      "/Users/gabyherediabaek/marketing_campaign/mkt_campaign/Data\n"
     ]
    }
   ],
   "source": [
    "cd /Users/gabyherediabaek/marketing_campaign/mkt_campaign/Data"
   ]
  },
  {
   "cell_type": "code",
   "execution_count": 614,
   "id": "529fec5b",
   "metadata": {},
   "outputs": [],
   "source": [
    "data= pd.read_csv('marketing_campaign.csv', sep='\\t')"
   ]
  },
  {
   "cell_type": "code",
   "execution_count": 615,
   "id": "aad8e943",
   "metadata": {},
   "outputs": [
    {
     "data": {
      "text/html": [
       "<div>\n",
       "<style scoped>\n",
       "    .dataframe tbody tr th:only-of-type {\n",
       "        vertical-align: middle;\n",
       "    }\n",
       "\n",
       "    .dataframe tbody tr th {\n",
       "        vertical-align: top;\n",
       "    }\n",
       "\n",
       "    .dataframe thead th {\n",
       "        text-align: right;\n",
       "    }\n",
       "</style>\n",
       "<table border=\"1\" class=\"dataframe\">\n",
       "  <thead>\n",
       "    <tr style=\"text-align: right;\">\n",
       "      <th></th>\n",
       "      <th>ID</th>\n",
       "      <th>Year_Birth</th>\n",
       "      <th>Education</th>\n",
       "      <th>Marital_Status</th>\n",
       "      <th>Income</th>\n",
       "      <th>Kidhome</th>\n",
       "      <th>Teenhome</th>\n",
       "      <th>Dt_Customer</th>\n",
       "      <th>Recency</th>\n",
       "      <th>MntWines</th>\n",
       "      <th>...</th>\n",
       "      <th>NumWebVisitsMonth</th>\n",
       "      <th>AcceptedCmp3</th>\n",
       "      <th>AcceptedCmp4</th>\n",
       "      <th>AcceptedCmp5</th>\n",
       "      <th>AcceptedCmp1</th>\n",
       "      <th>AcceptedCmp2</th>\n",
       "      <th>Complain</th>\n",
       "      <th>Z_CostContact</th>\n",
       "      <th>Z_Revenue</th>\n",
       "      <th>Response</th>\n",
       "    </tr>\n",
       "  </thead>\n",
       "  <tbody>\n",
       "    <tr>\n",
       "      <th>0</th>\n",
       "      <td>5524</td>\n",
       "      <td>1957</td>\n",
       "      <td>Graduation</td>\n",
       "      <td>Single</td>\n",
       "      <td>58138.0</td>\n",
       "      <td>0</td>\n",
       "      <td>0</td>\n",
       "      <td>04-09-2012</td>\n",
       "      <td>58</td>\n",
       "      <td>635</td>\n",
       "      <td>...</td>\n",
       "      <td>7</td>\n",
       "      <td>0</td>\n",
       "      <td>0</td>\n",
       "      <td>0</td>\n",
       "      <td>0</td>\n",
       "      <td>0</td>\n",
       "      <td>0</td>\n",
       "      <td>3</td>\n",
       "      <td>11</td>\n",
       "      <td>1</td>\n",
       "    </tr>\n",
       "    <tr>\n",
       "      <th>1</th>\n",
       "      <td>2174</td>\n",
       "      <td>1954</td>\n",
       "      <td>Graduation</td>\n",
       "      <td>Single</td>\n",
       "      <td>46344.0</td>\n",
       "      <td>1</td>\n",
       "      <td>1</td>\n",
       "      <td>08-03-2014</td>\n",
       "      <td>38</td>\n",
       "      <td>11</td>\n",
       "      <td>...</td>\n",
       "      <td>5</td>\n",
       "      <td>0</td>\n",
       "      <td>0</td>\n",
       "      <td>0</td>\n",
       "      <td>0</td>\n",
       "      <td>0</td>\n",
       "      <td>0</td>\n",
       "      <td>3</td>\n",
       "      <td>11</td>\n",
       "      <td>0</td>\n",
       "    </tr>\n",
       "    <tr>\n",
       "      <th>2</th>\n",
       "      <td>4141</td>\n",
       "      <td>1965</td>\n",
       "      <td>Graduation</td>\n",
       "      <td>Together</td>\n",
       "      <td>71613.0</td>\n",
       "      <td>0</td>\n",
       "      <td>0</td>\n",
       "      <td>21-08-2013</td>\n",
       "      <td>26</td>\n",
       "      <td>426</td>\n",
       "      <td>...</td>\n",
       "      <td>4</td>\n",
       "      <td>0</td>\n",
       "      <td>0</td>\n",
       "      <td>0</td>\n",
       "      <td>0</td>\n",
       "      <td>0</td>\n",
       "      <td>0</td>\n",
       "      <td>3</td>\n",
       "      <td>11</td>\n",
       "      <td>0</td>\n",
       "    </tr>\n",
       "    <tr>\n",
       "      <th>3</th>\n",
       "      <td>6182</td>\n",
       "      <td>1984</td>\n",
       "      <td>Graduation</td>\n",
       "      <td>Together</td>\n",
       "      <td>26646.0</td>\n",
       "      <td>1</td>\n",
       "      <td>0</td>\n",
       "      <td>10-02-2014</td>\n",
       "      <td>26</td>\n",
       "      <td>11</td>\n",
       "      <td>...</td>\n",
       "      <td>6</td>\n",
       "      <td>0</td>\n",
       "      <td>0</td>\n",
       "      <td>0</td>\n",
       "      <td>0</td>\n",
       "      <td>0</td>\n",
       "      <td>0</td>\n",
       "      <td>3</td>\n",
       "      <td>11</td>\n",
       "      <td>0</td>\n",
       "    </tr>\n",
       "    <tr>\n",
       "      <th>4</th>\n",
       "      <td>5324</td>\n",
       "      <td>1981</td>\n",
       "      <td>PhD</td>\n",
       "      <td>Married</td>\n",
       "      <td>58293.0</td>\n",
       "      <td>1</td>\n",
       "      <td>0</td>\n",
       "      <td>19-01-2014</td>\n",
       "      <td>94</td>\n",
       "      <td>173</td>\n",
       "      <td>...</td>\n",
       "      <td>5</td>\n",
       "      <td>0</td>\n",
       "      <td>0</td>\n",
       "      <td>0</td>\n",
       "      <td>0</td>\n",
       "      <td>0</td>\n",
       "      <td>0</td>\n",
       "      <td>3</td>\n",
       "      <td>11</td>\n",
       "      <td>0</td>\n",
       "    </tr>\n",
       "  </tbody>\n",
       "</table>\n",
       "<p>5 rows × 29 columns</p>\n",
       "</div>"
      ],
      "text/plain": [
       "     ID  Year_Birth   Education Marital_Status   Income  Kidhome  Teenhome  \\\n",
       "0  5524        1957  Graduation         Single  58138.0        0         0   \n",
       "1  2174        1954  Graduation         Single  46344.0        1         1   \n",
       "2  4141        1965  Graduation       Together  71613.0        0         0   \n",
       "3  6182        1984  Graduation       Together  26646.0        1         0   \n",
       "4  5324        1981         PhD        Married  58293.0        1         0   \n",
       "\n",
       "  Dt_Customer  Recency  MntWines  ...  NumWebVisitsMonth  AcceptedCmp3  \\\n",
       "0  04-09-2012       58       635  ...                  7             0   \n",
       "1  08-03-2014       38        11  ...                  5             0   \n",
       "2  21-08-2013       26       426  ...                  4             0   \n",
       "3  10-02-2014       26        11  ...                  6             0   \n",
       "4  19-01-2014       94       173  ...                  5             0   \n",
       "\n",
       "   AcceptedCmp4  AcceptedCmp5  AcceptedCmp1  AcceptedCmp2  Complain  \\\n",
       "0             0             0             0             0         0   \n",
       "1             0             0             0             0         0   \n",
       "2             0             0             0             0         0   \n",
       "3             0             0             0             0         0   \n",
       "4             0             0             0             0         0   \n",
       "\n",
       "   Z_CostContact  Z_Revenue  Response  \n",
       "0              3         11         1  \n",
       "1              3         11         0  \n",
       "2              3         11         0  \n",
       "3              3         11         0  \n",
       "4              3         11         0  \n",
       "\n",
       "[5 rows x 29 columns]"
      ]
     },
     "execution_count": 615,
     "metadata": {},
     "output_type": "execute_result"
    }
   ],
   "source": [
    "data.head()"
   ]
  },
  {
   "cell_type": "code",
   "execution_count": 616,
   "id": "f86a917a",
   "metadata": {},
   "outputs": [
    {
     "data": {
      "text/plain": [
       "ID                       int64\n",
       "Year_Birth               int64\n",
       "Education               object\n",
       "Marital_Status          object\n",
       "Income                 float64\n",
       "Kidhome                  int64\n",
       "Teenhome                 int64\n",
       "Dt_Customer             object\n",
       "Recency                  int64\n",
       "MntWines                 int64\n",
       "MntFruits                int64\n",
       "MntMeatProducts          int64\n",
       "MntFishProducts          int64\n",
       "MntSweetProducts         int64\n",
       "MntGoldProds             int64\n",
       "NumDealsPurchases        int64\n",
       "NumWebPurchases          int64\n",
       "NumCatalogPurchases      int64\n",
       "NumStorePurchases        int64\n",
       "NumWebVisitsMonth        int64\n",
       "AcceptedCmp3             int64\n",
       "AcceptedCmp4             int64\n",
       "AcceptedCmp5             int64\n",
       "AcceptedCmp1             int64\n",
       "AcceptedCmp2             int64\n",
       "Complain                 int64\n",
       "Z_CostContact            int64\n",
       "Z_Revenue                int64\n",
       "Response                 int64\n",
       "dtype: object"
      ]
     },
     "execution_count": 616,
     "metadata": {},
     "output_type": "execute_result"
    }
   ],
   "source": [
    "data.dtypes"
   ]
  },
  {
   "cell_type": "code",
   "execution_count": 617,
   "id": "4e2454a3",
   "metadata": {},
   "outputs": [],
   "source": [
    "data.drop('ID', axis=1, inplace=True)"
   ]
  },
  {
   "cell_type": "code",
   "execution_count": 618,
   "id": "6afb8179",
   "metadata": {},
   "outputs": [
    {
     "data": {
      "text/plain": [
       "count    2240.0\n",
       "mean       11.0\n",
       "std         0.0\n",
       "min        11.0\n",
       "25%        11.0\n",
       "50%        11.0\n",
       "75%        11.0\n",
       "max        11.0\n",
       "Name: Z_Revenue, dtype: float64"
      ]
     },
     "execution_count": 618,
     "metadata": {},
     "output_type": "execute_result"
    },
    {
     "data": {
      "text/plain": [
       "count    2240.0\n",
       "mean        3.0\n",
       "std         0.0\n",
       "min         3.0\n",
       "25%         3.0\n",
       "50%         3.0\n",
       "75%         3.0\n",
       "max         3.0\n",
       "Name: Z_CostContact, dtype: float64"
      ]
     },
     "execution_count": 618,
     "metadata": {},
     "output_type": "execute_result"
    }
   ],
   "source": [
    "# CONSTANT VARIABLES\n",
    "data['Z_Revenue'].describe()\n",
    "data['Z_CostContact'].describe()\n",
    "data.drop(['Z_Revenue', 'Z_CostContact'], axis=1, inplace=True)"
   ]
  },
  {
   "cell_type": "code",
   "execution_count": 619,
   "id": "5361a8ad",
   "metadata": {},
   "outputs": [
    {
     "data": {
      "text/plain": [
       "Year_Birth             False\n",
       "Education              False\n",
       "Marital_Status         False\n",
       "Income                  True\n",
       "Kidhome                False\n",
       "Teenhome               False\n",
       "Dt_Customer            False\n",
       "Recency                False\n",
       "MntWines               False\n",
       "MntFruits              False\n",
       "MntMeatProducts        False\n",
       "MntFishProducts        False\n",
       "MntSweetProducts       False\n",
       "MntGoldProds           False\n",
       "NumDealsPurchases      False\n",
       "NumWebPurchases        False\n",
       "NumCatalogPurchases    False\n",
       "NumStorePurchases      False\n",
       "NumWebVisitsMonth      False\n",
       "AcceptedCmp3           False\n",
       "AcceptedCmp4           False\n",
       "AcceptedCmp5           False\n",
       "AcceptedCmp1           False\n",
       "AcceptedCmp2           False\n",
       "Complain               False\n",
       "Response               False\n",
       "dtype: bool"
      ]
     },
     "execution_count": 619,
     "metadata": {},
     "output_type": "execute_result"
    }
   ],
   "source": [
    "data.isnull().any()"
   ]
  },
  {
   "cell_type": "code",
   "execution_count": 620,
   "id": "fec84729",
   "metadata": {},
   "outputs": [
    {
     "data": {
      "text/plain": [
       "24"
      ]
     },
     "execution_count": 620,
     "metadata": {},
     "output_type": "execute_result"
    }
   ],
   "source": [
    "data.Income.isnull().sum()"
   ]
  },
  {
   "cell_type": "code",
   "execution_count": 621,
   "id": "4bac51ff",
   "metadata": {},
   "outputs": [
    {
     "data": {
      "text/html": [
       "<div>\n",
       "<style scoped>\n",
       "    .dataframe tbody tr th:only-of-type {\n",
       "        vertical-align: middle;\n",
       "    }\n",
       "\n",
       "    .dataframe tbody tr th {\n",
       "        vertical-align: top;\n",
       "    }\n",
       "\n",
       "    .dataframe thead th {\n",
       "        text-align: right;\n",
       "    }\n",
       "</style>\n",
       "<table border=\"1\" class=\"dataframe\">\n",
       "  <thead>\n",
       "    <tr style=\"text-align: right;\">\n",
       "      <th></th>\n",
       "      <th>Year_Birth</th>\n",
       "      <th>Education</th>\n",
       "      <th>Marital_Status</th>\n",
       "      <th>Income</th>\n",
       "      <th>Kidhome</th>\n",
       "      <th>Teenhome</th>\n",
       "      <th>Dt_Customer</th>\n",
       "      <th>Recency</th>\n",
       "      <th>MntWines</th>\n",
       "      <th>MntFruits</th>\n",
       "      <th>...</th>\n",
       "      <th>NumCatalogPurchases</th>\n",
       "      <th>NumStorePurchases</th>\n",
       "      <th>NumWebVisitsMonth</th>\n",
       "      <th>AcceptedCmp3</th>\n",
       "      <th>AcceptedCmp4</th>\n",
       "      <th>AcceptedCmp5</th>\n",
       "      <th>AcceptedCmp1</th>\n",
       "      <th>AcceptedCmp2</th>\n",
       "      <th>Complain</th>\n",
       "      <th>Response</th>\n",
       "    </tr>\n",
       "  </thead>\n",
       "  <tbody>\n",
       "    <tr>\n",
       "      <th>10</th>\n",
       "      <td>1983</td>\n",
       "      <td>Graduation</td>\n",
       "      <td>Married</td>\n",
       "      <td>NaN</td>\n",
       "      <td>1</td>\n",
       "      <td>0</td>\n",
       "      <td>15-11-2013</td>\n",
       "      <td>11</td>\n",
       "      <td>5</td>\n",
       "      <td>5</td>\n",
       "      <td>...</td>\n",
       "      <td>0</td>\n",
       "      <td>2</td>\n",
       "      <td>7</td>\n",
       "      <td>0</td>\n",
       "      <td>0</td>\n",
       "      <td>0</td>\n",
       "      <td>0</td>\n",
       "      <td>0</td>\n",
       "      <td>0</td>\n",
       "      <td>0</td>\n",
       "    </tr>\n",
       "    <tr>\n",
       "      <th>27</th>\n",
       "      <td>1986</td>\n",
       "      <td>Graduation</td>\n",
       "      <td>Single</td>\n",
       "      <td>NaN</td>\n",
       "      <td>1</td>\n",
       "      <td>0</td>\n",
       "      <td>20-02-2013</td>\n",
       "      <td>19</td>\n",
       "      <td>5</td>\n",
       "      <td>1</td>\n",
       "      <td>...</td>\n",
       "      <td>0</td>\n",
       "      <td>0</td>\n",
       "      <td>1</td>\n",
       "      <td>0</td>\n",
       "      <td>0</td>\n",
       "      <td>0</td>\n",
       "      <td>0</td>\n",
       "      <td>0</td>\n",
       "      <td>0</td>\n",
       "      <td>0</td>\n",
       "    </tr>\n",
       "    <tr>\n",
       "      <th>43</th>\n",
       "      <td>1959</td>\n",
       "      <td>PhD</td>\n",
       "      <td>Single</td>\n",
       "      <td>NaN</td>\n",
       "      <td>0</td>\n",
       "      <td>0</td>\n",
       "      <td>05-11-2013</td>\n",
       "      <td>80</td>\n",
       "      <td>81</td>\n",
       "      <td>11</td>\n",
       "      <td>...</td>\n",
       "      <td>3</td>\n",
       "      <td>4</td>\n",
       "      <td>2</td>\n",
       "      <td>0</td>\n",
       "      <td>0</td>\n",
       "      <td>0</td>\n",
       "      <td>0</td>\n",
       "      <td>0</td>\n",
       "      <td>0</td>\n",
       "      <td>0</td>\n",
       "    </tr>\n",
       "    <tr>\n",
       "      <th>48</th>\n",
       "      <td>1951</td>\n",
       "      <td>Graduation</td>\n",
       "      <td>Single</td>\n",
       "      <td>NaN</td>\n",
       "      <td>2</td>\n",
       "      <td>1</td>\n",
       "      <td>01-01-2014</td>\n",
       "      <td>96</td>\n",
       "      <td>48</td>\n",
       "      <td>5</td>\n",
       "      <td>...</td>\n",
       "      <td>1</td>\n",
       "      <td>4</td>\n",
       "      <td>6</td>\n",
       "      <td>0</td>\n",
       "      <td>0</td>\n",
       "      <td>0</td>\n",
       "      <td>0</td>\n",
       "      <td>0</td>\n",
       "      <td>0</td>\n",
       "      <td>0</td>\n",
       "    </tr>\n",
       "    <tr>\n",
       "      <th>58</th>\n",
       "      <td>1982</td>\n",
       "      <td>Graduation</td>\n",
       "      <td>Single</td>\n",
       "      <td>NaN</td>\n",
       "      <td>1</td>\n",
       "      <td>0</td>\n",
       "      <td>17-06-2013</td>\n",
       "      <td>57</td>\n",
       "      <td>11</td>\n",
       "      <td>3</td>\n",
       "      <td>...</td>\n",
       "      <td>0</td>\n",
       "      <td>3</td>\n",
       "      <td>6</td>\n",
       "      <td>0</td>\n",
       "      <td>0</td>\n",
       "      <td>0</td>\n",
       "      <td>0</td>\n",
       "      <td>0</td>\n",
       "      <td>0</td>\n",
       "      <td>0</td>\n",
       "    </tr>\n",
       "    <tr>\n",
       "      <th>71</th>\n",
       "      <td>1973</td>\n",
       "      <td>2n Cycle</td>\n",
       "      <td>Married</td>\n",
       "      <td>NaN</td>\n",
       "      <td>1</td>\n",
       "      <td>0</td>\n",
       "      <td>14-09-2012</td>\n",
       "      <td>25</td>\n",
       "      <td>25</td>\n",
       "      <td>3</td>\n",
       "      <td>...</td>\n",
       "      <td>0</td>\n",
       "      <td>3</td>\n",
       "      <td>8</td>\n",
       "      <td>0</td>\n",
       "      <td>0</td>\n",
       "      <td>0</td>\n",
       "      <td>0</td>\n",
       "      <td>0</td>\n",
       "      <td>0</td>\n",
       "      <td>0</td>\n",
       "    </tr>\n",
       "    <tr>\n",
       "      <th>90</th>\n",
       "      <td>1957</td>\n",
       "      <td>PhD</td>\n",
       "      <td>Married</td>\n",
       "      <td>NaN</td>\n",
       "      <td>2</td>\n",
       "      <td>1</td>\n",
       "      <td>19-11-2012</td>\n",
       "      <td>4</td>\n",
       "      <td>230</td>\n",
       "      <td>42</td>\n",
       "      <td>...</td>\n",
       "      <td>2</td>\n",
       "      <td>8</td>\n",
       "      <td>9</td>\n",
       "      <td>0</td>\n",
       "      <td>0</td>\n",
       "      <td>0</td>\n",
       "      <td>0</td>\n",
       "      <td>0</td>\n",
       "      <td>0</td>\n",
       "      <td>0</td>\n",
       "    </tr>\n",
       "    <tr>\n",
       "      <th>91</th>\n",
       "      <td>1957</td>\n",
       "      <td>Graduation</td>\n",
       "      <td>Single</td>\n",
       "      <td>NaN</td>\n",
       "      <td>1</td>\n",
       "      <td>1</td>\n",
       "      <td>27-05-2014</td>\n",
       "      <td>45</td>\n",
       "      <td>7</td>\n",
       "      <td>0</td>\n",
       "      <td>...</td>\n",
       "      <td>0</td>\n",
       "      <td>2</td>\n",
       "      <td>7</td>\n",
       "      <td>0</td>\n",
       "      <td>0</td>\n",
       "      <td>0</td>\n",
       "      <td>0</td>\n",
       "      <td>0</td>\n",
       "      <td>0</td>\n",
       "      <td>0</td>\n",
       "    </tr>\n",
       "    <tr>\n",
       "      <th>92</th>\n",
       "      <td>1973</td>\n",
       "      <td>Master</td>\n",
       "      <td>Together</td>\n",
       "      <td>NaN</td>\n",
       "      <td>0</td>\n",
       "      <td>0</td>\n",
       "      <td>23-11-2013</td>\n",
       "      <td>87</td>\n",
       "      <td>445</td>\n",
       "      <td>37</td>\n",
       "      <td>...</td>\n",
       "      <td>4</td>\n",
       "      <td>8</td>\n",
       "      <td>1</td>\n",
       "      <td>0</td>\n",
       "      <td>0</td>\n",
       "      <td>0</td>\n",
       "      <td>0</td>\n",
       "      <td>0</td>\n",
       "      <td>0</td>\n",
       "      <td>0</td>\n",
       "    </tr>\n",
       "    <tr>\n",
       "      <th>128</th>\n",
       "      <td>1961</td>\n",
       "      <td>PhD</td>\n",
       "      <td>Married</td>\n",
       "      <td>NaN</td>\n",
       "      <td>0</td>\n",
       "      <td>1</td>\n",
       "      <td>11-07-2013</td>\n",
       "      <td>23</td>\n",
       "      <td>352</td>\n",
       "      <td>0</td>\n",
       "      <td>...</td>\n",
       "      <td>1</td>\n",
       "      <td>7</td>\n",
       "      <td>6</td>\n",
       "      <td>0</td>\n",
       "      <td>0</td>\n",
       "      <td>0</td>\n",
       "      <td>0</td>\n",
       "      <td>0</td>\n",
       "      <td>0</td>\n",
       "      <td>0</td>\n",
       "    </tr>\n",
       "    <tr>\n",
       "      <th>133</th>\n",
       "      <td>1963</td>\n",
       "      <td>Graduation</td>\n",
       "      <td>Married</td>\n",
       "      <td>NaN</td>\n",
       "      <td>0</td>\n",
       "      <td>1</td>\n",
       "      <td>11-08-2013</td>\n",
       "      <td>96</td>\n",
       "      <td>231</td>\n",
       "      <td>65</td>\n",
       "      <td>...</td>\n",
       "      <td>5</td>\n",
       "      <td>7</td>\n",
       "      <td>4</td>\n",
       "      <td>0</td>\n",
       "      <td>0</td>\n",
       "      <td>0</td>\n",
       "      <td>0</td>\n",
       "      <td>0</td>\n",
       "      <td>0</td>\n",
       "      <td>0</td>\n",
       "    </tr>\n",
       "    <tr>\n",
       "      <th>312</th>\n",
       "      <td>1989</td>\n",
       "      <td>Graduation</td>\n",
       "      <td>Married</td>\n",
       "      <td>NaN</td>\n",
       "      <td>0</td>\n",
       "      <td>0</td>\n",
       "      <td>03-06-2013</td>\n",
       "      <td>69</td>\n",
       "      <td>861</td>\n",
       "      <td>138</td>\n",
       "      <td>...</td>\n",
       "      <td>5</td>\n",
       "      <td>12</td>\n",
       "      <td>3</td>\n",
       "      <td>0</td>\n",
       "      <td>1</td>\n",
       "      <td>0</td>\n",
       "      <td>1</td>\n",
       "      <td>0</td>\n",
       "      <td>0</td>\n",
       "      <td>0</td>\n",
       "    </tr>\n",
       "    <tr>\n",
       "      <th>319</th>\n",
       "      <td>1970</td>\n",
       "      <td>Graduation</td>\n",
       "      <td>Single</td>\n",
       "      <td>NaN</td>\n",
       "      <td>1</td>\n",
       "      <td>2</td>\n",
       "      <td>23-08-2013</td>\n",
       "      <td>67</td>\n",
       "      <td>738</td>\n",
       "      <td>20</td>\n",
       "      <td>...</td>\n",
       "      <td>3</td>\n",
       "      <td>10</td>\n",
       "      <td>7</td>\n",
       "      <td>0</td>\n",
       "      <td>1</td>\n",
       "      <td>0</td>\n",
       "      <td>1</td>\n",
       "      <td>0</td>\n",
       "      <td>0</td>\n",
       "      <td>0</td>\n",
       "    </tr>\n",
       "    <tr>\n",
       "      <th>1379</th>\n",
       "      <td>1970</td>\n",
       "      <td>Master</td>\n",
       "      <td>Together</td>\n",
       "      <td>NaN</td>\n",
       "      <td>0</td>\n",
       "      <td>1</td>\n",
       "      <td>01-04-2013</td>\n",
       "      <td>39</td>\n",
       "      <td>187</td>\n",
       "      <td>5</td>\n",
       "      <td>...</td>\n",
       "      <td>2</td>\n",
       "      <td>6</td>\n",
       "      <td>5</td>\n",
       "      <td>0</td>\n",
       "      <td>0</td>\n",
       "      <td>0</td>\n",
       "      <td>0</td>\n",
       "      <td>0</td>\n",
       "      <td>0</td>\n",
       "      <td>0</td>\n",
       "    </tr>\n",
       "    <tr>\n",
       "      <th>1382</th>\n",
       "      <td>1958</td>\n",
       "      <td>Graduation</td>\n",
       "      <td>Together</td>\n",
       "      <td>NaN</td>\n",
       "      <td>1</td>\n",
       "      <td>1</td>\n",
       "      <td>03-09-2012</td>\n",
       "      <td>87</td>\n",
       "      <td>19</td>\n",
       "      <td>4</td>\n",
       "      <td>...</td>\n",
       "      <td>0</td>\n",
       "      <td>3</td>\n",
       "      <td>5</td>\n",
       "      <td>0</td>\n",
       "      <td>0</td>\n",
       "      <td>0</td>\n",
       "      <td>0</td>\n",
       "      <td>0</td>\n",
       "      <td>0</td>\n",
       "      <td>0</td>\n",
       "    </tr>\n",
       "    <tr>\n",
       "      <th>1383</th>\n",
       "      <td>1964</td>\n",
       "      <td>2n Cycle</td>\n",
       "      <td>Single</td>\n",
       "      <td>NaN</td>\n",
       "      <td>1</td>\n",
       "      <td>1</td>\n",
       "      <td>12-01-2014</td>\n",
       "      <td>49</td>\n",
       "      <td>5</td>\n",
       "      <td>1</td>\n",
       "      <td>...</td>\n",
       "      <td>0</td>\n",
       "      <td>2</td>\n",
       "      <td>7</td>\n",
       "      <td>0</td>\n",
       "      <td>0</td>\n",
       "      <td>0</td>\n",
       "      <td>0</td>\n",
       "      <td>0</td>\n",
       "      <td>0</td>\n",
       "      <td>0</td>\n",
       "    </tr>\n",
       "    <tr>\n",
       "      <th>1386</th>\n",
       "      <td>1972</td>\n",
       "      <td>PhD</td>\n",
       "      <td>Together</td>\n",
       "      <td>NaN</td>\n",
       "      <td>1</td>\n",
       "      <td>0</td>\n",
       "      <td>02-03-2014</td>\n",
       "      <td>17</td>\n",
       "      <td>25</td>\n",
       "      <td>1</td>\n",
       "      <td>...</td>\n",
       "      <td>0</td>\n",
       "      <td>3</td>\n",
       "      <td>7</td>\n",
       "      <td>0</td>\n",
       "      <td>0</td>\n",
       "      <td>0</td>\n",
       "      <td>0</td>\n",
       "      <td>0</td>\n",
       "      <td>0</td>\n",
       "      <td>0</td>\n",
       "    </tr>\n",
       "    <tr>\n",
       "      <th>2059</th>\n",
       "      <td>1969</td>\n",
       "      <td>Master</td>\n",
       "      <td>Together</td>\n",
       "      <td>NaN</td>\n",
       "      <td>1</td>\n",
       "      <td>1</td>\n",
       "      <td>18-05-2013</td>\n",
       "      <td>52</td>\n",
       "      <td>375</td>\n",
       "      <td>42</td>\n",
       "      <td>...</td>\n",
       "      <td>10</td>\n",
       "      <td>4</td>\n",
       "      <td>3</td>\n",
       "      <td>0</td>\n",
       "      <td>0</td>\n",
       "      <td>0</td>\n",
       "      <td>0</td>\n",
       "      <td>0</td>\n",
       "      <td>0</td>\n",
       "      <td>0</td>\n",
       "    </tr>\n",
       "    <tr>\n",
       "      <th>2061</th>\n",
       "      <td>1981</td>\n",
       "      <td>PhD</td>\n",
       "      <td>Single</td>\n",
       "      <td>NaN</td>\n",
       "      <td>1</td>\n",
       "      <td>0</td>\n",
       "      <td>31-05-2013</td>\n",
       "      <td>82</td>\n",
       "      <td>23</td>\n",
       "      <td>0</td>\n",
       "      <td>...</td>\n",
       "      <td>0</td>\n",
       "      <td>3</td>\n",
       "      <td>6</td>\n",
       "      <td>0</td>\n",
       "      <td>0</td>\n",
       "      <td>0</td>\n",
       "      <td>0</td>\n",
       "      <td>0</td>\n",
       "      <td>0</td>\n",
       "      <td>0</td>\n",
       "    </tr>\n",
       "    <tr>\n",
       "      <th>2078</th>\n",
       "      <td>1971</td>\n",
       "      <td>Graduation</td>\n",
       "      <td>Married</td>\n",
       "      <td>NaN</td>\n",
       "      <td>1</td>\n",
       "      <td>1</td>\n",
       "      <td>03-03-2013</td>\n",
       "      <td>82</td>\n",
       "      <td>71</td>\n",
       "      <td>1</td>\n",
       "      <td>...</td>\n",
       "      <td>1</td>\n",
       "      <td>3</td>\n",
       "      <td>8</td>\n",
       "      <td>0</td>\n",
       "      <td>0</td>\n",
       "      <td>0</td>\n",
       "      <td>0</td>\n",
       "      <td>0</td>\n",
       "      <td>0</td>\n",
       "      <td>0</td>\n",
       "    </tr>\n",
       "    <tr>\n",
       "      <th>2079</th>\n",
       "      <td>1954</td>\n",
       "      <td>Master</td>\n",
       "      <td>Together</td>\n",
       "      <td>NaN</td>\n",
       "      <td>0</td>\n",
       "      <td>1</td>\n",
       "      <td>23-06-2013</td>\n",
       "      <td>83</td>\n",
       "      <td>161</td>\n",
       "      <td>0</td>\n",
       "      <td>...</td>\n",
       "      <td>1</td>\n",
       "      <td>4</td>\n",
       "      <td>6</td>\n",
       "      <td>0</td>\n",
       "      <td>0</td>\n",
       "      <td>0</td>\n",
       "      <td>0</td>\n",
       "      <td>0</td>\n",
       "      <td>0</td>\n",
       "      <td>0</td>\n",
       "    </tr>\n",
       "    <tr>\n",
       "      <th>2081</th>\n",
       "      <td>1955</td>\n",
       "      <td>Graduation</td>\n",
       "      <td>Single</td>\n",
       "      <td>NaN</td>\n",
       "      <td>0</td>\n",
       "      <td>1</td>\n",
       "      <td>18-10-2013</td>\n",
       "      <td>95</td>\n",
       "      <td>264</td>\n",
       "      <td>0</td>\n",
       "      <td>...</td>\n",
       "      <td>1</td>\n",
       "      <td>5</td>\n",
       "      <td>7</td>\n",
       "      <td>0</td>\n",
       "      <td>0</td>\n",
       "      <td>0</td>\n",
       "      <td>0</td>\n",
       "      <td>0</td>\n",
       "      <td>0</td>\n",
       "      <td>0</td>\n",
       "    </tr>\n",
       "    <tr>\n",
       "      <th>2084</th>\n",
       "      <td>1943</td>\n",
       "      <td>Master</td>\n",
       "      <td>Widow</td>\n",
       "      <td>NaN</td>\n",
       "      <td>0</td>\n",
       "      <td>0</td>\n",
       "      <td>30-10-2013</td>\n",
       "      <td>75</td>\n",
       "      <td>532</td>\n",
       "      <td>126</td>\n",
       "      <td>...</td>\n",
       "      <td>5</td>\n",
       "      <td>11</td>\n",
       "      <td>1</td>\n",
       "      <td>0</td>\n",
       "      <td>0</td>\n",
       "      <td>1</td>\n",
       "      <td>0</td>\n",
       "      <td>0</td>\n",
       "      <td>0</td>\n",
       "      <td>1</td>\n",
       "    </tr>\n",
       "    <tr>\n",
       "      <th>2228</th>\n",
       "      <td>1978</td>\n",
       "      <td>2n Cycle</td>\n",
       "      <td>Together</td>\n",
       "      <td>NaN</td>\n",
       "      <td>0</td>\n",
       "      <td>0</td>\n",
       "      <td>12-08-2012</td>\n",
       "      <td>53</td>\n",
       "      <td>32</td>\n",
       "      <td>2</td>\n",
       "      <td>...</td>\n",
       "      <td>0</td>\n",
       "      <td>1</td>\n",
       "      <td>0</td>\n",
       "      <td>0</td>\n",
       "      <td>1</td>\n",
       "      <td>0</td>\n",
       "      <td>0</td>\n",
       "      <td>0</td>\n",
       "      <td>0</td>\n",
       "      <td>0</td>\n",
       "    </tr>\n",
       "  </tbody>\n",
       "</table>\n",
       "<p>24 rows × 26 columns</p>\n",
       "</div>"
      ],
      "text/plain": [
       "      Year_Birth   Education Marital_Status  Income  Kidhome  Teenhome  \\\n",
       "10          1983  Graduation        Married     NaN        1         0   \n",
       "27          1986  Graduation         Single     NaN        1         0   \n",
       "43          1959         PhD         Single     NaN        0         0   \n",
       "48          1951  Graduation         Single     NaN        2         1   \n",
       "58          1982  Graduation         Single     NaN        1         0   \n",
       "71          1973    2n Cycle        Married     NaN        1         0   \n",
       "90          1957         PhD        Married     NaN        2         1   \n",
       "91          1957  Graduation         Single     NaN        1         1   \n",
       "92          1973      Master       Together     NaN        0         0   \n",
       "128         1961         PhD        Married     NaN        0         1   \n",
       "133         1963  Graduation        Married     NaN        0         1   \n",
       "312         1989  Graduation        Married     NaN        0         0   \n",
       "319         1970  Graduation         Single     NaN        1         2   \n",
       "1379        1970      Master       Together     NaN        0         1   \n",
       "1382        1958  Graduation       Together     NaN        1         1   \n",
       "1383        1964    2n Cycle         Single     NaN        1         1   \n",
       "1386        1972         PhD       Together     NaN        1         0   \n",
       "2059        1969      Master       Together     NaN        1         1   \n",
       "2061        1981         PhD         Single     NaN        1         0   \n",
       "2078        1971  Graduation        Married     NaN        1         1   \n",
       "2079        1954      Master       Together     NaN        0         1   \n",
       "2081        1955  Graduation         Single     NaN        0         1   \n",
       "2084        1943      Master          Widow     NaN        0         0   \n",
       "2228        1978    2n Cycle       Together     NaN        0         0   \n",
       "\n",
       "     Dt_Customer  Recency  MntWines  MntFruits  ...  NumCatalogPurchases  \\\n",
       "10    15-11-2013       11         5          5  ...                    0   \n",
       "27    20-02-2013       19         5          1  ...                    0   \n",
       "43    05-11-2013       80        81         11  ...                    3   \n",
       "48    01-01-2014       96        48          5  ...                    1   \n",
       "58    17-06-2013       57        11          3  ...                    0   \n",
       "71    14-09-2012       25        25          3  ...                    0   \n",
       "90    19-11-2012        4       230         42  ...                    2   \n",
       "91    27-05-2014       45         7          0  ...                    0   \n",
       "92    23-11-2013       87       445         37  ...                    4   \n",
       "128   11-07-2013       23       352          0  ...                    1   \n",
       "133   11-08-2013       96       231         65  ...                    5   \n",
       "312   03-06-2013       69       861        138  ...                    5   \n",
       "319   23-08-2013       67       738         20  ...                    3   \n",
       "1379  01-04-2013       39       187          5  ...                    2   \n",
       "1382  03-09-2012       87        19          4  ...                    0   \n",
       "1383  12-01-2014       49         5          1  ...                    0   \n",
       "1386  02-03-2014       17        25          1  ...                    0   \n",
       "2059  18-05-2013       52       375         42  ...                   10   \n",
       "2061  31-05-2013       82        23          0  ...                    0   \n",
       "2078  03-03-2013       82        71          1  ...                    1   \n",
       "2079  23-06-2013       83       161          0  ...                    1   \n",
       "2081  18-10-2013       95       264          0  ...                    1   \n",
       "2084  30-10-2013       75       532        126  ...                    5   \n",
       "2228  12-08-2012       53        32          2  ...                    0   \n",
       "\n",
       "      NumStorePurchases  NumWebVisitsMonth  AcceptedCmp3  AcceptedCmp4  \\\n",
       "10                    2                  7             0             0   \n",
       "27                    0                  1             0             0   \n",
       "43                    4                  2             0             0   \n",
       "48                    4                  6             0             0   \n",
       "58                    3                  6             0             0   \n",
       "71                    3                  8             0             0   \n",
       "90                    8                  9             0             0   \n",
       "91                    2                  7             0             0   \n",
       "92                    8                  1             0             0   \n",
       "128                   7                  6             0             0   \n",
       "133                   7                  4             0             0   \n",
       "312                  12                  3             0             1   \n",
       "319                  10                  7             0             1   \n",
       "1379                  6                  5             0             0   \n",
       "1382                  3                  5             0             0   \n",
       "1383                  2                  7             0             0   \n",
       "1386                  3                  7             0             0   \n",
       "2059                  4                  3             0             0   \n",
       "2061                  3                  6             0             0   \n",
       "2078                  3                  8             0             0   \n",
       "2079                  4                  6             0             0   \n",
       "2081                  5                  7             0             0   \n",
       "2084                 11                  1             0             0   \n",
       "2228                  1                  0             0             1   \n",
       "\n",
       "      AcceptedCmp5  AcceptedCmp1  AcceptedCmp2  Complain  Response  \n",
       "10               0             0             0         0         0  \n",
       "27               0             0             0         0         0  \n",
       "43               0             0             0         0         0  \n",
       "48               0             0             0         0         0  \n",
       "58               0             0             0         0         0  \n",
       "71               0             0             0         0         0  \n",
       "90               0             0             0         0         0  \n",
       "91               0             0             0         0         0  \n",
       "92               0             0             0         0         0  \n",
       "128              0             0             0         0         0  \n",
       "133              0             0             0         0         0  \n",
       "312              0             1             0         0         0  \n",
       "319              0             1             0         0         0  \n",
       "1379             0             0             0         0         0  \n",
       "1382             0             0             0         0         0  \n",
       "1383             0             0             0         0         0  \n",
       "1386             0             0             0         0         0  \n",
       "2059             0             0             0         0         0  \n",
       "2061             0             0             0         0         0  \n",
       "2078             0             0             0         0         0  \n",
       "2079             0             0             0         0         0  \n",
       "2081             0             0             0         0         0  \n",
       "2084             1             0             0         0         1  \n",
       "2228             0             0             0         0         0  \n",
       "\n",
       "[24 rows x 26 columns]"
      ]
     },
     "execution_count": 621,
     "metadata": {},
     "output_type": "execute_result"
    }
   ],
   "source": [
    "data.loc[data['Income'].isnull()== True]"
   ]
  },
  {
   "cell_type": "code",
   "execution_count": 622,
   "id": "ed41ac2f",
   "metadata": {},
   "outputs": [],
   "source": [
    "# Replacing missing values of 'Income' with mean value of the respective group of education:\n",
    "for i in range(0, data.shape[0]):\n",
    "    if data.Income[i]!=data.Income[i]: # NaN!=Nan\n",
    "        data.Income[i]=data['Income'].loc[data['Education']==data['Education'][i]].mean()"
   ]
  },
  {
   "cell_type": "code",
   "execution_count": 623,
   "id": "1096aeb4",
   "metadata": {},
   "outputs": [
    {
     "data": {
      "text/plain": [
       "Year_Birth             False\n",
       "Education              False\n",
       "Marital_Status         False\n",
       "Income                 False\n",
       "Kidhome                False\n",
       "Teenhome               False\n",
       "Dt_Customer            False\n",
       "Recency                False\n",
       "MntWines               False\n",
       "MntFruits              False\n",
       "MntMeatProducts        False\n",
       "MntFishProducts        False\n",
       "MntSweetProducts       False\n",
       "MntGoldProds           False\n",
       "NumDealsPurchases      False\n",
       "NumWebPurchases        False\n",
       "NumCatalogPurchases    False\n",
       "NumStorePurchases      False\n",
       "NumWebVisitsMonth      False\n",
       "AcceptedCmp3           False\n",
       "AcceptedCmp4           False\n",
       "AcceptedCmp5           False\n",
       "AcceptedCmp1           False\n",
       "AcceptedCmp2           False\n",
       "Complain               False\n",
       "Response               False\n",
       "dtype: bool"
      ]
     },
     "execution_count": 623,
     "metadata": {},
     "output_type": "execute_result"
    }
   ],
   "source": [
    "data.isnull().any()"
   ]
  },
  {
   "cell_type": "code",
   "execution_count": 625,
   "id": "d4843e33",
   "metadata": {},
   "outputs": [
    {
     "name": "stdout",
     "output_type": "stream",
     "text": [
      "Memory usage: 3106.57421875 MB\n"
     ]
    }
   ],
   "source": [
    "import resource\n",
    "# Get memory usage information (in bytes)\n",
    "mem_usage = resource.getrusage(resource.RUSAGE_SELF).ru_maxrss\n",
    "\n",
    "# Convert memory usage to megabytes (MB)\n",
    "mem_usage_mb = mem_usage / (1024 ** 2)\n",
    "\n",
    "print(\"Memory usage:\", mem_usage_mb, \"MB\")"
   ]
  },
  {
   "cell_type": "code",
   "execution_count": 626,
   "id": "2b90a161",
   "metadata": {},
   "outputs": [
    {
     "name": "stdout",
     "output_type": "stream",
     "text": [
      "Number of CPUs: 8\n",
      "Dataset exists and was loaded successfully.\n"
     ]
    }
   ],
   "source": [
    "import gensim.downloader as api\n",
    "# from gensim.models.word2vec import Word2Vec\n",
    "\n",
    "# An API (Application Programming Interface) provides a structured and standardized way\n",
    "# for developers to interact with and access the functionality or resources within a product,\n",
    "# program, or system.\n",
    "\n",
    "from multiprocessing import cpu_count\n",
    "num_cpus = cpu_count()\n",
    "print(\"Number of CPUs:\", num_cpus)\n",
    "\n",
    "\n",
    "if 'dataset' in locals() or 'dataset' in globals():\n",
    "    pass\n",
    "else:\n",
    "    dataset = None\n",
    "    \n",
    "if dataset is not None:\n",
    "    print(\"Dataset exists and was loaded successfully.\")\n",
    "else:\n",
    "    dataset = api.load(\"word2vec-google-news-300\") if dataset is None else dataset\n"
   ]
  },
  {
   "cell_type": "code",
   "execution_count": 627,
   "id": "fc614622",
   "metadata": {},
   "outputs": [
    {
     "name": "stdout",
     "output_type": "stream",
     "text": [
      "Memory usage: 3106.57421875 MB\n"
     ]
    }
   ],
   "source": [
    "# Get memory usage information (in bytes)\n",
    "mem_usage = resource.getrusage(resource.RUSAGE_SELF).ru_maxrss\n",
    "# Convert memory usage to megabytes (MB)\n",
    "mem_usage_mb = mem_usage / (1024 ** 2)\n",
    "print(\"Memory usage:\", mem_usage_mb, \"MB\")"
   ]
  },
  {
   "cell_type": "code",
   "execution_count": 628,
   "id": "8f5b19cb",
   "metadata": {},
   "outputs": [
    {
     "data": {
      "text/plain": [
       "numpy.ndarray"
      ]
     },
     "execution_count": 628,
     "metadata": {},
     "output_type": "execute_result"
    },
    {
     "data": {
      "text/plain": [
       "array([-0.28710938, -0.00427246, -0.20898438,  0.07226562,  0.09082031,\n",
       "       -0.40234375,  0.18359375,  0.12597656,  0.09814453,  0.234375  ],\n",
       "      dtype=float32)"
      ]
     },
     "execution_count": 628,
     "metadata": {},
     "output_type": "execute_result"
    }
   ],
   "source": [
    "type(dataset['Widow'])\n",
    "dataset['Graduation'][0:10]"
   ]
  },
  {
   "cell_type": "code",
   "execution_count": 629,
   "id": "30ddbfca",
   "metadata": {},
   "outputs": [
    {
     "data": {
      "text/plain": [
       "'01-01-2013'"
      ]
     },
     "execution_count": 629,
     "metadata": {},
     "output_type": "execute_result"
    },
    {
     "data": {
      "text/html": [
       "<div>\n",
       "<style scoped>\n",
       "    .dataframe tbody tr th:only-of-type {\n",
       "        vertical-align: middle;\n",
       "    }\n",
       "\n",
       "    .dataframe tbody tr th {\n",
       "        vertical-align: top;\n",
       "    }\n",
       "\n",
       "    .dataframe thead th {\n",
       "        text-align: right;\n",
       "    }\n",
       "</style>\n",
       "<table border=\"1\" class=\"dataframe\">\n",
       "  <thead>\n",
       "    <tr style=\"text-align: right;\">\n",
       "      <th></th>\n",
       "      <th>Dt_Customer_rel</th>\n",
       "    </tr>\n",
       "  </thead>\n",
       "  <tbody>\n",
       "    <tr>\n",
       "      <th>0</th>\n",
       "      <td>92 days 00:00:00</td>\n",
       "    </tr>\n",
       "    <tr>\n",
       "      <th>1</th>\n",
       "      <td>938 days 00:00:00</td>\n",
       "    </tr>\n",
       "    <tr>\n",
       "      <th>2</th>\n",
       "      <td>591 days 00:00:00</td>\n",
       "    </tr>\n",
       "    <tr>\n",
       "      <th>3</th>\n",
       "      <td>998 days 00:00:00</td>\n",
       "    </tr>\n",
       "    <tr>\n",
       "      <th>4</th>\n",
       "      <td>742 days 00:00:00</td>\n",
       "    </tr>\n",
       "  </tbody>\n",
       "</table>\n",
       "</div>"
      ],
      "text/plain": [
       "     Dt_Customer_rel\n",
       "0   92 days 00:00:00\n",
       "1  938 days 00:00:00\n",
       "2  591 days 00:00:00\n",
       "3  998 days 00:00:00\n",
       "4  742 days 00:00:00"
      ]
     },
     "execution_count": 629,
     "metadata": {},
     "output_type": "execute_result"
    },
    {
     "data": {
      "text/plain": [
       "0     92\n",
       "1    938\n",
       "2    591\n",
       "3    998\n",
       "4    742\n",
       "Name: Dt_Customer_rel, dtype: int64"
      ]
     },
     "execution_count": 629,
     "metadata": {},
     "output_type": "execute_result"
    },
    {
     "data": {
      "text/plain": [
       "0     92\n",
       "1    938\n",
       "2    591\n",
       "3    998\n",
       "4    742\n",
       "Name: Dt_Customer_rel, dtype: int64"
      ]
     },
     "execution_count": 629,
     "metadata": {},
     "output_type": "execute_result"
    }
   ],
   "source": [
    "    data['Dt_Customer'].min()\n",
    "    data['Dt_Customer']= pd.to_datetime(arg=data['Dt_Customer'], infer_datetime_format= True)\n",
    "    #Checking transformation:\n",
    "    # data.dtypes\n",
    "    # Creating an empty column to receive the transformed values of 'Dt_Customer':\n",
    "    data['Dt_Customer_rel']= np.nan\n",
    "    # For each client, attribute the value of 'Dt_Customer_rel' as the difference in days in relation to the oldest date of registration:\n",
    "    for i in range(0, data.shape[0]):\n",
    "        data['Dt_Customer_rel'][i]= abs(data['Dt_Customer'][i]-(data['Dt_Customer'].min()))\n",
    "\n",
    "    pd.DataFrame(data['Dt_Customer_rel']).head()\n",
    "    data['Dt_Customer_rel']= (data['Dt_Customer_rel']/np.timedelta64(1, 'D')).astype(int)\n",
    "    #Checking:\n",
    "    data['Dt_Customer_rel'].head()\n",
    "    #Dropping the original date column of the dataset:\n",
    "    data.drop('Dt_Customer', axis=1, inplace=True)\n",
    "\n",
    "#     data['Dt_Customer_rel']= scaler.fit_transform(data['Dt_Customer_rel'].values.reshape(-1,1))\n",
    "    # #Checking:\n",
    "    data['Dt_Customer_rel'].head()\n",
    "    "
   ]
  },
  {
   "cell_type": "code",
   "execution_count": 630,
   "id": "2429f813",
   "metadata": {},
   "outputs": [
    {
     "data": {
      "text/html": [
       "<div>\n",
       "<style scoped>\n",
       "    .dataframe tbody tr th:only-of-type {\n",
       "        vertical-align: middle;\n",
       "    }\n",
       "\n",
       "    .dataframe tbody tr th {\n",
       "        vertical-align: top;\n",
       "    }\n",
       "\n",
       "    .dataframe thead th {\n",
       "        text-align: right;\n",
       "    }\n",
       "</style>\n",
       "<table border=\"1\" class=\"dataframe\">\n",
       "  <thead>\n",
       "    <tr style=\"text-align: right;\">\n",
       "      <th></th>\n",
       "      <th>Year_Birth</th>\n",
       "      <th>Education</th>\n",
       "      <th>Marital_Status</th>\n",
       "      <th>Income</th>\n",
       "      <th>Kidhome</th>\n",
       "      <th>Teenhome</th>\n",
       "      <th>Recency</th>\n",
       "      <th>MntWines</th>\n",
       "      <th>MntFruits</th>\n",
       "      <th>MntMeatProducts</th>\n",
       "      <th>...</th>\n",
       "      <th>NumStorePurchases</th>\n",
       "      <th>NumWebVisitsMonth</th>\n",
       "      <th>AcceptedCmp3</th>\n",
       "      <th>AcceptedCmp4</th>\n",
       "      <th>AcceptedCmp5</th>\n",
       "      <th>AcceptedCmp1</th>\n",
       "      <th>AcceptedCmp2</th>\n",
       "      <th>Complain</th>\n",
       "      <th>Response</th>\n",
       "      <th>Dt_Customer_rel</th>\n",
       "    </tr>\n",
       "  </thead>\n",
       "  <tbody>\n",
       "    <tr>\n",
       "      <th>0</th>\n",
       "      <td>1957</td>\n",
       "      <td>Graduation</td>\n",
       "      <td>Single</td>\n",
       "      <td>58138.0</td>\n",
       "      <td>0</td>\n",
       "      <td>0</td>\n",
       "      <td>58</td>\n",
       "      <td>635</td>\n",
       "      <td>88</td>\n",
       "      <td>546</td>\n",
       "      <td>...</td>\n",
       "      <td>4</td>\n",
       "      <td>7</td>\n",
       "      <td>0</td>\n",
       "      <td>0</td>\n",
       "      <td>0</td>\n",
       "      <td>0</td>\n",
       "      <td>0</td>\n",
       "      <td>0</td>\n",
       "      <td>1</td>\n",
       "      <td>92</td>\n",
       "    </tr>\n",
       "    <tr>\n",
       "      <th>1</th>\n",
       "      <td>1954</td>\n",
       "      <td>Graduation</td>\n",
       "      <td>Single</td>\n",
       "      <td>46344.0</td>\n",
       "      <td>1</td>\n",
       "      <td>1</td>\n",
       "      <td>38</td>\n",
       "      <td>11</td>\n",
       "      <td>1</td>\n",
       "      <td>6</td>\n",
       "      <td>...</td>\n",
       "      <td>2</td>\n",
       "      <td>5</td>\n",
       "      <td>0</td>\n",
       "      <td>0</td>\n",
       "      <td>0</td>\n",
       "      <td>0</td>\n",
       "      <td>0</td>\n",
       "      <td>0</td>\n",
       "      <td>0</td>\n",
       "      <td>938</td>\n",
       "    </tr>\n",
       "    <tr>\n",
       "      <th>2</th>\n",
       "      <td>1965</td>\n",
       "      <td>Graduation</td>\n",
       "      <td>Together</td>\n",
       "      <td>71613.0</td>\n",
       "      <td>0</td>\n",
       "      <td>0</td>\n",
       "      <td>26</td>\n",
       "      <td>426</td>\n",
       "      <td>49</td>\n",
       "      <td>127</td>\n",
       "      <td>...</td>\n",
       "      <td>10</td>\n",
       "      <td>4</td>\n",
       "      <td>0</td>\n",
       "      <td>0</td>\n",
       "      <td>0</td>\n",
       "      <td>0</td>\n",
       "      <td>0</td>\n",
       "      <td>0</td>\n",
       "      <td>0</td>\n",
       "      <td>591</td>\n",
       "    </tr>\n",
       "    <tr>\n",
       "      <th>3</th>\n",
       "      <td>1984</td>\n",
       "      <td>Graduation</td>\n",
       "      <td>Together</td>\n",
       "      <td>26646.0</td>\n",
       "      <td>1</td>\n",
       "      <td>0</td>\n",
       "      <td>26</td>\n",
       "      <td>11</td>\n",
       "      <td>4</td>\n",
       "      <td>20</td>\n",
       "      <td>...</td>\n",
       "      <td>4</td>\n",
       "      <td>6</td>\n",
       "      <td>0</td>\n",
       "      <td>0</td>\n",
       "      <td>0</td>\n",
       "      <td>0</td>\n",
       "      <td>0</td>\n",
       "      <td>0</td>\n",
       "      <td>0</td>\n",
       "      <td>998</td>\n",
       "    </tr>\n",
       "    <tr>\n",
       "      <th>4</th>\n",
       "      <td>1981</td>\n",
       "      <td>PhD</td>\n",
       "      <td>Married</td>\n",
       "      <td>58293.0</td>\n",
       "      <td>1</td>\n",
       "      <td>0</td>\n",
       "      <td>94</td>\n",
       "      <td>173</td>\n",
       "      <td>43</td>\n",
       "      <td>118</td>\n",
       "      <td>...</td>\n",
       "      <td>6</td>\n",
       "      <td>5</td>\n",
       "      <td>0</td>\n",
       "      <td>0</td>\n",
       "      <td>0</td>\n",
       "      <td>0</td>\n",
       "      <td>0</td>\n",
       "      <td>0</td>\n",
       "      <td>0</td>\n",
       "      <td>742</td>\n",
       "    </tr>\n",
       "  </tbody>\n",
       "</table>\n",
       "<p>5 rows × 26 columns</p>\n",
       "</div>"
      ],
      "text/plain": [
       "   Year_Birth   Education Marital_Status   Income  Kidhome  Teenhome  Recency  \\\n",
       "0        1957  Graduation         Single  58138.0        0         0       58   \n",
       "1        1954  Graduation         Single  46344.0        1         1       38   \n",
       "2        1965  Graduation       Together  71613.0        0         0       26   \n",
       "3        1984  Graduation       Together  26646.0        1         0       26   \n",
       "4        1981         PhD        Married  58293.0        1         0       94   \n",
       "\n",
       "   MntWines  MntFruits  MntMeatProducts  ...  NumStorePurchases  \\\n",
       "0       635         88              546  ...                  4   \n",
       "1        11          1                6  ...                  2   \n",
       "2       426         49              127  ...                 10   \n",
       "3        11          4               20  ...                  4   \n",
       "4       173         43              118  ...                  6   \n",
       "\n",
       "   NumWebVisitsMonth  AcceptedCmp3  AcceptedCmp4  AcceptedCmp5  AcceptedCmp1  \\\n",
       "0                  7             0             0             0             0   \n",
       "1                  5             0             0             0             0   \n",
       "2                  4             0             0             0             0   \n",
       "3                  6             0             0             0             0   \n",
       "4                  5             0             0             0             0   \n",
       "\n",
       "   AcceptedCmp2  Complain  Response  Dt_Customer_rel  \n",
       "0             0         0         1               92  \n",
       "1             0         0         0              938  \n",
       "2             0         0         0              591  \n",
       "3             0         0         0              998  \n",
       "4             0         0         0              742  \n",
       "\n",
       "[5 rows x 26 columns]"
      ]
     },
     "execution_count": 630,
     "metadata": {},
     "output_type": "execute_result"
    }
   ],
   "source": [
    "data.head()"
   ]
  },
  {
   "cell_type": "code",
   "execution_count": 631,
   "id": "4eacea0e",
   "metadata": {},
   "outputs": [],
   "source": [
    "clean_data = data.copy()"
   ]
  },
  {
   "cell_type": "code",
   "execution_count": 632,
   "id": "cc8c0743",
   "metadata": {},
   "outputs": [
    {
     "data": {
      "text/html": [
       "<div>\n",
       "<style scoped>\n",
       "    .dataframe tbody tr th:only-of-type {\n",
       "        vertical-align: middle;\n",
       "    }\n",
       "\n",
       "    .dataframe tbody tr th {\n",
       "        vertical-align: top;\n",
       "    }\n",
       "\n",
       "    .dataframe thead th {\n",
       "        text-align: right;\n",
       "    }\n",
       "</style>\n",
       "<table border=\"1\" class=\"dataframe\">\n",
       "  <thead>\n",
       "    <tr style=\"text-align: right;\">\n",
       "      <th></th>\n",
       "      <th>Year_Birth</th>\n",
       "      <th>Education</th>\n",
       "      <th>Marital_Status</th>\n",
       "      <th>Income</th>\n",
       "      <th>Kidhome</th>\n",
       "      <th>Teenhome</th>\n",
       "      <th>Recency</th>\n",
       "      <th>MntWines</th>\n",
       "      <th>MntFruits</th>\n",
       "      <th>MntMeatProducts</th>\n",
       "      <th>...</th>\n",
       "      <th>NumStorePurchases</th>\n",
       "      <th>NumWebVisitsMonth</th>\n",
       "      <th>AcceptedCmp3</th>\n",
       "      <th>AcceptedCmp4</th>\n",
       "      <th>AcceptedCmp5</th>\n",
       "      <th>AcceptedCmp1</th>\n",
       "      <th>AcceptedCmp2</th>\n",
       "      <th>Complain</th>\n",
       "      <th>Response</th>\n",
       "      <th>Dt_Customer_rel</th>\n",
       "    </tr>\n",
       "  </thead>\n",
       "  <tbody>\n",
       "    <tr>\n",
       "      <th>0</th>\n",
       "      <td>1957</td>\n",
       "      <td>Graduation</td>\n",
       "      <td>Single</td>\n",
       "      <td>58138.0</td>\n",
       "      <td>0</td>\n",
       "      <td>0</td>\n",
       "      <td>58</td>\n",
       "      <td>635</td>\n",
       "      <td>88</td>\n",
       "      <td>546</td>\n",
       "      <td>...</td>\n",
       "      <td>4</td>\n",
       "      <td>7</td>\n",
       "      <td>0</td>\n",
       "      <td>0</td>\n",
       "      <td>0</td>\n",
       "      <td>0</td>\n",
       "      <td>0</td>\n",
       "      <td>0</td>\n",
       "      <td>1</td>\n",
       "      <td>92</td>\n",
       "    </tr>\n",
       "    <tr>\n",
       "      <th>1</th>\n",
       "      <td>1954</td>\n",
       "      <td>Graduation</td>\n",
       "      <td>Single</td>\n",
       "      <td>46344.0</td>\n",
       "      <td>1</td>\n",
       "      <td>1</td>\n",
       "      <td>38</td>\n",
       "      <td>11</td>\n",
       "      <td>1</td>\n",
       "      <td>6</td>\n",
       "      <td>...</td>\n",
       "      <td>2</td>\n",
       "      <td>5</td>\n",
       "      <td>0</td>\n",
       "      <td>0</td>\n",
       "      <td>0</td>\n",
       "      <td>0</td>\n",
       "      <td>0</td>\n",
       "      <td>0</td>\n",
       "      <td>0</td>\n",
       "      <td>938</td>\n",
       "    </tr>\n",
       "    <tr>\n",
       "      <th>2</th>\n",
       "      <td>1965</td>\n",
       "      <td>Graduation</td>\n",
       "      <td>Together</td>\n",
       "      <td>71613.0</td>\n",
       "      <td>0</td>\n",
       "      <td>0</td>\n",
       "      <td>26</td>\n",
       "      <td>426</td>\n",
       "      <td>49</td>\n",
       "      <td>127</td>\n",
       "      <td>...</td>\n",
       "      <td>10</td>\n",
       "      <td>4</td>\n",
       "      <td>0</td>\n",
       "      <td>0</td>\n",
       "      <td>0</td>\n",
       "      <td>0</td>\n",
       "      <td>0</td>\n",
       "      <td>0</td>\n",
       "      <td>0</td>\n",
       "      <td>591</td>\n",
       "    </tr>\n",
       "    <tr>\n",
       "      <th>3</th>\n",
       "      <td>1984</td>\n",
       "      <td>Graduation</td>\n",
       "      <td>Together</td>\n",
       "      <td>26646.0</td>\n",
       "      <td>1</td>\n",
       "      <td>0</td>\n",
       "      <td>26</td>\n",
       "      <td>11</td>\n",
       "      <td>4</td>\n",
       "      <td>20</td>\n",
       "      <td>...</td>\n",
       "      <td>4</td>\n",
       "      <td>6</td>\n",
       "      <td>0</td>\n",
       "      <td>0</td>\n",
       "      <td>0</td>\n",
       "      <td>0</td>\n",
       "      <td>0</td>\n",
       "      <td>0</td>\n",
       "      <td>0</td>\n",
       "      <td>998</td>\n",
       "    </tr>\n",
       "    <tr>\n",
       "      <th>4</th>\n",
       "      <td>1981</td>\n",
       "      <td>PhD</td>\n",
       "      <td>Married</td>\n",
       "      <td>58293.0</td>\n",
       "      <td>1</td>\n",
       "      <td>0</td>\n",
       "      <td>94</td>\n",
       "      <td>173</td>\n",
       "      <td>43</td>\n",
       "      <td>118</td>\n",
       "      <td>...</td>\n",
       "      <td>6</td>\n",
       "      <td>5</td>\n",
       "      <td>0</td>\n",
       "      <td>0</td>\n",
       "      <td>0</td>\n",
       "      <td>0</td>\n",
       "      <td>0</td>\n",
       "      <td>0</td>\n",
       "      <td>0</td>\n",
       "      <td>742</td>\n",
       "    </tr>\n",
       "  </tbody>\n",
       "</table>\n",
       "<p>5 rows × 26 columns</p>\n",
       "</div>"
      ],
      "text/plain": [
       "   Year_Birth   Education Marital_Status   Income  Kidhome  Teenhome  Recency  \\\n",
       "0        1957  Graduation         Single  58138.0        0         0       58   \n",
       "1        1954  Graduation         Single  46344.0        1         1       38   \n",
       "2        1965  Graduation       Together  71613.0        0         0       26   \n",
       "3        1984  Graduation       Together  26646.0        1         0       26   \n",
       "4        1981         PhD        Married  58293.0        1         0       94   \n",
       "\n",
       "   MntWines  MntFruits  MntMeatProducts  ...  NumStorePurchases  \\\n",
       "0       635         88              546  ...                  4   \n",
       "1        11          1                6  ...                  2   \n",
       "2       426         49              127  ...                 10   \n",
       "3        11          4               20  ...                  4   \n",
       "4       173         43              118  ...                  6   \n",
       "\n",
       "   NumWebVisitsMonth  AcceptedCmp3  AcceptedCmp4  AcceptedCmp5  AcceptedCmp1  \\\n",
       "0                  7             0             0             0             0   \n",
       "1                  5             0             0             0             0   \n",
       "2                  4             0             0             0             0   \n",
       "3                  6             0             0             0             0   \n",
       "4                  5             0             0             0             0   \n",
       "\n",
       "   AcceptedCmp2  Complain  Response  Dt_Customer_rel  \n",
       "0             0         0         1               92  \n",
       "1             0         0         0              938  \n",
       "2             0         0         0              591  \n",
       "3             0         0         0              998  \n",
       "4             0         0         0              742  \n",
       "\n",
       "[5 rows x 26 columns]"
      ]
     },
     "execution_count": 632,
     "metadata": {},
     "output_type": "execute_result"
    }
   ],
   "source": [
    "clean_data.head()"
   ]
  },
  {
   "cell_type": "code",
   "execution_count": 759,
   "id": "bbdd7a4f",
   "metadata": {},
   "outputs": [
    {
     "name": "stdout",
     "output_type": "stream",
     "text": [
      "Iteration 1\n",
      "EMBEDDED MARITAL STATUS DONE\n",
      "Index(['Year_Birth', 'Education', 'Income', 'Kidhome', 'Teenhome', 'Recency',\n",
      "       'MntWines', 'MntFruits', 'MntMeatProducts', 'MntFishProducts',\n",
      "       ...\n",
      "       'Marital_Status_290', 'Marital_Status_291', 'Marital_Status_292',\n",
      "       'Marital_Status_293', 'Marital_Status_294', 'Marital_Status_295',\n",
      "       'Marital_Status_296', 'Marital_Status_297', 'Marital_Status_298',\n",
      "       'Marital_Status_299'],\n",
      "      dtype='object', length=325)\n",
      "EMBEDDED EDUCATION DONE\n",
      "Index(['Year_Birth', 'Income', 'Kidhome', 'Teenhome', 'Recency', 'MntWines',\n",
      "       'MntFruits', 'MntMeatProducts', 'MntFishProducts', 'MntSweetProducts',\n",
      "       ...\n",
      "       'Education_290', 'Education_291', 'Education_292', 'Education_293',\n",
      "       'Education_294', 'Education_295', 'Education_296', 'Education_297',\n",
      "       'Education_298', 'Education_299'],\n",
      "      dtype='object', length=624)\n"
     ]
    },
    {
     "data": {
      "text/plain": [
       "array([0.39534001, 0.19437815])"
      ]
     },
     "execution_count": 759,
     "metadata": {},
     "output_type": "execute_result"
    },
    {
     "name": "stdout",
     "output_type": "stream",
     "text": [
      "Varianza explicada en los dos primeros componentes: 0.5897181579264418\n",
      "Con 11 componentes representamos el 0.99% de la varianza explicada por los componentes.\n",
      "Inflection point: 4, Inertia: 48407.90\n"
     ]
    },
    {
     "data": {
      "text/plain": [
       "RangeIndex(start=0, stop=11, step=1)"
      ]
     },
     "execution_count": 759,
     "metadata": {},
     "output_type": "execute_result"
    },
    {
     "name": "stdout",
     "output_type": "stream",
     "text": [
      "Coeficiente de silueta promedio: 0.50 %\n",
      "CH Score: 1522.71\n"
     ]
    },
    {
     "data": {
      "image/png": "[encoded data removed]",
      "text/plain": [
       "<Figure size 1000x600 with 1 Axes>"
      ]
     },
     "metadata": {},
     "output_type": "display_data"
    },
    {
     "data": {
      "text/plain": [
       "SilhouetteVisualizer(ax=<AxesSubplot:title={'center':'Silhouette Plot of KMeans Clustering for 2240 Samples in 4 Centers'}, xlabel='silhouette coefficient values', ylabel='cluster label'>,\n",
       "                     colors='yellowbrick',\n",
       "                     estimator=KMeans(n_clusters=4, random_state=2))"
      ]
     },
     "execution_count": 759,
     "metadata": {},
     "output_type": "execute_result"
    },
    {
     "name": "stdout",
     "output_type": "stream",
     "text": [
      "Para 2 clusters, o score de silhueta médio é 0.41\n",
      "Para 2 clusters, o score CH é 1467.31\n",
      "Para 3 clusters, o score de silhueta médio é 0.50\n",
      "Para 3 clusters, o score CH é 1612.88\n",
      "Para 4 clusters, o score de silhueta médio é 0.48\n",
      "Para 4 clusters, o score CH é 1486.60\n",
      "Para 5 clusters, o score de silhueta médio é 0.59\n",
      "Para 5 clusters, o score CH é 1564.64\n",
      "Para 6 clusters, o score de silhueta médio é 0.61\n",
      "Para 6 clusters, o score CH é 1598.28\n",
      "Para 7 clusters, o score de silhueta médio é 0.62\n",
      "Para 7 clusters, o score CH é 1655.54\n",
      "Para 8 clusters, o score de silhueta médio é 0.65\n",
      "Para 8 clusters, o score CH é 1814.63\n",
      "Para 9 clusters, o score de silhueta médio é 0.70\n",
      "Para 9 clusters, o score CH é 2021.61\n",
      "Para 10 clusters, o score de silhueta médio é 0.76\n",
      "Para 10 clusters, o score CH é 2375.31\n",
      "Iteration 1 : Word2Vec, Word2Vec\n",
      "\n",
      "Iteration 2\n",
      "EMBEDDED MARITAL STATUS DONE\n",
      "Index(['Year_Birth', 'Education', 'Income', 'Kidhome', 'Teenhome', 'Recency',\n",
      "       'MntWines', 'MntFruits', 'MntMeatProducts', 'MntFishProducts',\n",
      "       ...\n",
      "       'Marital_Status_290', 'Marital_Status_291', 'Marital_Status_292',\n",
      "       'Marital_Status_293', 'Marital_Status_294', 'Marital_Status_295',\n",
      "       'Marital_Status_296', 'Marital_Status_297', 'Marital_Status_298',\n",
      "       'Marital_Status_299'],\n",
      "      dtype='object', length=325)\n"
     ]
    },
    {
     "data": {
      "text/plain": [
       "0    1.0\n",
       "1    1.0\n",
       "2    1.0\n",
       "3    1.0\n",
       "4    4.0\n",
       "Name: Education, dtype: float64"
      ]
     },
     "execution_count": 759,
     "metadata": {},
     "output_type": "execute_result"
    },
    {
     "data": {
      "text/plain": [
       "Index(['Year_Birth', 'Education', 'Income', 'Kidhome', 'Teenhome', 'Recency',\n",
       "       'MntWines', 'MntFruits', 'MntMeatProducts', 'MntFishProducts',\n",
       "       ...\n",
       "       'Marital_Status_290', 'Marital_Status_291', 'Marital_Status_292',\n",
       "       'Marital_Status_293', 'Marital_Status_294', 'Marital_Status_295',\n",
       "       'Marital_Status_296', 'Marital_Status_297', 'Marital_Status_298',\n",
       "       'Marital_Status_299'],\n",
       "      dtype='object', length=325)"
      ]
     },
     "execution_count": 759,
     "metadata": {},
     "output_type": "execute_result"
    },
    {
     "data": {
      "text/plain": [
       "array([0.42504098, 0.32050577])"
      ]
     },
     "execution_count": 759,
     "metadata": {},
     "output_type": "execute_result"
    },
    {
     "name": "stdout",
     "output_type": "stream",
     "text": [
      "Varianza explicada en los dos primeros componentes: 0.745546745622149\n",
      "Con 16 componentes representamos el 0.99% de la varianza explicada por los componentes.\n",
      "Inflection point: 4, Inertia: 7128.60\n"
     ]
    },
    {
     "data": {
      "text/plain": [
       "RangeIndex(start=0, stop=16, step=1)"
      ]
     },
     "execution_count": 759,
     "metadata": {},
     "output_type": "execute_result"
    },
    {
     "name": "stdout",
     "output_type": "stream",
     "text": [
      "Coeficiente de silueta promedio: 0.78 %\n",
      "CH Score: 5314.25\n"
     ]
    },
    {
     "data": {
      "image/png": "[encoded data removed]",
      "text/plain": [
       "<Figure size 800x550 with 1 Axes>"
      ]
     },
     "metadata": {},
     "output_type": "display_data"
    },
    {
     "data": {
      "text/plain": [
       "SilhouetteVisualizer(ax=<AxesSubplot:title={'center':'Silhouette Plot of KMeans Clustering for 2240 Samples in 4 Centers'}, xlabel='silhouette coefficient values', ylabel='cluster label'>,\n",
       "                     colors='yellowbrick',\n",
       "                     estimator=KMeans(n_clusters=4, random_state=2))"
      ]
     },
     "execution_count": 759,
     "metadata": {},
     "output_type": "execute_result"
    },
    {
     "name": "stdout",
     "output_type": "stream",
     "text": [
      "Para 2 clusters, o score de silhueta médio é 0.48\n",
      "Para 2 clusters, o score CH é 1395.50\n",
      "Para 3 clusters, o score de silhueta médio é 0.69\n",
      "Para 3 clusters, o score CH é 3097.62\n",
      "Para 4 clusters, o score de silhueta médio é 0.78\n",
      "Para 4 clusters, o score CH é 5314.25\n",
      "Para 5 clusters, o score de silhueta médio é 0.83\n",
      "Para 5 clusters, o score CH é 12775.17\n",
      "Para 6 clusters, o score de silhueta médio é 0.83\n",
      "Para 6 clusters, o score CH é 11502.81\n",
      "Para 7 clusters, o score de silhueta médio é 0.81\n",
      "Para 7 clusters, o score CH é 10891.23\n",
      "Para 8 clusters, o score de silhueta médio é 0.71\n",
      "Para 8 clusters, o score CH é 11243.34\n",
      "Para 9 clusters, o score de silhueta médio é 0.74\n",
      "Para 9 clusters, o score CH é 9807.15\n",
      "Para 10 clusters, o score de silhueta médio é 0.74\n",
      "Para 10 clusters, o score CH é 9548.55\n",
      "Iteration 2 : Word2Vec, Ordinal\n",
      "\n",
      "Iteration 3\n",
      "EMBEDDED MARITAL STATUS DONE\n",
      "Index(['Year_Birth', 'Education', 'Income', 'Kidhome', 'Teenhome', 'Recency',\n",
      "       'MntWines', 'MntFruits', 'MntMeatProducts', 'MntFishProducts',\n",
      "       ...\n",
      "       'Marital_Status_290', 'Marital_Status_291', 'Marital_Status_292',\n",
      "       'Marital_Status_293', 'Marital_Status_294', 'Marital_Status_295',\n",
      "       'Marital_Status_296', 'Marital_Status_297', 'Marital_Status_298',\n",
      "       'Marital_Status_299'],\n",
      "      dtype='object', length=325)\n",
      "ONE HOT ENCODING FOR EDUCATION IS DONE\n"
     ]
    },
    {
     "data": {
      "text/plain": [
       "Index(['Year_Birth', 'Education_1', 'Education_2', 'Education_3',\n",
       "       'Education_4', 'Education_5', 'Income', 'Kidhome', 'Teenhome',\n",
       "       'Recency',\n",
       "       ...\n",
       "       'Marital_Status_290', 'Marital_Status_291', 'Marital_Status_292',\n",
       "       'Marital_Status_293', 'Marital_Status_294', 'Marital_Status_295',\n",
       "       'Marital_Status_296', 'Marital_Status_297', 'Marital_Status_298',\n",
       "       'Marital_Status_299'],\n",
       "      dtype='object', length=329)"
      ]
     },
     "execution_count": 759,
     "metadata": {},
     "output_type": "execute_result"
    },
    {
     "data": {
      "text/plain": [
       "array([0.41571872, 0.31348051])"
      ]
     },
     "execution_count": 759,
     "metadata": {},
     "output_type": "execute_result"
    },
    {
     "name": "stdout",
     "output_type": "stream",
     "text": [
      "Varianza explicada en los dos primeros componentes: 0.7291992291609111\n",
      "Con 18 componentes representamos el 0.99% de la varianza explicada por los componentes.\n",
      "Inflection point: 4, Inertia: 7926.59\n"
     ]
    },
    {
     "data": {
      "text/plain": [
       "RangeIndex(start=0, stop=18, step=1)"
      ]
     },
     "execution_count": 759,
     "metadata": {},
     "output_type": "execute_result"
    },
    {
     "name": "stdout",
     "output_type": "stream",
     "text": [
      "Coeficiente de silueta promedio: 0.74 %\n",
      "CH Score: 4797.20\n"
     ]
    },
    {
     "data": {
      "image/png": "[encoded data removed]",
      "text/plain": [
       "<Figure size 800x550 with 1 Axes>"
      ]
     },
     "metadata": {},
     "output_type": "display_data"
    },
    {
     "data": {
      "text/plain": [
       "SilhouetteVisualizer(ax=<AxesSubplot:title={'center':'Silhouette Plot of KMeans Clustering for 2240 Samples in 4 Centers'}, xlabel='silhouette coefficient values', ylabel='cluster label'>,\n",
       "                     colors='yellowbrick',\n",
       "                     estimator=KMeans(n_clusters=4, random_state=2))"
      ]
     },
     "execution_count": 759,
     "metadata": {},
     "output_type": "execute_result"
    },
    {
     "name": "stdout",
     "output_type": "stream",
     "text": [
      "Para 2 clusters, o score de silhueta médio é 0.46\n",
      "Para 2 clusters, o score CH é 1348.70\n",
      "Para 3 clusters, o score de silhueta médio é 0.66\n",
      "Para 3 clusters, o score CH é 2870.39\n",
      "Para 4 clusters, o score de silhueta médio é 0.74\n",
      "Para 4 clusters, o score CH é 4797.20\n",
      "Para 5 clusters, o score de silhueta médio é 0.78\n",
      "Para 5 clusters, o score CH é 8523.56\n",
      "Para 6 clusters, o score de silhueta médio é 0.77\n",
      "Para 6 clusters, o score CH é 8001.07\n",
      "Para 7 clusters, o score de silhueta médio é 0.67\n",
      "Para 7 clusters, o score CH é 7064.59\n",
      "Para 8 clusters, o score de silhueta médio é 0.73\n",
      "Para 8 clusters, o score CH é 6615.67\n",
      "Para 9 clusters, o score de silhueta médio é 0.71\n",
      "Para 9 clusters, o score CH é 6257.47\n",
      "Para 10 clusters, o score de silhueta médio é 0.73\n",
      "Para 10 clusters, o score CH é 6783.41\n",
      "Iteration 3 : Word2Vec, One-hot\n",
      "\n",
      "Iteration 4\n"
     ]
    },
    {
     "data": {
      "text/plain": [
       "Index(['Year_Birth', 'Education', 'Marital_Status', 'Income', 'Kidhome',\n",
       "       'Teenhome', 'Recency', 'MntWines', 'MntFruits', 'MntMeatProducts',\n",
       "       'MntFishProducts', 'MntSweetProducts', 'MntGoldProds',\n",
       "       'NumDealsPurchases', 'NumWebPurchases', 'NumCatalogPurchases',\n",
       "       'NumStorePurchases', 'NumWebVisitsMonth', 'AcceptedCmp3',\n",
       "       'AcceptedCmp4', 'AcceptedCmp5', 'AcceptedCmp1', 'AcceptedCmp2',\n",
       "       'Complain', 'Response', 'Dt_Customer_rel'],\n",
       "      dtype='object')"
      ]
     },
     "execution_count": 759,
     "metadata": {},
     "output_type": "execute_result"
    },
    {
     "data": {
      "text/plain": [
       "0    0.0\n",
       "1    0.0\n",
       "2    1.0\n",
       "3    1.0\n",
       "4    2.0\n",
       "Name: Marital_Status, dtype: float64"
      ]
     },
     "execution_count": 759,
     "metadata": {},
     "output_type": "execute_result"
    },
    {
     "name": "stdout",
     "output_type": "stream",
     "text": [
      "EMBEDDED EDUCATION DONE\n",
      "Index(['Year_Birth', 'Marital_Status', 'Income', 'Kidhome', 'Teenhome',\n",
      "       'Recency', 'MntWines', 'MntFruits', 'MntMeatProducts',\n",
      "       'MntFishProducts',\n",
      "       ...\n",
      "       'Education_290', 'Education_291', 'Education_292', 'Education_293',\n",
      "       'Education_294', 'Education_295', 'Education_296', 'Education_297',\n",
      "       'Education_298', 'Education_299'],\n",
      "      dtype='object', length=325)\n"
     ]
    },
    {
     "data": {
      "text/plain": [
       "array([0.62445651, 0.30594783])"
      ]
     },
     "execution_count": 759,
     "metadata": {},
     "output_type": "execute_result"
    },
    {
     "name": "stdout",
     "output_type": "stream",
     "text": [
      "Varianza explicada en los dos primeros componentes: 0.9304043421774404\n",
      "Con 8 componentes representamos el 0.99% de la varianza explicada por los componentes.\n",
      "Inflection point: 3, Inertia: 6540.59\n"
     ]
    },
    {
     "data": {
      "text/plain": [
       "RangeIndex(start=0, stop=8, step=1)"
      ]
     },
     "execution_count": 759,
     "metadata": {},
     "output_type": "execute_result"
    },
    {
     "name": "stdout",
     "output_type": "stream",
     "text": [
      "Coeficiente de silueta promedio: 0.87 %\n",
      "CH Score: 14696.95\n"
     ]
    },
    {
     "data": {
      "image/png": "[encoded data removed]",
      "text/plain": [
       "<Figure size 800x550 with 1 Axes>"
      ]
     },
     "metadata": {},
     "output_type": "display_data"
    },
    {
     "data": {
      "text/plain": [
       "SilhouetteVisualizer(ax=<AxesSubplot:title={'center':'Silhouette Plot of KMeans Clustering for 2240 Samples in 3 Centers'}, xlabel='silhouette coefficient values', ylabel='cluster label'>,\n",
       "                     colors='yellowbrick',\n",
       "                     estimator=KMeans(n_clusters=3, random_state=2))"
      ]
     },
     "execution_count": 759,
     "metadata": {},
     "output_type": "execute_result"
    },
    {
     "name": "stdout",
     "output_type": "stream",
     "text": [
      "Para 2 clusters, o score de silhueta médio é 0.69\n",
      "Para 2 clusters, o score CH é 3725.10\n",
      "Para 3 clusters, o score de silhueta médio é 0.87\n",
      "Para 3 clusters, o score CH é 14696.95\n",
      "Para 4 clusters, o score de silhueta médio é 0.91\n",
      "Para 4 clusters, o score CH é 48055.63\n",
      "Para 5 clusters, o score de silhueta médio é 0.85\n",
      "Para 5 clusters, o score CH é 43638.02\n",
      "Para 6 clusters, o score de silhueta médio é 0.80\n",
      "Para 6 clusters, o score CH é 38786.60\n",
      "Para 7 clusters, o score de silhueta médio é 0.80\n",
      "Para 7 clusters, o score CH é 35556.08\n",
      "Para 8 clusters, o score de silhueta médio é 0.79\n",
      "Para 8 clusters, o score CH é 35098.48\n",
      "Para 9 clusters, o score de silhueta médio é 0.72\n",
      "Para 9 clusters, o score CH é 33188.24\n",
      "Para 10 clusters, o score de silhueta médio é 0.78\n",
      "Para 10 clusters, o score CH é 32372.86\n",
      "Iteration 4 : Ordinal, Word2Vec\n",
      "\n",
      "Iteration 5\n"
     ]
    },
    {
     "data": {
      "text/plain": [
       "Index(['Year_Birth', 'Education', 'Marital_Status', 'Income', 'Kidhome',\n",
       "       'Teenhome', 'Recency', 'MntWines', 'MntFruits', 'MntMeatProducts',\n",
       "       'MntFishProducts', 'MntSweetProducts', 'MntGoldProds',\n",
       "       'NumDealsPurchases', 'NumWebPurchases', 'NumCatalogPurchases',\n",
       "       'NumStorePurchases', 'NumWebVisitsMonth', 'AcceptedCmp3',\n",
       "       'AcceptedCmp4', 'AcceptedCmp5', 'AcceptedCmp1', 'AcceptedCmp2',\n",
       "       'Complain', 'Response', 'Dt_Customer_rel'],\n",
       "      dtype='object')"
      ]
     },
     "execution_count": 759,
     "metadata": {},
     "output_type": "execute_result"
    },
    {
     "data": {
      "text/plain": [
       "0    0.0\n",
       "1    0.0\n",
       "2    1.0\n",
       "3    1.0\n",
       "4    2.0\n",
       "Name: Marital_Status, dtype: float64"
      ]
     },
     "execution_count": 759,
     "metadata": {},
     "output_type": "execute_result"
    },
    {
     "data": {
      "text/plain": [
       "0    1.0\n",
       "1    1.0\n",
       "2    1.0\n",
       "3    1.0\n",
       "4    4.0\n",
       "Name: Education, dtype: float64"
      ]
     },
     "execution_count": 759,
     "metadata": {},
     "output_type": "execute_result"
    },
    {
     "data": {
      "text/plain": [
       "Index(['Year_Birth', 'Education', 'Marital_Status', 'Income', 'Kidhome',\n",
       "       'Teenhome', 'Recency', 'MntWines', 'MntFruits', 'MntMeatProducts',\n",
       "       'MntFishProducts', 'MntSweetProducts', 'MntGoldProds',\n",
       "       'NumDealsPurchases', 'NumWebPurchases', 'NumCatalogPurchases',\n",
       "       'NumStorePurchases', 'NumWebVisitsMonth', 'AcceptedCmp3',\n",
       "       'AcceptedCmp4', 'AcceptedCmp5', 'AcceptedCmp1', 'AcceptedCmp2',\n",
       "       'Complain', 'Response', 'Dt_Customer_rel'],\n",
       "      dtype='object')"
      ]
     },
     "execution_count": 759,
     "metadata": {},
     "output_type": "execute_result"
    },
    {
     "data": {
      "text/plain": [
       "array([0.21570418, 0.12418875])"
      ]
     },
     "execution_count": 759,
     "metadata": {},
     "output_type": "execute_result"
    },
    {
     "name": "stdout",
     "output_type": "stream",
     "text": [
      "Varianza explicada en los dos primeros componentes: 0.3398929319113616\n",
      "Con 23 componentes representamos el 0.99% de la varianza explicada por los componentes.\n",
      "Inflection point: 5, Inertia: 1645.07\n"
     ]
    },
    {
     "data": {
      "text/plain": [
       "RangeIndex(start=0, stop=23, step=1)"
      ]
     },
     "execution_count": 759,
     "metadata": {},
     "output_type": "execute_result"
    },
    {
     "name": "stdout",
     "output_type": "stream",
     "text": [
      "Coeficiente de silueta promedio: 0.34 %\n",
      "CH Score: 1389.69\n"
     ]
    },
    {
     "data": {
      "image/png": "[encoded data removed]",
      "text/plain": [
       "<Figure size 800x550 with 1 Axes>"
      ]
     },
     "metadata": {},
     "output_type": "display_data"
    },
    {
     "data": {
      "text/plain": [
       "SilhouetteVisualizer(ax=<AxesSubplot:title={'center':'Silhouette Plot of KMeans Clustering for 2240 Samples in 5 Centers'}, xlabel='silhouette coefficient values', ylabel='cluster label'>,\n",
       "                     colors='yellowbrick',\n",
       "                     estimator=KMeans(n_clusters=5, random_state=2))"
      ]
     },
     "execution_count": 759,
     "metadata": {},
     "output_type": "execute_result"
    },
    {
     "name": "stdout",
     "output_type": "stream",
     "text": [
      "Para 2 clusters, o score de silhueta médio é 0.27\n",
      "Para 2 clusters, o score CH é 701.69\n",
      "Para 3 clusters, o score de silhueta médio é 0.28\n",
      "Para 3 clusters, o score CH é 722.71\n",
      "Para 4 clusters, o score de silhueta médio é 0.39\n",
      "Para 4 clusters, o score CH é 1612.65\n",
      "Para 5 clusters, o score de silhueta médio é 0.34\n",
      "Para 5 clusters, o score CH é 1583.24\n",
      "Para 6 clusters, o score de silhueta médio é 0.44\n",
      "Para 6 clusters, o score CH é 2380.82\n",
      "Para 7 clusters, o score de silhueta médio é 0.42\n",
      "Para 7 clusters, o score CH é 2607.59\n",
      "Para 8 clusters, o score de silhueta médio é 0.40\n",
      "Para 8 clusters, o score CH é 2851.02\n",
      "Para 9 clusters, o score de silhueta médio é 0.37\n",
      "Para 9 clusters, o score CH é 2389.29\n",
      "Para 10 clusters, o score de silhueta médio é 0.42\n",
      "Para 10 clusters, o score CH é 2463.15\n",
      "Iteration 5 : Ordinal, Ordinal\n",
      "\n",
      "Iteration 6\n"
     ]
    },
    {
     "data": {
      "text/plain": [
       "Index(['Year_Birth', 'Education', 'Marital_Status', 'Income', 'Kidhome',\n",
       "       'Teenhome', 'Recency', 'MntWines', 'MntFruits', 'MntMeatProducts',\n",
       "       'MntFishProducts', 'MntSweetProducts', 'MntGoldProds',\n",
       "       'NumDealsPurchases', 'NumWebPurchases', 'NumCatalogPurchases',\n",
       "       'NumStorePurchases', 'NumWebVisitsMonth', 'AcceptedCmp3',\n",
       "       'AcceptedCmp4', 'AcceptedCmp5', 'AcceptedCmp1', 'AcceptedCmp2',\n",
       "       'Complain', 'Response', 'Dt_Customer_rel'],\n",
       "      dtype='object')"
      ]
     },
     "execution_count": 759,
     "metadata": {},
     "output_type": "execute_result"
    },
    {
     "data": {
      "text/plain": [
       "0    0.0\n",
       "1    0.0\n",
       "2    1.0\n",
       "3    1.0\n",
       "4    2.0\n",
       "Name: Marital_Status, dtype: float64"
      ]
     },
     "execution_count": 759,
     "metadata": {},
     "output_type": "execute_result"
    },
    {
     "name": "stdout",
     "output_type": "stream",
     "text": [
      "ONE HOT ENCODING FOR EDUCATION IS DONE\n"
     ]
    },
    {
     "data": {
      "text/plain": [
       "Index(['Year_Birth', 'Education_1', 'Education_2', 'Education_3',\n",
       "       'Education_4', 'Education_5', 'Marital_Status', 'Income', 'Kidhome',\n",
       "       'Teenhome', 'Recency', 'MntWines', 'MntFruits', 'MntMeatProducts',\n",
       "       'MntFishProducts', 'MntSweetProducts', 'MntGoldProds',\n",
       "       'NumDealsPurchases', 'NumWebPurchases', 'NumCatalogPurchases',\n",
       "       'NumStorePurchases', 'NumWebVisitsMonth', 'AcceptedCmp3',\n",
       "       'AcceptedCmp4', 'AcceptedCmp5', 'AcceptedCmp1', 'AcceptedCmp2',\n",
       "       'Complain', 'Response', 'Dt_Customer_rel'],\n",
       "      dtype='object')"
      ]
     },
     "execution_count": 759,
     "metadata": {},
     "output_type": "execute_result"
    },
    {
     "data": {
      "text/plain": [
       "array([0.20235923, 0.14563288])"
      ]
     },
     "execution_count": 759,
     "metadata": {},
     "output_type": "execute_result"
    },
    {
     "name": "stdout",
     "output_type": "stream",
     "text": [
      "Varianza explicada en los dos primeros componentes: 0.3479921169356329\n",
      "Con 25 componentes representamos el 0.99% de la varianza explicada por los componentes.\n",
      "Inflection point: 5, Inertia: 2165.85\n"
     ]
    },
    {
     "data": {
      "text/plain": [
       "RangeIndex(start=0, stop=25, step=1)"
      ]
     },
     "execution_count": 759,
     "metadata": {},
     "output_type": "execute_result"
    },
    {
     "name": "stdout",
     "output_type": "stream",
     "text": [
      "Coeficiente de silueta promedio: 0.36 %\n",
      "CH Score: 1601.16\n"
     ]
    },
    {
     "data": {
      "image/png": "[encoded data removed]",
      "text/plain": [
       "<Figure size 800x550 with 1 Axes>"
      ]
     },
     "metadata": {},
     "output_type": "display_data"
    },
    {
     "data": {
      "text/plain": [
       "SilhouetteVisualizer(ax=<AxesSubplot:title={'center':'Silhouette Plot of KMeans Clustering for 2240 Samples in 5 Centers'}, xlabel='silhouette coefficient values', ylabel='cluster label'>,\n",
       "                     colors='yellowbrick',\n",
       "                     estimator=KMeans(n_clusters=5, random_state=2))"
      ]
     },
     "execution_count": 759,
     "metadata": {},
     "output_type": "execute_result"
    },
    {
     "name": "stdout",
     "output_type": "stream",
     "text": [
      "Para 2 clusters, o score de silhueta médio é 0.30\n",
      "Para 2 clusters, o score CH é 966.08\n",
      "Para 3 clusters, o score de silhueta médio é 0.35\n",
      "Para 3 clusters, o score CH é 961.94\n",
      "Para 4 clusters, o score de silhueta médio é 0.39\n",
      "Para 4 clusters, o score CH é 1015.55\n",
      "Para 5 clusters, o score de silhueta médio é 0.42\n",
      "Para 5 clusters, o score CH é 1714.26\n",
      "Para 6 clusters, o score de silhueta médio é 0.38\n",
      "Para 6 clusters, o score CH é 1456.33\n",
      "Para 7 clusters, o score de silhueta médio é 0.43\n",
      "Para 7 clusters, o score CH é 1519.18\n",
      "Para 8 clusters, o score de silhueta médio é 0.46\n",
      "Para 8 clusters, o score CH é 2297.98\n",
      "Para 9 clusters, o score de silhueta médio é 0.46\n",
      "Para 9 clusters, o score CH é 2751.38\n",
      "Para 10 clusters, o score de silhueta médio é 0.41\n",
      "Para 10 clusters, o score CH é 1836.81\n",
      "Iteration 6 : Ordinal, One-hot\n",
      "\n",
      "Iteration 7\n",
      "ONE HOT ENCODING FOR MARITAL STATUS IS DONE\n",
      "EMBEDDED EDUCATION DONE\n",
      "Index(['Year_Birth', 'Marital_Status_1', 'Marital_Status_2',\n",
      "       'Marital_Status_3', 'Marital_Status_4', 'Marital_Status_5',\n",
      "       'Marital_Status_6', 'Marital_Status_7', 'Marital_Status_8', 'Income',\n",
      "       ...\n",
      "       'Education_290', 'Education_291', 'Education_292', 'Education_293',\n",
      "       'Education_294', 'Education_295', 'Education_296', 'Education_297',\n",
      "       'Education_298', 'Education_299'],\n",
      "      dtype='object', length=332)\n"
     ]
    },
    {
     "data": {
      "text/plain": [
       "array([0.6139842 , 0.30082252])"
      ]
     },
     "execution_count": 759,
     "metadata": {},
     "output_type": "execute_result"
    },
    {
     "name": "stdout",
     "output_type": "stream",
     "text": [
      "Varianza explicada en los dos primeros componentes: 0.914806715955334\n",
      "Con 11 componentes representamos el 0.99% de la varianza explicada por los componentes.\n",
      "Inflection point: 3, Inertia: 8069.87\n"
     ]
    },
    {
     "data": {
      "text/plain": [
       "RangeIndex(start=0, stop=11, step=1)"
      ]
     },
     "execution_count": 759,
     "metadata": {},
     "output_type": "execute_result"
    },
    {
     "name": "stdout",
     "output_type": "stream",
     "text": [
      "Coeficiente de silueta promedio: 0.82 %\n",
      "CH Score: 11986.53\n"
     ]
    },
    {
     "data": {
      "image/png": "[encoded data removed]",
      "text/plain": [
       "<Figure size 800x550 with 1 Axes>"
      ]
     },
     "metadata": {},
     "output_type": "display_data"
    },
    {
     "data": {
      "text/plain": [
       "SilhouetteVisualizer(ax=<AxesSubplot:title={'center':'Silhouette Plot of KMeans Clustering for 2240 Samples in 3 Centers'}, xlabel='silhouette coefficient values', ylabel='cluster label'>,\n",
       "                     colors='yellowbrick',\n",
       "                     estimator=KMeans(n_clusters=3, random_state=2))"
      ]
     },
     "execution_count": 759,
     "metadata": {},
     "output_type": "execute_result"
    },
    {
     "name": "stdout",
     "output_type": "stream",
     "text": [
      "Para 2 clusters, o score de silhueta médio é 0.66\n",
      "Para 2 clusters, o score CH é 3566.97\n",
      "Para 3 clusters, o score de silhueta médio é 0.82\n",
      "Para 3 clusters, o score CH é 11986.53\n",
      "Para 4 clusters, o score de silhueta médio é 0.86\n",
      "Para 4 clusters, o score CH é 23163.54\n",
      "Para 5 clusters, o score de silhueta médio é 0.78\n",
      "Para 5 clusters, o score CH é 20545.40\n",
      "Para 6 clusters, o score de silhueta médio é 0.68\n",
      "Para 6 clusters, o score CH é 18612.41\n",
      "Para 7 clusters, o score de silhueta médio é 0.66\n",
      "Para 7 clusters, o score CH é 17224.16\n",
      "Para 8 clusters, o score de silhueta médio é 0.70\n",
      "Para 8 clusters, o score CH é 16359.42\n",
      "Para 9 clusters, o score de silhueta médio é 0.68\n",
      "Para 9 clusters, o score CH é 15826.07\n",
      "Para 10 clusters, o score de silhueta médio é 0.64\n",
      "Para 10 clusters, o score CH é 16247.62\n",
      "Iteration 7 : One-hot, Word2Vec\n",
      "\n",
      "Iteration 8\n",
      "ONE HOT ENCODING FOR MARITAL STATUS IS DONE\n"
     ]
    },
    {
     "data": {
      "text/plain": [
       "0    1.0\n",
       "1    1.0\n",
       "2    1.0\n",
       "3    1.0\n",
       "4    4.0\n",
       "Name: Education, dtype: float64"
      ]
     },
     "execution_count": 759,
     "metadata": {},
     "output_type": "execute_result"
    },
    {
     "data": {
      "text/plain": [
       "Index(['Year_Birth', 'Education', 'Marital_Status_1', 'Marital_Status_2',\n",
       "       'Marital_Status_3', 'Marital_Status_4', 'Marital_Status_5',\n",
       "       'Marital_Status_6', 'Marital_Status_7', 'Marital_Status_8', 'Income',\n",
       "       'Kidhome', 'Teenhome', 'Recency', 'MntWines', 'MntFruits',\n",
       "       'MntMeatProducts', 'MntFishProducts', 'MntSweetProducts',\n",
       "       'MntGoldProds', 'NumDealsPurchases', 'NumWebPurchases',\n",
       "       'NumCatalogPurchases', 'NumStorePurchases', 'NumWebVisitsMonth',\n",
       "       'AcceptedCmp3', 'AcceptedCmp4', 'AcceptedCmp5', 'AcceptedCmp1',\n",
       "       'AcceptedCmp2', 'Complain', 'Response', 'Dt_Customer_rel'],\n",
       "      dtype='object')"
      ]
     },
     "execution_count": 759,
     "metadata": {},
     "output_type": "execute_result"
    },
    {
     "data": {
      "text/plain": [
       "array([0.17647637, 0.1361788 ])"
      ]
     },
     "execution_count": 759,
     "metadata": {},
     "output_type": "execute_result"
    },
    {
     "name": "stdout",
     "output_type": "stream",
     "text": [
      "Varianza explicada en los dos primeros componentes: 0.31265517036758356\n",
      "Con 25 componentes representamos el 0.99% de la varianza explicada por los componentes.\n",
      "Inflection point: 4, Inertia: 2593.29\n"
     ]
    },
    {
     "data": {
      "text/plain": [
       "RangeIndex(start=0, stop=25, step=1)"
      ]
     },
     "execution_count": 759,
     "metadata": {},
     "output_type": "execute_result"
    },
    {
     "name": "stdout",
     "output_type": "stream",
     "text": [
      "Coeficiente de silueta promedio: 0.37 %\n",
      "CH Score: 1197.33\n"
     ]
    },
    {
     "data": {
      "image/png": "[encoded data removed]",
      "text/plain": [
       "<Figure size 800x550 with 1 Axes>"
      ]
     },
     "metadata": {},
     "output_type": "display_data"
    },
    {
     "data": {
      "text/plain": [
       "SilhouetteVisualizer(ax=<AxesSubplot:title={'center':'Silhouette Plot of KMeans Clustering for 2240 Samples in 4 Centers'}, xlabel='silhouette coefficient values', ylabel='cluster label'>,\n",
       "                     colors='yellowbrick',\n",
       "                     estimator=KMeans(n_clusters=4, random_state=2))"
      ]
     },
     "execution_count": 759,
     "metadata": {},
     "output_type": "execute_result"
    },
    {
     "name": "stdout",
     "output_type": "stream",
     "text": [
      "Para 2 clusters, o score de silhueta médio é 0.25\n",
      "Para 2 clusters, o score CH é 691.63\n",
      "Para 3 clusters, o score de silhueta médio é 0.33\n",
      "Para 3 clusters, o score CH é 948.31\n",
      "Para 4 clusters, o score de silhueta médio é 0.37\n",
      "Para 4 clusters, o score CH é 1410.37\n",
      "Para 5 clusters, o score de silhueta médio é 0.38\n",
      "Para 5 clusters, o score CH é 1229.12\n",
      "Para 6 clusters, o score de silhueta médio é 0.40\n",
      "Para 6 clusters, o score CH é 1465.49\n",
      "Para 7 clusters, o score de silhueta médio é 0.40\n",
      "Para 7 clusters, o score CH é 1334.19\n",
      "Para 8 clusters, o score de silhueta médio é 0.39\n",
      "Para 8 clusters, o score CH é 1515.99\n",
      "Para 9 clusters, o score de silhueta médio é 0.43\n",
      "Para 9 clusters, o score CH é 1862.28\n",
      "Para 10 clusters, o score de silhueta médio é 0.44\n",
      "Para 10 clusters, o score CH é 2080.41\n",
      "Iteration 8 : One-hot, Ordinal\n",
      "\n",
      "Iteration 9\n",
      "ONE HOT ENCODING FOR MARITAL STATUS IS DONE\n",
      "ONE HOT ENCODING FOR EDUCATION IS DONE\n"
     ]
    },
    {
     "data": {
      "text/plain": [
       "Index(['Year_Birth', 'Education_1', 'Education_2', 'Education_3',\n",
       "       'Education_4', 'Education_5', 'Marital_Status_1', 'Marital_Status_2',\n",
       "       'Marital_Status_3', 'Marital_Status_4', 'Marital_Status_5',\n",
       "       'Marital_Status_6', 'Marital_Status_7', 'Marital_Status_8', 'Income',\n",
       "       'Kidhome', 'Teenhome', 'Recency', 'MntWines', 'MntFruits',\n",
       "       'MntMeatProducts', 'MntFishProducts', 'MntSweetProducts',\n",
       "       'MntGoldProds', 'NumDealsPurchases', 'NumWebPurchases',\n",
       "       'NumCatalogPurchases', 'NumStorePurchases', 'NumWebVisitsMonth',\n",
       "       'AcceptedCmp3', 'AcceptedCmp4', 'AcceptedCmp5', 'AcceptedCmp1',\n",
       "       'AcceptedCmp2', 'Complain', 'Response', 'Dt_Customer_rel'],\n",
       "      dtype='object')"
      ]
     },
     "execution_count": 759,
     "metadata": {},
     "output_type": "execute_result"
    },
    {
     "data": {
      "text/plain": [
       "array([0.14353489, 0.13537384])"
      ]
     },
     "execution_count": 759,
     "metadata": {},
     "output_type": "execute_result"
    },
    {
     "name": "stdout",
     "output_type": "stream",
     "text": [
      "Varianza explicada en los dos primeros componentes: 0.27890872654523047\n",
      "Con 28 componentes representamos el 0.99% de la varianza explicada por los componentes.\n",
      "Inflection point: 5, Inertia: 3547.19\n"
     ]
    },
    {
     "data": {
      "text/plain": [
       "RangeIndex(start=0, stop=28, step=1)"
      ]
     },
     "execution_count": 759,
     "metadata": {},
     "output_type": "execute_result"
    },
    {
     "name": "stdout",
     "output_type": "stream",
     "text": [
      "Coeficiente de silueta promedio: 0.30 %\n",
      "CH Score: 972.80\n"
     ]
    },
    {
     "data": {
      "image/png": "[encoded data removed]",
      "text/plain": [
       "<Figure size 800x550 with 1 Axes>"
      ]
     },
     "metadata": {},
     "output_type": "display_data"
    },
    {
     "data": {
      "text/plain": [
       "SilhouetteVisualizer(ax=<AxesSubplot:title={'center':'Silhouette Plot of KMeans Clustering for 2240 Samples in 5 Centers'}, xlabel='silhouette coefficient values', ylabel='cluster label'>,\n",
       "                     colors='yellowbrick',\n",
       "                     estimator=KMeans(n_clusters=5, random_state=2))"
      ]
     },
     "execution_count": 759,
     "metadata": {},
     "output_type": "execute_result"
    },
    {
     "name": "stdout",
     "output_type": "stream",
     "text": [
      "Para 2 clusters, o score de silhueta médio é 0.18\n",
      "Para 2 clusters, o score CH é 463.57\n",
      "Para 3 clusters, o score de silhueta médio é 0.25\n",
      "Para 3 clusters, o score CH é 660.66\n",
      "Para 4 clusters, o score de silhueta médio é 0.25\n",
      "Para 4 clusters, o score CH é 868.02\n",
      "Para 5 clusters, o score de silhueta médio é 0.29\n",
      "Para 5 clusters, o score CH é 1010.41\n",
      "Para 6 clusters, o score de silhueta médio é 0.31\n",
      "Para 6 clusters, o score CH é 1027.27\n",
      "Para 7 clusters, o score de silhueta médio é 0.33\n",
      "Para 7 clusters, o score CH é 1107.33\n",
      "Para 8 clusters, o score de silhueta médio é 0.35\n",
      "Para 8 clusters, o score CH é 1368.37\n",
      "Para 9 clusters, o score de silhueta médio é 0.35\n",
      "Para 9 clusters, o score CH é 1300.74\n",
      "Para 10 clusters, o score de silhueta médio é 0.39\n",
      "Para 10 clusters, o score CH é 2009.24\n",
      "Iteration 9 : One-hot, One-hot\n",
      "\n"
     ]
    }
   ],
   "source": [
    "# Define embedding methods for marital status and education\n",
    "encoding_marital = ['Word2Vec', 'Ordinal', 'One-hot']\n",
    "encoding_education = ['Word2Vec', 'Ordinal', 'One-hot']\n",
    "\n",
    "# # # To plot silhouette versus K:\n",
    "# fig, ax = plt.subplots(figsize=(10, 6))\n",
    "n_clusters = []\n",
    "score = []\n",
    "iteracion = []\n",
    "marital_enc = []\n",
    "educ_enc = []\n",
    "\n",
    "# # Define the colormap\n",
    "# colors = cm.tab10.colors\n",
    "# x= 0.6\n",
    "# y= 0.95\n",
    "\n",
    "# Iterate over all combinations of embedding methods\n",
    "index= 0\n",
    "for marital_embedding, education_embedding in itertools.product(encoding_marital, encoding_education):\n",
    "    marital_status_encoding = marital_embedding\n",
    "    education_encoding= education_embedding\n",
    "    data= clean_data.copy()\n",
    "    \n",
    "    print(f'Iteration {index+1}')\n",
    "    if marital_status_encoding== 'One-hot':\n",
    "        if 'Marital_Status' in data.columns:\n",
    "            ohe= OneHotEncoder(cols=['Marital_Status'])\n",
    "            data= ohe.fit_transform(data)\n",
    "            print('ONE HOT ENCODING FOR MARITAL STATUS IS DONE') \n",
    "        else:\n",
    "            print('process a was made in a previous iteration')\n",
    "            \n",
    "    elif marital_status_encoding== 'Ordinal':\n",
    "        marital_cat= list(data['Marital_Status'].unique())\n",
    "        ord_enc= OrdinalEncoder(categories=[marital_cat])\n",
    "        ord_edu= pd.DataFrame(ord_enc.fit_transform(data[['Marital_Status']]))\n",
    "        data['Marital_Status']= ord_edu\n",
    "        data.columns\n",
    "        data.loc[:, 'Marital_Status'].head()\n",
    "            \n",
    "    elif marital_status_encoding== 'Word2Vec':\n",
    "        marital_status_vectors = {'Widow': dataset['Widow'],\n",
    "                                  'Single': dataset['Single'],\n",
    "                                  'Together': dataset['Together'],\n",
    "                                  'Married': dataset['Married'],\n",
    "                                  'Divorced': dataset['Divorced'],\n",
    "                                  'Alone': dataset['Alone'],\n",
    "                                  'YOLO': dataset['YOLO'],\n",
    "                                  'Absurd': dataset['Absurd']\n",
    "}\n",
    "        for marital_status, vector in marital_status_vectors.items():\n",
    "            # Create column names based on marital status\n",
    "            column_names = [f'Marital_Status_{i}' for i in range(len(vector))]\n",
    "            # Mask for rows where marital status matches\n",
    "            mask = data['Marital_Status'] == marital_status\n",
    "            # Assign values to corresponding columns\n",
    "            data.loc[mask, column_names] = vector.tolist()\n",
    "        data.drop('Marital_Status', axis=1, inplace= True)\n",
    "\n",
    "        print('EMBEDDED MARITAL STATUS DONE')\n",
    "        print(data.columns)\n",
    "        \n",
    "        \n",
    "    if education_encoding == 'One-hot':\n",
    "        if 'Education' in data.columns:\n",
    "            ohe= OneHotEncoder(cols=['Education'])\n",
    "            data= ohe.fit_transform(data)\n",
    "            print('ONE HOT ENCODING FOR EDUCATION IS DONE')\n",
    "            data.columns\n",
    "#         else:\n",
    "#             print('process b was made in a previous iteration')\n",
    "            \n",
    "    elif education_embedding== 'Ordinal':\n",
    "        educ_cat= ['Basic', 'Graduation', '2n Cycle', 'Master', 'PhD']\n",
    "        ord_enc= OrdinalEncoder(categories=[educ_cat])\n",
    "        ord_edu= pd.DataFrame(ord_enc.fit_transform(data[['Education']]))\n",
    "        data['Education']= ord_edu\n",
    "        data.loc[:, 'Education'].head()\n",
    "        data.columns\n",
    "        \n",
    "    elif education_encoding== 'Word2Vec':\n",
    "#         Assuming 2n cycle and Master means the same thing. We can combine these two categories.\n",
    "        data['Education'] = data['Education'].replace('2n Cycle', 'Master')\n",
    "        education_vectors = {'Basic': dataset['Basic'],\n",
    "                             'Master': dataset['Master'],\n",
    "                             'PhD': dataset['PhD'],\n",
    "                             'Graduation': dataset['Graduation'],\n",
    "}\n",
    "        # Iterate over each marital status and assign vectors to corresponding columns\n",
    "        for education, vector in education_vectors.items():\n",
    "            # Create column names based on marital status\n",
    "            column_names = [f'Education_{i}' for i in range(len(vector))]\n",
    "            mask = data['Education'] == education\n",
    "            # Assign values to corresponding columns\n",
    "            data.loc[mask, column_names] = vector.tolist()\n",
    "        data.drop('Education', axis=1, inplace= True)\n",
    "        print('EMBEDDED EDUCATION DONE')\n",
    "        print(data.columns)\n",
    "    \n",
    "\n",
    "    # Scaling features:\n",
    "    scaler= MinMaxScaler()\n",
    "    num =[var for var in data.columns if data[var].dtypes!='object' and 'Accepted' not in var and 'Complain' not in var and 'Response' not in var]\n",
    "#     num\n",
    "    data[num]= scaler.fit_transform(data[num])\n",
    "    \n",
    "    pca = PCA(n_components= 2)\n",
    "    data_pca = pca.fit_transform(data)\n",
    "    pca.explained_variance_ratio_\n",
    "\n",
    "\n",
    "    print('Varianza explicada en los dos primeros componentes:',\n",
    "          pca.explained_variance_ratio_.sum())\n",
    "    \n",
    "    Explained_Variance = pca.explained_variance_ratio_.sum()\n",
    "    \n",
    "    for i in range(2, int(data.shape[1])):\n",
    "        pca = PCA(n_components= i)\n",
    "        data_pca = pca.fit_transform(data)\n",
    "        if pca.explained_variance_ratio_.sum()>= 0.99:\n",
    "            break\n",
    "        \n",
    "    percentage= \"%.2f\"%pca.explained_variance_ratio_.sum()\n",
    "    print(f'Con {i} componentes representamos el {percentage}% de la varianza explicada por los componentes.')\n",
    "    #Creating a new dataframe with the dataset turned into 25 PCA components:\n",
    "    data_pca= pd.DataFrame(data_pca)\n",
    "#     data_pca.head()\n",
    "#     data_pca.columns\n",
    "    \n",
    "    # Defining the optimal number of clusters (K) by the elbow method:\n",
    "    inertia=[]\n",
    "    kmax= 8\n",
    "    ks = list(range(2, kmax + 1))\n",
    "    \n",
    "    for i in range(2, kmax+1):\n",
    "        clustering= KMeans(n_clusters=i, random_state=2).fit(data_pca)\n",
    "        inertia.append(clustering.inertia_)\n",
    "        \n",
    "#     ax.plot(ks, inertia, label= index, color=colors[index % len(colors)])\n",
    "#     plt.text(x, y, f'Embedding frame{index}: {marital_embedding}, {education_embedding}', \n",
    "#              horizontalalignment='left', verticalalignment='top', \n",
    "#              transform= ax.transAxes, fontsize=6, bbox= dict(facecolor='white', alpha=0.5))\n",
    "#     ax.legend(title='Iteration', fontsize='small', title_fontsize='small')\n",
    "\n",
    "#     Determining the point of inflection of the curve of inertia versus number of clusters:\n",
    "    kneedle_kmeans= kneed.KneeLocator(y= inertia, x= ks, S= 1.0, curve= 'convex',\n",
    "                                      direction= 'decreasing')\n",
    "    inflection_point_kmeans= [kneedle_kmeans.knee, \"%.2f\"%kneedle_kmeans.knee_y]\n",
    "    print(f'Inflection point: {inflection_point_kmeans[0]}, Inertia: {inflection_point_kmeans[1]}')\n",
    "#     kneedle_kmeans.plot_knee()\n",
    "\n",
    "    # Determining the optimal number of clusters (K) using the graph of silhouette score versus K:\n",
    "    sil= []\n",
    "    kmax= 8\n",
    "    ks = list(range(2, kmax + 1))\n",
    "\n",
    "    for k in range(2, kmax+1):\n",
    "        clustering= KMeans(n_clusters=k, random_state=2).fit(data_pca)\n",
    "        labels= clustering.labels_\n",
    "        sil.append(silhouette_score(data_pca, labels, metric='euclidean'))\n",
    "\n",
    "    # Plotting the graph of silhouette score versus K:\n",
    "    n_clusters.append(ks)\n",
    "    score.append(sil)\n",
    "    iteracion.append(index + 1)\n",
    "    marital_enc.append(marital_embedding)\n",
    "    educ_enc.append(education_embedding)\n",
    "    \n",
    "#     ax.plot(ks, sil, label= f'Iteración {index+1}: {marital_embedding}, {education_embedding}',\n",
    "#             color= colors[index % len(colors) ])\n",
    "    \n",
    "#     plt.rc('font', size= 9)\n",
    "\n",
    "#     ax.legend(title= 'Esquema de codificación: Estado Civil, Educación', fontsize= 'small', title_fontsize= 'small')\n",
    "#     plt.xlabel('Número de clusters', fontsize= 10)\n",
    "#     plt.ylabel('Coeficiente de silueta', fontsize= 10)\n",
    "    \n",
    "    #Creating the model with inflection_point_kmeans (optimal K found by the elbow method):\n",
    "    kmeans= KMeans(n_clusters= int(inflection_point_kmeans[0]), random_state=2).fit(data_pca)\n",
    "    #Inserting the generated labels into a new column in the dataset:\n",
    "    data_pca.columns\n",
    "    data_pca['kmeans_labels'] = kmeans.labels_\n",
    "#     data_pca.head()\n",
    "\n",
    "    # Mean silhouette score:\n",
    "    silhouette_avg_kmeans= silhouette_score(X= data_pca, labels= data_pca['kmeans_labels'])\n",
    "\n",
    "    print('Coeficiente de silueta promedio:', \"%.2f\"%silhouette_avg_kmeans, '%')\n",
    "    Silhouette = silhouette_avg_kmeans\n",
    "    # Calinski Harabasz (CH) score:\n",
    "    CH_kmeans= calinski_harabasz_score(X=data_pca, labels=data_pca['kmeans_labels'])\n",
    "    print('CH Score:', \"%.2f\"%CH_kmeans)\n",
    "    Calinski_Harabasz = CH_kmeans\n",
    "    \n",
    "    # Silhouette plot:\n",
    "    silhouette_visualizer(kmeans, data_pca.drop('kmeans_labels', axis=1), colors='yellowbrick')\n",
    "    \n",
    "    # Iterating to check the mean silhouette score and the CH score for other values of K:\n",
    "    kmax= 10 # Valor máximo de clusters deseado\n",
    "    \n",
    "    for i in range(2, kmax+1):\n",
    "        # Creating the model:\n",
    "        kmeans= KMeans(n_clusters=i, random_state=2).fit(data_pca)\n",
    "        # Integrating the classification created by KMeans to the original dataset:\n",
    "        data_pca['kmeans_labels']=kmeans.labels_\n",
    "        # Mean silhouette score:\n",
    "        silhouette_avg_kmeans= silhouette_score(X= data_pca, labels= data_pca['kmeans_labels'], metric= 'euclidean')\n",
    "        # CH score:\n",
    "        CH_kmeans= calinski_harabasz_score(X=data_pca, labels=data_pca['kmeans_labels'])\n",
    "        print('Para {} clusters, o score de silhueta médio é {}'.format(i, \"%.2f\"%silhouette_avg_kmeans))\n",
    "        print('Para {} clusters, o score CH é {}'.format(i, \"%.2f\"%CH_kmeans))\n",
    "        \n",
    "        results = [\n",
    "            {'Experiment': index+1,\n",
    "             'Dimensions': data.shape[1],\n",
    "             'Clusters': int(inflection_point_kmeans[0]),\n",
    "             'Marital_Status_Encoding': marital_status_encoding,\n",
    "             'Education_Encoding': education_encoding,\n",
    "             'Calinski-Harabasz': Calinski_Harabasz,\n",
    "             'Silhouette': Silhouette ,\n",
    "             'Explained Variance': Explained_Variance }\n",
    "     ]\n",
    "\n",
    "    # Define the header of the CSV file\n",
    "        keys= [key for key in results[0].keys()]\n",
    "\n",
    "    # Create a DataFrame from the results\n",
    "        results_df = pd.DataFrame(results)\n",
    "\n",
    "    # Save the DataFrame to a CSV file\n",
    "    if os.path.exists('experiment_results.csv'):\n",
    "        results_df = pd.read_csv('experiment_results.csv')\n",
    "        new_results = results\n",
    "    # Append the new results to the DataFrame\n",
    "        results_df = results_df.append(new_results, ignore_index=True)\n",
    "    # Save the updated DataFrame to the CSV file\n",
    "        results_df.to_csv('experiment_results.csv', index=False)\n",
    "    else:\n",
    "    # If the CSV file doesn't exist, initialize an empty DataFrame\n",
    "        results_df.to_csv('experiment_results.csv', index=False)\n",
    "    \n",
    "    print(f'Iteration {index+1} : {marital_status_encoding}, {education_encoding}')\n",
    "    index += 1\n",
    "    print()"
   ]
  },
  {
   "cell_type": "code",
   "execution_count": 778,
   "id": "2ef60586",
   "metadata": {},
   "outputs": [],
   "source": [
    "# # Plotting the graph of silhouette score versus K:\n",
    "# n_clusters\n",
    "# score\n",
    "# iteracion\n",
    "# marital_enc\n",
    "# educ_enc"
   ]
  },
  {
   "cell_type": "code",
   "execution_count": 786,
   "id": "fbb4374a",
   "metadata": {},
   "outputs": [
    {
     "data": {
      "text/plain": [
       "[<matplotlib.lines.Line2D at 0x7f7c6c9f9040>]"
      ]
     },
     "execution_count": 786,
     "metadata": {},
     "output_type": "execute_result"
    },
    {
     "data": {
      "text/plain": [
       "<matplotlib.legend.Legend at 0x7f7c6c9f91c0>"
      ]
     },
     "execution_count": 786,
     "metadata": {},
     "output_type": "execute_result"
    },
    {
     "data": {
      "text/plain": [
       "Text(0.5, 0, 'Número de clusters')"
      ]
     },
     "execution_count": 786,
     "metadata": {},
     "output_type": "execute_result"
    },
    {
     "data": {
      "text/plain": [
       "Text(0, 0.5, 'Coeficiente de silueta')"
      ]
     },
     "execution_count": 786,
     "metadata": {},
     "output_type": "execute_result"
    },
    {
     "data": {
      "text/plain": [
       "[<matplotlib.lines.Line2D at 0x7f7c6c9e10d0>]"
      ]
     },
     "execution_count": 786,
     "metadata": {},
     "output_type": "execute_result"
    },
    {
     "data": {
      "text/plain": [
       "<matplotlib.legend.Legend at 0x7f7c6c9f9a00>"
      ]
     },
     "execution_count": 786,
     "metadata": {},
     "output_type": "execute_result"
    },
    {
     "data": {
      "text/plain": [
       "Text(0.5, 0, 'Número de clusters')"
      ]
     },
     "execution_count": 786,
     "metadata": {},
     "output_type": "execute_result"
    },
    {
     "data": {
      "text/plain": [
       "Text(0, 0.5, 'Coeficiente de silueta')"
      ]
     },
     "execution_count": 786,
     "metadata": {},
     "output_type": "execute_result"
    },
    {
     "data": {
      "text/plain": [
       "[<matplotlib.lines.Line2D at 0x7f7c6c9da370>]"
      ]
     },
     "execution_count": 786,
     "metadata": {},
     "output_type": "execute_result"
    },
    {
     "data": {
      "text/plain": [
       "<matplotlib.legend.Legend at 0x7f7c6c9f9f70>"
      ]
     },
     "execution_count": 786,
     "metadata": {},
     "output_type": "execute_result"
    },
    {
     "data": {
      "text/plain": [
       "Text(0.5, 0, 'Número de clusters')"
      ]
     },
     "execution_count": 786,
     "metadata": {},
     "output_type": "execute_result"
    },
    {
     "data": {
      "text/plain": [
       "Text(0, 0.5, 'Coeficiente de silueta')"
      ]
     },
     "execution_count": 786,
     "metadata": {},
     "output_type": "execute_result"
    },
    {
     "data": {
      "text/plain": [
       "[<matplotlib.lines.Line2D at 0x7f7c6c9cfaf0>]"
      ]
     },
     "execution_count": 786,
     "metadata": {},
     "output_type": "execute_result"
    },
    {
     "data": {
      "text/plain": [
       "<matplotlib.legend.Legend at 0x7f7c6c9da760>"
      ]
     },
     "execution_count": 786,
     "metadata": {},
     "output_type": "execute_result"
    },
    {
     "data": {
      "text/plain": [
       "Text(0.5, 0, 'Número de clusters')"
      ]
     },
     "execution_count": 786,
     "metadata": {},
     "output_type": "execute_result"
    },
    {
     "data": {
      "text/plain": [
       "Text(0, 0.5, 'Coeficiente de silueta')"
      ]
     },
     "execution_count": 786,
     "metadata": {},
     "output_type": "execute_result"
    },
    {
     "data": {
      "text/plain": [
       "[<matplotlib.lines.Line2D at 0x7f7c6c9cfe20>]"
      ]
     },
     "execution_count": 786,
     "metadata": {},
     "output_type": "execute_result"
    },
    {
     "data": {
      "text/plain": [
       "<matplotlib.legend.Legend at 0x7f7c6c9f9fa0>"
      ]
     },
     "execution_count": 786,
     "metadata": {},
     "output_type": "execute_result"
    },
    {
     "data": {
      "text/plain": [
       "Text(0.5, 0, 'Número de clusters')"
      ]
     },
     "execution_count": 786,
     "metadata": {},
     "output_type": "execute_result"
    },
    {
     "data": {
      "text/plain": [
       "Text(0, 0.5, 'Coeficiente de silueta')"
      ]
     },
     "execution_count": 786,
     "metadata": {},
     "output_type": "execute_result"
    },
    {
     "data": {
      "text/plain": [
       "[<matplotlib.lines.Line2D at 0x7f7c6c9f2ca0>]"
      ]
     },
     "execution_count": 786,
     "metadata": {},
     "output_type": "execute_result"
    },
    {
     "data": {
      "text/plain": [
       "<matplotlib.legend.Legend at 0x7f7c6c9f2c70>"
      ]
     },
     "execution_count": 786,
     "metadata": {},
     "output_type": "execute_result"
    },
    {
     "data": {
      "text/plain": [
       "Text(0.5, 0, 'Número de clusters')"
      ]
     },
     "execution_count": 786,
     "metadata": {},
     "output_type": "execute_result"
    },
    {
     "data": {
      "text/plain": [
       "Text(0, 0.5, 'Coeficiente de silueta')"
      ]
     },
     "execution_count": 786,
     "metadata": {},
     "output_type": "execute_result"
    },
    {
     "data": {
      "text/plain": [
       "[<matplotlib.lines.Line2D at 0x7f7c6b2fa610>]"
      ]
     },
     "execution_count": 786,
     "metadata": {},
     "output_type": "execute_result"
    },
    {
     "data": {
      "text/plain": [
       "<matplotlib.legend.Legend at 0x7f7c6b2e5430>"
      ]
     },
     "execution_count": 786,
     "metadata": {},
     "output_type": "execute_result"
    },
    {
     "data": {
      "text/plain": [
       "Text(0.5, 0, 'Número de clusters')"
      ]
     },
     "execution_count": 786,
     "metadata": {},
     "output_type": "execute_result"
    },
    {
     "data": {
      "text/plain": [
       "Text(0, 0.5, 'Coeficiente de silueta')"
      ]
     },
     "execution_count": 786,
     "metadata": {},
     "output_type": "execute_result"
    },
    {
     "data": {
      "text/plain": [
       "[<matplotlib.lines.Line2D at 0x7f7c6a0d8100>]"
      ]
     },
     "execution_count": 786,
     "metadata": {},
     "output_type": "execute_result"
    },
    {
     "data": {
      "text/plain": [
       "<matplotlib.legend.Legend at 0x7f7c6b3106d0>"
      ]
     },
     "execution_count": 786,
     "metadata": {},
     "output_type": "execute_result"
    },
    {
     "data": {
      "text/plain": [
       "Text(0.5, 0, 'Número de clusters')"
      ]
     },
     "execution_count": 786,
     "metadata": {},
     "output_type": "execute_result"
    },
    {
     "data": {
      "text/plain": [
       "Text(0, 0.5, 'Coeficiente de silueta')"
      ]
     },
     "execution_count": 786,
     "metadata": {},
     "output_type": "execute_result"
    },
    {
     "data": {
      "text/plain": [
       "[<matplotlib.lines.Line2D at 0x7f7c6a0d8490>]"
      ]
     },
     "execution_count": 786,
     "metadata": {},
     "output_type": "execute_result"
    },
    {
     "data": {
      "text/plain": [
       "<matplotlib.legend.Legend at 0x7f7c6a0caa90>"
      ]
     },
     "execution_count": 786,
     "metadata": {},
     "output_type": "execute_result"
    },
    {
     "data": {
      "text/plain": [
       "Text(0.5, 0, 'Número de clusters')"
      ]
     },
     "execution_count": 786,
     "metadata": {},
     "output_type": "execute_result"
    },
    {
     "data": {
      "text/plain": [
       "Text(0, 0.5, 'Coeficiente de silueta')"
      ]
     },
     "execution_count": 786,
     "metadata": {},
     "output_type": "execute_result"
    },
    {
     "data": {
      "image/png": "[encoded data removed]",
      "text/plain": [
       "<Figure size 1000x600 with 1 Axes>"
      ]
     },
     "metadata": {},
     "output_type": "display_data"
    }
   ],
   "source": [
    "fig, ax = plt.subplots(figsize=(10, 6))\n",
    "colors = cm.tab10.colors\n",
    "\n",
    "for i in list(range(9)):\n",
    "    ks = n_clusters[i]\n",
    "    sil = score[i]\n",
    "#     iteracion[i]\n",
    "#     marital_enc[i], educ_enc[i]\n",
    "    label = f'Iteración {iteracion[i]}:, {marital_enc[i]}, {educ_enc[i]}'\n",
    "    ax.plot(ks, sil, label = f'Iteración {iteracion[i]}:, {marital_enc[i]}, {educ_enc[i]}',\n",
    "            color= colors[i % len(colors)])\n",
    "\n",
    "    plt.rc('font', size= 9)\n",
    "\n",
    "    ax.legend(title= 'Esquema de codificación: Estado Civil, Educación', fontsize= 'small', title_fontsize= 'small')\n",
    "    plt.xlabel('Número de clusters', fontsize= 10)\n",
    "    plt.ylabel('Coeficiente de silueta', fontsize= 10)"
   ]
  }
 ],
 "metadata": {
  "kernelspec": {
   "display_name": "Python 3 (ipykernel)",
   "language": "python",
   "name": "python3"
  },
  "language_info": {
   "codemirror_mode": {
    "name": "ipython",
    "version": 3
   },
   "file_extension": ".py",
   "mimetype": "text/x-python",
   "name": "python",
   "nbconvert_exporter": "python",
   "pygments_lexer": "ipython3",
   "version": "3.9.13"
  }
 },
 "nbformat": 4,
 "nbformat_minor": 5
}
