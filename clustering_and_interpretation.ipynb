{
 "cells": [
  {
   "cell_type": "code",
   "execution_count": 41,
   "id": "3f6d9420",
   "metadata": {},
   "outputs": [],
   "source": [
    "from IPython.core.interactiveshell import InteractiveShell\n",
    "InteractiveShell.ast_node_interactivity = \"all\""
   ]
  },
  {
   "cell_type": "code",
   "execution_count": 42,
   "id": "36b36aa3",
   "metadata": {},
   "outputs": [
    {
     "data": {
      "text/html": [
       "        <script type=\"text/javascript\">\n",
       "        window.PlotlyConfig = {MathJaxConfig: 'local'};\n",
       "        if (window.MathJax && window.MathJax.Hub && window.MathJax.Hub.Config) {window.MathJax.Hub.Config({SVG: {font: \"STIX-Web\"}});}\n",
       "        if (typeof require !== 'undefined') {\n",
       "        require.undef(\"plotly\");\n",
       "        requirejs.config({\n",
       "            paths: {\n",
       "                'plotly': ['https://cdn.plot.ly/plotly-2.12.1.min']\n",
       "            }\n",
       "        });\n",
       "        require(['plotly'], function(Plotly) {\n",
       "            window._Plotly = Plotly;\n",
       "        });\n",
       "        }\n",
       "        </script>\n",
       "        "
      ]
     },
     "metadata": {},
     "output_type": "display_data"
    }
   ],
   "source": [
    "import os\n",
    "import pandas as pd\n",
    "import numpy as np\n",
    "import matplotlib.pyplot as plt\n",
    "import seaborn as sns \n",
    "from sklearn.cluster import KMeans, DBSCAN, SpectralClustering, OPTICS, AffinityPropagation\n",
    "from sklearn.impute import SimpleImputer\n",
    "from category_encoders.one_hot import OneHotEncoder\n",
    "# from sklearn.preprocessing import OneHotEncoder\n",
    "from sklearn.preprocessing import OrdinalEncoder\n",
    "from sklearn.preprocessing import MinMaxScaler, StandardScaler\n",
    "from sklearn.decomposition import PCA\n",
    "from sklearn.metrics import silhouette_score, calinski_harabasz_score\n",
    "from yellowbrick.cluster import silhouette_visualizer\n",
    "import plotly.express as px\n",
    "from plotly.offline import init_notebook_mode\n",
    "import warnings\n",
    "pd.options.display.max_rows = 4000\n",
    "init_notebook_mode(connected=True)\n",
    "warnings.filterwarnings(action='ignore')"
   ]
  },
  {
   "cell_type": "code",
   "execution_count": 1006,
   "id": "529fec5b",
   "metadata": {},
   "outputs": [],
   "source": [
    "data= pd.read_csv('marketing_campaign.csv', sep='\\t')"
   ]
  },
  {
   "cell_type": "code",
   "execution_count": 1007,
   "id": "aad8e943",
   "metadata": {},
   "outputs": [
    {
     "data": {
      "text/html": [
       "<div>\n",
       "<style scoped>\n",
       "    .dataframe tbody tr th:only-of-type {\n",
       "        vertical-align: middle;\n",
       "    }\n",
       "\n",
       "    .dataframe tbody tr th {\n",
       "        vertical-align: top;\n",
       "    }\n",
       "\n",
       "    .dataframe thead th {\n",
       "        text-align: right;\n",
       "    }\n",
       "</style>\n",
       "<table border=\"1\" class=\"dataframe\">\n",
       "  <thead>\n",
       "    <tr style=\"text-align: right;\">\n",
       "      <th></th>\n",
       "      <th>ID</th>\n",
       "      <th>Year_Birth</th>\n",
       "      <th>Education</th>\n",
       "      <th>Marital_Status</th>\n",
       "      <th>Income</th>\n",
       "      <th>Kidhome</th>\n",
       "      <th>Teenhome</th>\n",
       "      <th>Dt_Customer</th>\n",
       "      <th>Recency</th>\n",
       "      <th>MntWines</th>\n",
       "      <th>...</th>\n",
       "      <th>NumWebVisitsMonth</th>\n",
       "      <th>AcceptedCmp3</th>\n",
       "      <th>AcceptedCmp4</th>\n",
       "      <th>AcceptedCmp5</th>\n",
       "      <th>AcceptedCmp1</th>\n",
       "      <th>AcceptedCmp2</th>\n",
       "      <th>Complain</th>\n",
       "      <th>Z_CostContact</th>\n",
       "      <th>Z_Revenue</th>\n",
       "      <th>Response</th>\n",
       "    </tr>\n",
       "  </thead>\n",
       "  <tbody>\n",
       "    <tr>\n",
       "      <th>0</th>\n",
       "      <td>5524</td>\n",
       "      <td>1957</td>\n",
       "      <td>Graduation</td>\n",
       "      <td>Single</td>\n",
       "      <td>58138.0</td>\n",
       "      <td>0</td>\n",
       "      <td>0</td>\n",
       "      <td>04-09-2012</td>\n",
       "      <td>58</td>\n",
       "      <td>635</td>\n",
       "      <td>...</td>\n",
       "      <td>7</td>\n",
       "      <td>0</td>\n",
       "      <td>0</td>\n",
       "      <td>0</td>\n",
       "      <td>0</td>\n",
       "      <td>0</td>\n",
       "      <td>0</td>\n",
       "      <td>3</td>\n",
       "      <td>11</td>\n",
       "      <td>1</td>\n",
       "    </tr>\n",
       "    <tr>\n",
       "      <th>1</th>\n",
       "      <td>2174</td>\n",
       "      <td>1954</td>\n",
       "      <td>Graduation</td>\n",
       "      <td>Single</td>\n",
       "      <td>46344.0</td>\n",
       "      <td>1</td>\n",
       "      <td>1</td>\n",
       "      <td>08-03-2014</td>\n",
       "      <td>38</td>\n",
       "      <td>11</td>\n",
       "      <td>...</td>\n",
       "      <td>5</td>\n",
       "      <td>0</td>\n",
       "      <td>0</td>\n",
       "      <td>0</td>\n",
       "      <td>0</td>\n",
       "      <td>0</td>\n",
       "      <td>0</td>\n",
       "      <td>3</td>\n",
       "      <td>11</td>\n",
       "      <td>0</td>\n",
       "    </tr>\n",
       "    <tr>\n",
       "      <th>2</th>\n",
       "      <td>4141</td>\n",
       "      <td>1965</td>\n",
       "      <td>Graduation</td>\n",
       "      <td>Together</td>\n",
       "      <td>71613.0</td>\n",
       "      <td>0</td>\n",
       "      <td>0</td>\n",
       "      <td>21-08-2013</td>\n",
       "      <td>26</td>\n",
       "      <td>426</td>\n",
       "      <td>...</td>\n",
       "      <td>4</td>\n",
       "      <td>0</td>\n",
       "      <td>0</td>\n",
       "      <td>0</td>\n",
       "      <td>0</td>\n",
       "      <td>0</td>\n",
       "      <td>0</td>\n",
       "      <td>3</td>\n",
       "      <td>11</td>\n",
       "      <td>0</td>\n",
       "    </tr>\n",
       "    <tr>\n",
       "      <th>3</th>\n",
       "      <td>6182</td>\n",
       "      <td>1984</td>\n",
       "      <td>Graduation</td>\n",
       "      <td>Together</td>\n",
       "      <td>26646.0</td>\n",
       "      <td>1</td>\n",
       "      <td>0</td>\n",
       "      <td>10-02-2014</td>\n",
       "      <td>26</td>\n",
       "      <td>11</td>\n",
       "      <td>...</td>\n",
       "      <td>6</td>\n",
       "      <td>0</td>\n",
       "      <td>0</td>\n",
       "      <td>0</td>\n",
       "      <td>0</td>\n",
       "      <td>0</td>\n",
       "      <td>0</td>\n",
       "      <td>3</td>\n",
       "      <td>11</td>\n",
       "      <td>0</td>\n",
       "    </tr>\n",
       "    <tr>\n",
       "      <th>4</th>\n",
       "      <td>5324</td>\n",
       "      <td>1981</td>\n",
       "      <td>PhD</td>\n",
       "      <td>Married</td>\n",
       "      <td>58293.0</td>\n",
       "      <td>1</td>\n",
       "      <td>0</td>\n",
       "      <td>19-01-2014</td>\n",
       "      <td>94</td>\n",
       "      <td>173</td>\n",
       "      <td>...</td>\n",
       "      <td>5</td>\n",
       "      <td>0</td>\n",
       "      <td>0</td>\n",
       "      <td>0</td>\n",
       "      <td>0</td>\n",
       "      <td>0</td>\n",
       "      <td>0</td>\n",
       "      <td>3</td>\n",
       "      <td>11</td>\n",
       "      <td>0</td>\n",
       "    </tr>\n",
       "  </tbody>\n",
       "</table>\n",
       "<p>5 rows × 29 columns</p>\n",
       "</div>"
      ],
      "text/plain": [
       "     ID  Year_Birth   Education Marital_Status   Income  Kidhome  Teenhome  \\\n",
       "0  5524        1957  Graduation         Single  58138.0        0         0   \n",
       "1  2174        1954  Graduation         Single  46344.0        1         1   \n",
       "2  4141        1965  Graduation       Together  71613.0        0         0   \n",
       "3  6182        1984  Graduation       Together  26646.0        1         0   \n",
       "4  5324        1981         PhD        Married  58293.0        1         0   \n",
       "\n",
       "  Dt_Customer  Recency  MntWines  ...  NumWebVisitsMonth  AcceptedCmp3  \\\n",
       "0  04-09-2012       58       635  ...                  7             0   \n",
       "1  08-03-2014       38        11  ...                  5             0   \n",
       "2  21-08-2013       26       426  ...                  4             0   \n",
       "3  10-02-2014       26        11  ...                  6             0   \n",
       "4  19-01-2014       94       173  ...                  5             0   \n",
       "\n",
       "   AcceptedCmp4  AcceptedCmp5  AcceptedCmp1  AcceptedCmp2  Complain  \\\n",
       "0             0             0             0             0         0   \n",
       "1             0             0             0             0         0   \n",
       "2             0             0             0             0         0   \n",
       "3             0             0             0             0         0   \n",
       "4             0             0             0             0         0   \n",
       "\n",
       "   Z_CostContact  Z_Revenue  Response  \n",
       "0              3         11         1  \n",
       "1              3         11         0  \n",
       "2              3         11         0  \n",
       "3              3         11         0  \n",
       "4              3         11         0  \n",
       "\n",
       "[5 rows x 29 columns]"
      ]
     },
     "execution_count": 1007,
     "metadata": {},
     "output_type": "execute_result"
    }
   ],
   "source": [
    "data.head()"
   ]
  },
  {
   "cell_type": "code",
   "execution_count": 1008,
   "id": "f86a917a",
   "metadata": {},
   "outputs": [
    {
     "data": {
      "text/plain": [
       "ID                       int64\n",
       "Year_Birth               int64\n",
       "Education               object\n",
       "Marital_Status          object\n",
       "Income                 float64\n",
       "Kidhome                  int64\n",
       "Teenhome                 int64\n",
       "Dt_Customer             object\n",
       "Recency                  int64\n",
       "MntWines                 int64\n",
       "MntFruits                int64\n",
       "MntMeatProducts          int64\n",
       "MntFishProducts          int64\n",
       "MntSweetProducts         int64\n",
       "MntGoldProds             int64\n",
       "NumDealsPurchases        int64\n",
       "NumWebPurchases          int64\n",
       "NumCatalogPurchases      int64\n",
       "NumStorePurchases        int64\n",
       "NumWebVisitsMonth        int64\n",
       "AcceptedCmp3             int64\n",
       "AcceptedCmp4             int64\n",
       "AcceptedCmp5             int64\n",
       "AcceptedCmp1             int64\n",
       "AcceptedCmp2             int64\n",
       "Complain                 int64\n",
       "Z_CostContact            int64\n",
       "Z_Revenue                int64\n",
       "Response                 int64\n",
       "dtype: object"
      ]
     },
     "execution_count": 1008,
     "metadata": {},
     "output_type": "execute_result"
    }
   ],
   "source": [
    "data.dtypes"
   ]
  },
  {
   "cell_type": "code",
   "execution_count": 1009,
   "id": "4e2454a3",
   "metadata": {},
   "outputs": [],
   "source": [
    "data.drop('ID', axis=1, inplace=True)"
   ]
  },
  {
   "cell_type": "code",
   "execution_count": 1010,
   "id": "6afb8179",
   "metadata": {},
   "outputs": [
    {
     "data": {
      "text/plain": [
       "count    2240.0\n",
       "mean       11.0\n",
       "std         0.0\n",
       "min        11.0\n",
       "25%        11.0\n",
       "50%        11.0\n",
       "75%        11.0\n",
       "max        11.0\n",
       "Name: Z_Revenue, dtype: float64"
      ]
     },
     "execution_count": 1010,
     "metadata": {},
     "output_type": "execute_result"
    },
    {
     "data": {
      "text/plain": [
       "count    2240.0\n",
       "mean        3.0\n",
       "std         0.0\n",
       "min         3.0\n",
       "25%         3.0\n",
       "50%         3.0\n",
       "75%         3.0\n",
       "max         3.0\n",
       "Name: Z_CostContact, dtype: float64"
      ]
     },
     "execution_count": 1010,
     "metadata": {},
     "output_type": "execute_result"
    }
   ],
   "source": [
    "# CONSTANT VARIABLES\n",
    "data['Z_Revenue'].describe()\n",
    "data['Z_CostContact'].describe()\n",
    "data.drop(['Z_Revenue', 'Z_CostContact'], axis=1, inplace=True)"
   ]
  },
  {
   "cell_type": "code",
   "execution_count": 1011,
   "id": "5361a8ad",
   "metadata": {},
   "outputs": [
    {
     "data": {
      "text/plain": [
       "Year_Birth             False\n",
       "Education              False\n",
       "Marital_Status         False\n",
       "Income                  True\n",
       "Kidhome                False\n",
       "Teenhome               False\n",
       "Dt_Customer            False\n",
       "Recency                False\n",
       "MntWines               False\n",
       "MntFruits              False\n",
       "MntMeatProducts        False\n",
       "MntFishProducts        False\n",
       "MntSweetProducts       False\n",
       "MntGoldProds           False\n",
       "NumDealsPurchases      False\n",
       "NumWebPurchases        False\n",
       "NumCatalogPurchases    False\n",
       "NumStorePurchases      False\n",
       "NumWebVisitsMonth      False\n",
       "AcceptedCmp3           False\n",
       "AcceptedCmp4           False\n",
       "AcceptedCmp5           False\n",
       "AcceptedCmp1           False\n",
       "AcceptedCmp2           False\n",
       "Complain               False\n",
       "Response               False\n",
       "dtype: bool"
      ]
     },
     "execution_count": 1011,
     "metadata": {},
     "output_type": "execute_result"
    }
   ],
   "source": [
    "data.isnull().any()"
   ]
  },
  {
   "cell_type": "code",
   "execution_count": 1012,
   "id": "fec84729",
   "metadata": {},
   "outputs": [
    {
     "data": {
      "text/plain": [
       "24"
      ]
     },
     "execution_count": 1012,
     "metadata": {},
     "output_type": "execute_result"
    }
   ],
   "source": [
    "data.Income.isnull().sum()"
   ]
  },
  {
   "cell_type": "code",
   "execution_count": 1013,
   "id": "4bac51ff",
   "metadata": {},
   "outputs": [
    {
     "data": {
      "text/html": [
       "<div>\n",
       "<style scoped>\n",
       "    .dataframe tbody tr th:only-of-type {\n",
       "        vertical-align: middle;\n",
       "    }\n",
       "\n",
       "    .dataframe tbody tr th {\n",
       "        vertical-align: top;\n",
       "    }\n",
       "\n",
       "    .dataframe thead th {\n",
       "        text-align: right;\n",
       "    }\n",
       "</style>\n",
       "<table border=\"1\" class=\"dataframe\">\n",
       "  <thead>\n",
       "    <tr style=\"text-align: right;\">\n",
       "      <th></th>\n",
       "      <th>Year_Birth</th>\n",
       "      <th>Education</th>\n",
       "      <th>Marital_Status</th>\n",
       "      <th>Income</th>\n",
       "      <th>Kidhome</th>\n",
       "      <th>Teenhome</th>\n",
       "      <th>Dt_Customer</th>\n",
       "      <th>Recency</th>\n",
       "      <th>MntWines</th>\n",
       "      <th>MntFruits</th>\n",
       "      <th>...</th>\n",
       "      <th>NumCatalogPurchases</th>\n",
       "      <th>NumStorePurchases</th>\n",
       "      <th>NumWebVisitsMonth</th>\n",
       "      <th>AcceptedCmp3</th>\n",
       "      <th>AcceptedCmp4</th>\n",
       "      <th>AcceptedCmp5</th>\n",
       "      <th>AcceptedCmp1</th>\n",
       "      <th>AcceptedCmp2</th>\n",
       "      <th>Complain</th>\n",
       "      <th>Response</th>\n",
       "    </tr>\n",
       "  </thead>\n",
       "  <tbody>\n",
       "    <tr>\n",
       "      <th>10</th>\n",
       "      <td>1983</td>\n",
       "      <td>Graduation</td>\n",
       "      <td>Married</td>\n",
       "      <td>NaN</td>\n",
       "      <td>1</td>\n",
       "      <td>0</td>\n",
       "      <td>15-11-2013</td>\n",
       "      <td>11</td>\n",
       "      <td>5</td>\n",
       "      <td>5</td>\n",
       "      <td>...</td>\n",
       "      <td>0</td>\n",
       "      <td>2</td>\n",
       "      <td>7</td>\n",
       "      <td>0</td>\n",
       "      <td>0</td>\n",
       "      <td>0</td>\n",
       "      <td>0</td>\n",
       "      <td>0</td>\n",
       "      <td>0</td>\n",
       "      <td>0</td>\n",
       "    </tr>\n",
       "    <tr>\n",
       "      <th>27</th>\n",
       "      <td>1986</td>\n",
       "      <td>Graduation</td>\n",
       "      <td>Single</td>\n",
       "      <td>NaN</td>\n",
       "      <td>1</td>\n",
       "      <td>0</td>\n",
       "      <td>20-02-2013</td>\n",
       "      <td>19</td>\n",
       "      <td>5</td>\n",
       "      <td>1</td>\n",
       "      <td>...</td>\n",
       "      <td>0</td>\n",
       "      <td>0</td>\n",
       "      <td>1</td>\n",
       "      <td>0</td>\n",
       "      <td>0</td>\n",
       "      <td>0</td>\n",
       "      <td>0</td>\n",
       "      <td>0</td>\n",
       "      <td>0</td>\n",
       "      <td>0</td>\n",
       "    </tr>\n",
       "    <tr>\n",
       "      <th>43</th>\n",
       "      <td>1959</td>\n",
       "      <td>PhD</td>\n",
       "      <td>Single</td>\n",
       "      <td>NaN</td>\n",
       "      <td>0</td>\n",
       "      <td>0</td>\n",
       "      <td>05-11-2013</td>\n",
       "      <td>80</td>\n",
       "      <td>81</td>\n",
       "      <td>11</td>\n",
       "      <td>...</td>\n",
       "      <td>3</td>\n",
       "      <td>4</td>\n",
       "      <td>2</td>\n",
       "      <td>0</td>\n",
       "      <td>0</td>\n",
       "      <td>0</td>\n",
       "      <td>0</td>\n",
       "      <td>0</td>\n",
       "      <td>0</td>\n",
       "      <td>0</td>\n",
       "    </tr>\n",
       "    <tr>\n",
       "      <th>48</th>\n",
       "      <td>1951</td>\n",
       "      <td>Graduation</td>\n",
       "      <td>Single</td>\n",
       "      <td>NaN</td>\n",
       "      <td>2</td>\n",
       "      <td>1</td>\n",
       "      <td>01-01-2014</td>\n",
       "      <td>96</td>\n",
       "      <td>48</td>\n",
       "      <td>5</td>\n",
       "      <td>...</td>\n",
       "      <td>1</td>\n",
       "      <td>4</td>\n",
       "      <td>6</td>\n",
       "      <td>0</td>\n",
       "      <td>0</td>\n",
       "      <td>0</td>\n",
       "      <td>0</td>\n",
       "      <td>0</td>\n",
       "      <td>0</td>\n",
       "      <td>0</td>\n",
       "    </tr>\n",
       "    <tr>\n",
       "      <th>58</th>\n",
       "      <td>1982</td>\n",
       "      <td>Graduation</td>\n",
       "      <td>Single</td>\n",
       "      <td>NaN</td>\n",
       "      <td>1</td>\n",
       "      <td>0</td>\n",
       "      <td>17-06-2013</td>\n",
       "      <td>57</td>\n",
       "      <td>11</td>\n",
       "      <td>3</td>\n",
       "      <td>...</td>\n",
       "      <td>0</td>\n",
       "      <td>3</td>\n",
       "      <td>6</td>\n",
       "      <td>0</td>\n",
       "      <td>0</td>\n",
       "      <td>0</td>\n",
       "      <td>0</td>\n",
       "      <td>0</td>\n",
       "      <td>0</td>\n",
       "      <td>0</td>\n",
       "    </tr>\n",
       "    <tr>\n",
       "      <th>71</th>\n",
       "      <td>1973</td>\n",
       "      <td>2n Cycle</td>\n",
       "      <td>Married</td>\n",
       "      <td>NaN</td>\n",
       "      <td>1</td>\n",
       "      <td>0</td>\n",
       "      <td>14-09-2012</td>\n",
       "      <td>25</td>\n",
       "      <td>25</td>\n",
       "      <td>3</td>\n",
       "      <td>...</td>\n",
       "      <td>0</td>\n",
       "      <td>3</td>\n",
       "      <td>8</td>\n",
       "      <td>0</td>\n",
       "      <td>0</td>\n",
       "      <td>0</td>\n",
       "      <td>0</td>\n",
       "      <td>0</td>\n",
       "      <td>0</td>\n",
       "      <td>0</td>\n",
       "    </tr>\n",
       "    <tr>\n",
       "      <th>90</th>\n",
       "      <td>1957</td>\n",
       "      <td>PhD</td>\n",
       "      <td>Married</td>\n",
       "      <td>NaN</td>\n",
       "      <td>2</td>\n",
       "      <td>1</td>\n",
       "      <td>19-11-2012</td>\n",
       "      <td>4</td>\n",
       "      <td>230</td>\n",
       "      <td>42</td>\n",
       "      <td>...</td>\n",
       "      <td>2</td>\n",
       "      <td>8</td>\n",
       "      <td>9</td>\n",
       "      <td>0</td>\n",
       "      <td>0</td>\n",
       "      <td>0</td>\n",
       "      <td>0</td>\n",
       "      <td>0</td>\n",
       "      <td>0</td>\n",
       "      <td>0</td>\n",
       "    </tr>\n",
       "    <tr>\n",
       "      <th>91</th>\n",
       "      <td>1957</td>\n",
       "      <td>Graduation</td>\n",
       "      <td>Single</td>\n",
       "      <td>NaN</td>\n",
       "      <td>1</td>\n",
       "      <td>1</td>\n",
       "      <td>27-05-2014</td>\n",
       "      <td>45</td>\n",
       "      <td>7</td>\n",
       "      <td>0</td>\n",
       "      <td>...</td>\n",
       "      <td>0</td>\n",
       "      <td>2</td>\n",
       "      <td>7</td>\n",
       "      <td>0</td>\n",
       "      <td>0</td>\n",
       "      <td>0</td>\n",
       "      <td>0</td>\n",
       "      <td>0</td>\n",
       "      <td>0</td>\n",
       "      <td>0</td>\n",
       "    </tr>\n",
       "    <tr>\n",
       "      <th>92</th>\n",
       "      <td>1973</td>\n",
       "      <td>Master</td>\n",
       "      <td>Together</td>\n",
       "      <td>NaN</td>\n",
       "      <td>0</td>\n",
       "      <td>0</td>\n",
       "      <td>23-11-2013</td>\n",
       "      <td>87</td>\n",
       "      <td>445</td>\n",
       "      <td>37</td>\n",
       "      <td>...</td>\n",
       "      <td>4</td>\n",
       "      <td>8</td>\n",
       "      <td>1</td>\n",
       "      <td>0</td>\n",
       "      <td>0</td>\n",
       "      <td>0</td>\n",
       "      <td>0</td>\n",
       "      <td>0</td>\n",
       "      <td>0</td>\n",
       "      <td>0</td>\n",
       "    </tr>\n",
       "    <tr>\n",
       "      <th>128</th>\n",
       "      <td>1961</td>\n",
       "      <td>PhD</td>\n",
       "      <td>Married</td>\n",
       "      <td>NaN</td>\n",
       "      <td>0</td>\n",
       "      <td>1</td>\n",
       "      <td>11-07-2013</td>\n",
       "      <td>23</td>\n",
       "      <td>352</td>\n",
       "      <td>0</td>\n",
       "      <td>...</td>\n",
       "      <td>1</td>\n",
       "      <td>7</td>\n",
       "      <td>6</td>\n",
       "      <td>0</td>\n",
       "      <td>0</td>\n",
       "      <td>0</td>\n",
       "      <td>0</td>\n",
       "      <td>0</td>\n",
       "      <td>0</td>\n",
       "      <td>0</td>\n",
       "    </tr>\n",
       "    <tr>\n",
       "      <th>133</th>\n",
       "      <td>1963</td>\n",
       "      <td>Graduation</td>\n",
       "      <td>Married</td>\n",
       "      <td>NaN</td>\n",
       "      <td>0</td>\n",
       "      <td>1</td>\n",
       "      <td>11-08-2013</td>\n",
       "      <td>96</td>\n",
       "      <td>231</td>\n",
       "      <td>65</td>\n",
       "      <td>...</td>\n",
       "      <td>5</td>\n",
       "      <td>7</td>\n",
       "      <td>4</td>\n",
       "      <td>0</td>\n",
       "      <td>0</td>\n",
       "      <td>0</td>\n",
       "      <td>0</td>\n",
       "      <td>0</td>\n",
       "      <td>0</td>\n",
       "      <td>0</td>\n",
       "    </tr>\n",
       "    <tr>\n",
       "      <th>312</th>\n",
       "      <td>1989</td>\n",
       "      <td>Graduation</td>\n",
       "      <td>Married</td>\n",
       "      <td>NaN</td>\n",
       "      <td>0</td>\n",
       "      <td>0</td>\n",
       "      <td>03-06-2013</td>\n",
       "      <td>69</td>\n",
       "      <td>861</td>\n",
       "      <td>138</td>\n",
       "      <td>...</td>\n",
       "      <td>5</td>\n",
       "      <td>12</td>\n",
       "      <td>3</td>\n",
       "      <td>0</td>\n",
       "      <td>1</td>\n",
       "      <td>0</td>\n",
       "      <td>1</td>\n",
       "      <td>0</td>\n",
       "      <td>0</td>\n",
       "      <td>0</td>\n",
       "    </tr>\n",
       "    <tr>\n",
       "      <th>319</th>\n",
       "      <td>1970</td>\n",
       "      <td>Graduation</td>\n",
       "      <td>Single</td>\n",
       "      <td>NaN</td>\n",
       "      <td>1</td>\n",
       "      <td>2</td>\n",
       "      <td>23-08-2013</td>\n",
       "      <td>67</td>\n",
       "      <td>738</td>\n",
       "      <td>20</td>\n",
       "      <td>...</td>\n",
       "      <td>3</td>\n",
       "      <td>10</td>\n",
       "      <td>7</td>\n",
       "      <td>0</td>\n",
       "      <td>1</td>\n",
       "      <td>0</td>\n",
       "      <td>1</td>\n",
       "      <td>0</td>\n",
       "      <td>0</td>\n",
       "      <td>0</td>\n",
       "    </tr>\n",
       "    <tr>\n",
       "      <th>1379</th>\n",
       "      <td>1970</td>\n",
       "      <td>Master</td>\n",
       "      <td>Together</td>\n",
       "      <td>NaN</td>\n",
       "      <td>0</td>\n",
       "      <td>1</td>\n",
       "      <td>01-04-2013</td>\n",
       "      <td>39</td>\n",
       "      <td>187</td>\n",
       "      <td>5</td>\n",
       "      <td>...</td>\n",
       "      <td>2</td>\n",
       "      <td>6</td>\n",
       "      <td>5</td>\n",
       "      <td>0</td>\n",
       "      <td>0</td>\n",
       "      <td>0</td>\n",
       "      <td>0</td>\n",
       "      <td>0</td>\n",
       "      <td>0</td>\n",
       "      <td>0</td>\n",
       "    </tr>\n",
       "    <tr>\n",
       "      <th>1382</th>\n",
       "      <td>1958</td>\n",
       "      <td>Graduation</td>\n",
       "      <td>Together</td>\n",
       "      <td>NaN</td>\n",
       "      <td>1</td>\n",
       "      <td>1</td>\n",
       "      <td>03-09-2012</td>\n",
       "      <td>87</td>\n",
       "      <td>19</td>\n",
       "      <td>4</td>\n",
       "      <td>...</td>\n",
       "      <td>0</td>\n",
       "      <td>3</td>\n",
       "      <td>5</td>\n",
       "      <td>0</td>\n",
       "      <td>0</td>\n",
       "      <td>0</td>\n",
       "      <td>0</td>\n",
       "      <td>0</td>\n",
       "      <td>0</td>\n",
       "      <td>0</td>\n",
       "    </tr>\n",
       "    <tr>\n",
       "      <th>1383</th>\n",
       "      <td>1964</td>\n",
       "      <td>2n Cycle</td>\n",
       "      <td>Single</td>\n",
       "      <td>NaN</td>\n",
       "      <td>1</td>\n",
       "      <td>1</td>\n",
       "      <td>12-01-2014</td>\n",
       "      <td>49</td>\n",
       "      <td>5</td>\n",
       "      <td>1</td>\n",
       "      <td>...</td>\n",
       "      <td>0</td>\n",
       "      <td>2</td>\n",
       "      <td>7</td>\n",
       "      <td>0</td>\n",
       "      <td>0</td>\n",
       "      <td>0</td>\n",
       "      <td>0</td>\n",
       "      <td>0</td>\n",
       "      <td>0</td>\n",
       "      <td>0</td>\n",
       "    </tr>\n",
       "    <tr>\n",
       "      <th>1386</th>\n",
       "      <td>1972</td>\n",
       "      <td>PhD</td>\n",
       "      <td>Together</td>\n",
       "      <td>NaN</td>\n",
       "      <td>1</td>\n",
       "      <td>0</td>\n",
       "      <td>02-03-2014</td>\n",
       "      <td>17</td>\n",
       "      <td>25</td>\n",
       "      <td>1</td>\n",
       "      <td>...</td>\n",
       "      <td>0</td>\n",
       "      <td>3</td>\n",
       "      <td>7</td>\n",
       "      <td>0</td>\n",
       "      <td>0</td>\n",
       "      <td>0</td>\n",
       "      <td>0</td>\n",
       "      <td>0</td>\n",
       "      <td>0</td>\n",
       "      <td>0</td>\n",
       "    </tr>\n",
       "    <tr>\n",
       "      <th>2059</th>\n",
       "      <td>1969</td>\n",
       "      <td>Master</td>\n",
       "      <td>Together</td>\n",
       "      <td>NaN</td>\n",
       "      <td>1</td>\n",
       "      <td>1</td>\n",
       "      <td>18-05-2013</td>\n",
       "      <td>52</td>\n",
       "      <td>375</td>\n",
       "      <td>42</td>\n",
       "      <td>...</td>\n",
       "      <td>10</td>\n",
       "      <td>4</td>\n",
       "      <td>3</td>\n",
       "      <td>0</td>\n",
       "      <td>0</td>\n",
       "      <td>0</td>\n",
       "      <td>0</td>\n",
       "      <td>0</td>\n",
       "      <td>0</td>\n",
       "      <td>0</td>\n",
       "    </tr>\n",
       "    <tr>\n",
       "      <th>2061</th>\n",
       "      <td>1981</td>\n",
       "      <td>PhD</td>\n",
       "      <td>Single</td>\n",
       "      <td>NaN</td>\n",
       "      <td>1</td>\n",
       "      <td>0</td>\n",
       "      <td>31-05-2013</td>\n",
       "      <td>82</td>\n",
       "      <td>23</td>\n",
       "      <td>0</td>\n",
       "      <td>...</td>\n",
       "      <td>0</td>\n",
       "      <td>3</td>\n",
       "      <td>6</td>\n",
       "      <td>0</td>\n",
       "      <td>0</td>\n",
       "      <td>0</td>\n",
       "      <td>0</td>\n",
       "      <td>0</td>\n",
       "      <td>0</td>\n",
       "      <td>0</td>\n",
       "    </tr>\n",
       "    <tr>\n",
       "      <th>2078</th>\n",
       "      <td>1971</td>\n",
       "      <td>Graduation</td>\n",
       "      <td>Married</td>\n",
       "      <td>NaN</td>\n",
       "      <td>1</td>\n",
       "      <td>1</td>\n",
       "      <td>03-03-2013</td>\n",
       "      <td>82</td>\n",
       "      <td>71</td>\n",
       "      <td>1</td>\n",
       "      <td>...</td>\n",
       "      <td>1</td>\n",
       "      <td>3</td>\n",
       "      <td>8</td>\n",
       "      <td>0</td>\n",
       "      <td>0</td>\n",
       "      <td>0</td>\n",
       "      <td>0</td>\n",
       "      <td>0</td>\n",
       "      <td>0</td>\n",
       "      <td>0</td>\n",
       "    </tr>\n",
       "    <tr>\n",
       "      <th>2079</th>\n",
       "      <td>1954</td>\n",
       "      <td>Master</td>\n",
       "      <td>Together</td>\n",
       "      <td>NaN</td>\n",
       "      <td>0</td>\n",
       "      <td>1</td>\n",
       "      <td>23-06-2013</td>\n",
       "      <td>83</td>\n",
       "      <td>161</td>\n",
       "      <td>0</td>\n",
       "      <td>...</td>\n",
       "      <td>1</td>\n",
       "      <td>4</td>\n",
       "      <td>6</td>\n",
       "      <td>0</td>\n",
       "      <td>0</td>\n",
       "      <td>0</td>\n",
       "      <td>0</td>\n",
       "      <td>0</td>\n",
       "      <td>0</td>\n",
       "      <td>0</td>\n",
       "    </tr>\n",
       "    <tr>\n",
       "      <th>2081</th>\n",
       "      <td>1955</td>\n",
       "      <td>Graduation</td>\n",
       "      <td>Single</td>\n",
       "      <td>NaN</td>\n",
       "      <td>0</td>\n",
       "      <td>1</td>\n",
       "      <td>18-10-2013</td>\n",
       "      <td>95</td>\n",
       "      <td>264</td>\n",
       "      <td>0</td>\n",
       "      <td>...</td>\n",
       "      <td>1</td>\n",
       "      <td>5</td>\n",
       "      <td>7</td>\n",
       "      <td>0</td>\n",
       "      <td>0</td>\n",
       "      <td>0</td>\n",
       "      <td>0</td>\n",
       "      <td>0</td>\n",
       "      <td>0</td>\n",
       "      <td>0</td>\n",
       "    </tr>\n",
       "    <tr>\n",
       "      <th>2084</th>\n",
       "      <td>1943</td>\n",
       "      <td>Master</td>\n",
       "      <td>Widow</td>\n",
       "      <td>NaN</td>\n",
       "      <td>0</td>\n",
       "      <td>0</td>\n",
       "      <td>30-10-2013</td>\n",
       "      <td>75</td>\n",
       "      <td>532</td>\n",
       "      <td>126</td>\n",
       "      <td>...</td>\n",
       "      <td>5</td>\n",
       "      <td>11</td>\n",
       "      <td>1</td>\n",
       "      <td>0</td>\n",
       "      <td>0</td>\n",
       "      <td>1</td>\n",
       "      <td>0</td>\n",
       "      <td>0</td>\n",
       "      <td>0</td>\n",
       "      <td>1</td>\n",
       "    </tr>\n",
       "    <tr>\n",
       "      <th>2228</th>\n",
       "      <td>1978</td>\n",
       "      <td>2n Cycle</td>\n",
       "      <td>Together</td>\n",
       "      <td>NaN</td>\n",
       "      <td>0</td>\n",
       "      <td>0</td>\n",
       "      <td>12-08-2012</td>\n",
       "      <td>53</td>\n",
       "      <td>32</td>\n",
       "      <td>2</td>\n",
       "      <td>...</td>\n",
       "      <td>0</td>\n",
       "      <td>1</td>\n",
       "      <td>0</td>\n",
       "      <td>0</td>\n",
       "      <td>1</td>\n",
       "      <td>0</td>\n",
       "      <td>0</td>\n",
       "      <td>0</td>\n",
       "      <td>0</td>\n",
       "      <td>0</td>\n",
       "    </tr>\n",
       "  </tbody>\n",
       "</table>\n",
       "<p>24 rows × 26 columns</p>\n",
       "</div>"
      ],
      "text/plain": [
       "      Year_Birth   Education Marital_Status  Income  Kidhome  Teenhome  \\\n",
       "10          1983  Graduation        Married     NaN        1         0   \n",
       "27          1986  Graduation         Single     NaN        1         0   \n",
       "43          1959         PhD         Single     NaN        0         0   \n",
       "48          1951  Graduation         Single     NaN        2         1   \n",
       "58          1982  Graduation         Single     NaN        1         0   \n",
       "71          1973    2n Cycle        Married     NaN        1         0   \n",
       "90          1957         PhD        Married     NaN        2         1   \n",
       "91          1957  Graduation         Single     NaN        1         1   \n",
       "92          1973      Master       Together     NaN        0         0   \n",
       "128         1961         PhD        Married     NaN        0         1   \n",
       "133         1963  Graduation        Married     NaN        0         1   \n",
       "312         1989  Graduation        Married     NaN        0         0   \n",
       "319         1970  Graduation         Single     NaN        1         2   \n",
       "1379        1970      Master       Together     NaN        0         1   \n",
       "1382        1958  Graduation       Together     NaN        1         1   \n",
       "1383        1964    2n Cycle         Single     NaN        1         1   \n",
       "1386        1972         PhD       Together     NaN        1         0   \n",
       "2059        1969      Master       Together     NaN        1         1   \n",
       "2061        1981         PhD         Single     NaN        1         0   \n",
       "2078        1971  Graduation        Married     NaN        1         1   \n",
       "2079        1954      Master       Together     NaN        0         1   \n",
       "2081        1955  Graduation         Single     NaN        0         1   \n",
       "2084        1943      Master          Widow     NaN        0         0   \n",
       "2228        1978    2n Cycle       Together     NaN        0         0   \n",
       "\n",
       "     Dt_Customer  Recency  MntWines  MntFruits  ...  NumCatalogPurchases  \\\n",
       "10    15-11-2013       11         5          5  ...                    0   \n",
       "27    20-02-2013       19         5          1  ...                    0   \n",
       "43    05-11-2013       80        81         11  ...                    3   \n",
       "48    01-01-2014       96        48          5  ...                    1   \n",
       "58    17-06-2013       57        11          3  ...                    0   \n",
       "71    14-09-2012       25        25          3  ...                    0   \n",
       "90    19-11-2012        4       230         42  ...                    2   \n",
       "91    27-05-2014       45         7          0  ...                    0   \n",
       "92    23-11-2013       87       445         37  ...                    4   \n",
       "128   11-07-2013       23       352          0  ...                    1   \n",
       "133   11-08-2013       96       231         65  ...                    5   \n",
       "312   03-06-2013       69       861        138  ...                    5   \n",
       "319   23-08-2013       67       738         20  ...                    3   \n",
       "1379  01-04-2013       39       187          5  ...                    2   \n",
       "1382  03-09-2012       87        19          4  ...                    0   \n",
       "1383  12-01-2014       49         5          1  ...                    0   \n",
       "1386  02-03-2014       17        25          1  ...                    0   \n",
       "2059  18-05-2013       52       375         42  ...                   10   \n",
       "2061  31-05-2013       82        23          0  ...                    0   \n",
       "2078  03-03-2013       82        71          1  ...                    1   \n",
       "2079  23-06-2013       83       161          0  ...                    1   \n",
       "2081  18-10-2013       95       264          0  ...                    1   \n",
       "2084  30-10-2013       75       532        126  ...                    5   \n",
       "2228  12-08-2012       53        32          2  ...                    0   \n",
       "\n",
       "      NumStorePurchases  NumWebVisitsMonth  AcceptedCmp3  AcceptedCmp4  \\\n",
       "10                    2                  7             0             0   \n",
       "27                    0                  1             0             0   \n",
       "43                    4                  2             0             0   \n",
       "48                    4                  6             0             0   \n",
       "58                    3                  6             0             0   \n",
       "71                    3                  8             0             0   \n",
       "90                    8                  9             0             0   \n",
       "91                    2                  7             0             0   \n",
       "92                    8                  1             0             0   \n",
       "128                   7                  6             0             0   \n",
       "133                   7                  4             0             0   \n",
       "312                  12                  3             0             1   \n",
       "319                  10                  7             0             1   \n",
       "1379                  6                  5             0             0   \n",
       "1382                  3                  5             0             0   \n",
       "1383                  2                  7             0             0   \n",
       "1386                  3                  7             0             0   \n",
       "2059                  4                  3             0             0   \n",
       "2061                  3                  6             0             0   \n",
       "2078                  3                  8             0             0   \n",
       "2079                  4                  6             0             0   \n",
       "2081                  5                  7             0             0   \n",
       "2084                 11                  1             0             0   \n",
       "2228                  1                  0             0             1   \n",
       "\n",
       "      AcceptedCmp5  AcceptedCmp1  AcceptedCmp2  Complain  Response  \n",
       "10               0             0             0         0         0  \n",
       "27               0             0             0         0         0  \n",
       "43               0             0             0         0         0  \n",
       "48               0             0             0         0         0  \n",
       "58               0             0             0         0         0  \n",
       "71               0             0             0         0         0  \n",
       "90               0             0             0         0         0  \n",
       "91               0             0             0         0         0  \n",
       "92               0             0             0         0         0  \n",
       "128              0             0             0         0         0  \n",
       "133              0             0             0         0         0  \n",
       "312              0             1             0         0         0  \n",
       "319              0             1             0         0         0  \n",
       "1379             0             0             0         0         0  \n",
       "1382             0             0             0         0         0  \n",
       "1383             0             0             0         0         0  \n",
       "1386             0             0             0         0         0  \n",
       "2059             0             0             0         0         0  \n",
       "2061             0             0             0         0         0  \n",
       "2078             0             0             0         0         0  \n",
       "2079             0             0             0         0         0  \n",
       "2081             0             0             0         0         0  \n",
       "2084             1             0             0         0         1  \n",
       "2228             0             0             0         0         0  \n",
       "\n",
       "[24 rows x 26 columns]"
      ]
     },
     "execution_count": 1013,
     "metadata": {},
     "output_type": "execute_result"
    }
   ],
   "source": [
    "data.loc[data['Income'].isnull()== True]"
   ]
  },
  {
   "cell_type": "code",
   "execution_count": 1014,
   "id": "ed41ac2f",
   "metadata": {},
   "outputs": [],
   "source": [
    "# Replacing missing values of 'Income' with mean value of the respective group of education:\n",
    "for i in range(0, data.shape[0]):\n",
    "    if data.Income[i]!=data.Income[i]: # NaN!=Nan\n",
    "        data.Income[i]=data['Income'].loc[data['Education']==data['Education'][i]].mean()"
   ]
  },
  {
   "cell_type": "code",
   "execution_count": 1015,
   "id": "1096aeb4",
   "metadata": {},
   "outputs": [
    {
     "data": {
      "text/plain": [
       "Year_Birth             False\n",
       "Education              False\n",
       "Marital_Status         False\n",
       "Income                 False\n",
       "Kidhome                False\n",
       "Teenhome               False\n",
       "Dt_Customer            False\n",
       "Recency                False\n",
       "MntWines               False\n",
       "MntFruits              False\n",
       "MntMeatProducts        False\n",
       "MntFishProducts        False\n",
       "MntSweetProducts       False\n",
       "MntGoldProds           False\n",
       "NumDealsPurchases      False\n",
       "NumWebPurchases        False\n",
       "NumCatalogPurchases    False\n",
       "NumStorePurchases      False\n",
       "NumWebVisitsMonth      False\n",
       "AcceptedCmp3           False\n",
       "AcceptedCmp4           False\n",
       "AcceptedCmp5           False\n",
       "AcceptedCmp1           False\n",
       "AcceptedCmp2           False\n",
       "Complain               False\n",
       "Response               False\n",
       "dtype: bool"
      ]
     },
     "execution_count": 1015,
     "metadata": {},
     "output_type": "execute_result"
    }
   ],
   "source": [
    "data.isnull().any()"
   ]
  },
  {
   "cell_type": "code",
   "execution_count": 1016,
   "id": "b668355b",
   "metadata": {},
   "outputs": [
    {
     "data": {
      "text/plain": [
       "['Year_Birth',\n",
       " 'Income',\n",
       " 'Kidhome',\n",
       " 'Teenhome',\n",
       " 'Recency',\n",
       " 'MntWines',\n",
       " 'MntFruits',\n",
       " 'MntMeatProducts',\n",
       " 'MntFishProducts',\n",
       " 'MntSweetProducts',\n",
       " 'MntGoldProds',\n",
       " 'NumDealsPurchases',\n",
       " 'NumWebPurchases',\n",
       " 'NumCatalogPurchases',\n",
       " 'NumStorePurchases',\n",
       " 'NumWebVisitsMonth']"
      ]
     },
     "execution_count": 1016,
     "metadata": {},
     "output_type": "execute_result"
    }
   ],
   "source": [
    "num =[var for var in data.columns if data[var].dtypes!='object' and 'Accepted' not in var and 'Complain' not in var and 'Response' not in var]\n",
    "num"
   ]
  },
  {
   "cell_type": "code",
   "execution_count": 1017,
   "id": "b27b7889",
   "metadata": {},
   "outputs": [],
   "source": [
    "import resource"
   ]
  },
  {
   "cell_type": "code",
   "execution_count": 1018,
   "id": "d4843e33",
   "metadata": {},
   "outputs": [
    {
     "name": "stdout",
     "output_type": "stream",
     "text": [
      "Memory usage: 4382.3359375 MB\n"
     ]
    }
   ],
   "source": [
    "# Get memory usage information (in bytes)\n",
    "mem_usage = resource.getrusage(resource.RUSAGE_SELF).ru_maxrss\n",
    "\n",
    "# Convert memory usage to megabytes (MB)\n",
    "mem_usage_mb = mem_usage / (1024 ** 2)\n",
    "\n",
    "print(\"Memory usage:\", mem_usage_mb, \"MB\")"
   ]
  },
  {
   "cell_type": "code",
   "execution_count": 1019,
   "id": "2b90a161",
   "metadata": {},
   "outputs": [
    {
     "name": "stdout",
     "output_type": "stream",
     "text": [
      "Number of CPUs: 8\n",
      "Dataset exists and was loaded successfully.\n"
     ]
    }
   ],
   "source": [
    "dataset = dataset\n",
    "\n",
    "import gensim.downloader as api\n",
    "# from gensim.models.word2vec import Word2Vec\n",
    "\n",
    "# An API (Application Programming Interface) provides a structured and standardized way\n",
    "# for developers to interact with and access the functionality or resources within a product,\n",
    "# program, or system.\n",
    "\n",
    "from multiprocessing import cpu_count\n",
    "num_cpus = cpu_count()\n",
    "print(\"Number of CPUs:\", num_cpus)\n",
    "\n",
    "# Check if the dataset is already loaded\n",
    "\n",
    "# Check if the dataset exists and was loaded successfully\n",
    "if dataset is not None:\n",
    "    print(\"Dataset exists and was loaded successfully.\")\n",
    "else:\n",
    "    dataset = api.load(\"word2vec-google-news-300\") if dataset is None else dataset\n"
   ]
  },
  {
   "cell_type": "code",
   "execution_count": 1020,
   "id": "fc614622",
   "metadata": {},
   "outputs": [
    {
     "name": "stdout",
     "output_type": "stream",
     "text": [
      "Memory usage: 4382.3359375 MB\n"
     ]
    }
   ],
   "source": [
    "# Get memory usage information (in bytes)\n",
    "mem_usage = resource.getrusage(resource.RUSAGE_SELF).ru_maxrss\n",
    "\n",
    "# Convert memory usage to megabytes (MB)\n",
    "mem_usage_mb = mem_usage / (1024 ** 2)\n",
    "\n",
    "print(\"Memory usage:\", mem_usage_mb, \"MB\")"
   ]
  },
  {
   "cell_type": "code",
   "execution_count": 1021,
   "id": "8f5b19cb",
   "metadata": {},
   "outputs": [
    {
     "data": {
      "text/plain": [
       "numpy.ndarray"
      ]
     },
     "execution_count": 1021,
     "metadata": {},
     "output_type": "execute_result"
    },
    {
     "data": {
      "text/plain": [
       "array([-0.28710938, -0.00427246, -0.20898438,  0.07226562,  0.09082031,\n",
       "       -0.40234375,  0.18359375,  0.12597656,  0.09814453,  0.234375  ],\n",
       "      dtype=float32)"
      ]
     },
     "execution_count": 1021,
     "metadata": {},
     "output_type": "execute_result"
    }
   ],
   "source": [
    "type(dataset['Widow'])\n",
    "dataset['Graduation'][0:10]"
   ]
  },
  {
   "cell_type": "code",
   "execution_count": 1022,
   "id": "c0cbf57d",
   "metadata": {},
   "outputs": [],
   "source": [
    "# # initialize new columns for Marital Status\n",
    "# for i in range(300):\n",
    "#     data['Marital_Status_' + str(i)] = 0\n",
    "# data.columns[0:26]\n",
    "# data.columns[26:]\n",
    "# data.loc[0, 'Marital_Status_0']\n",
    "# data.iloc[0]['Marital_Status_0']"
   ]
  },
  {
   "cell_type": "code",
   "execution_count": 1023,
   "id": "885f5063",
   "metadata": {},
   "outputs": [
    {
     "data": {
      "text/plain": [
       "array(['Single', 'Together', 'Married', 'Divorced', 'Widow', 'Alone',\n",
       "       'Absurd', 'YOLO'], dtype=object)"
      ]
     },
     "execution_count": 1023,
     "metadata": {},
     "output_type": "execute_result"
    }
   ],
   "source": [
    "data.Marital_Status.unique()"
   ]
  },
  {
   "cell_type": "code",
   "execution_count": 1024,
   "id": "eb5e0084",
   "metadata": {},
   "outputs": [
    {
     "name": "stdout",
     "output_type": "stream",
     "text": [
      "Single is in the vocabulary\n",
      "Together is in the vocabulary\n",
      "Married is in the vocabulary\n",
      "Divorced is in the vocabulary\n",
      "Widow is in the vocabulary\n",
      "Alone is in the vocabulary\n",
      "Absurd is in the vocabulary\n",
      "YOLO is in the vocabulary\n"
     ]
    }
   ],
   "source": [
    "for i in list(data['Marital_Status'].unique()):\n",
    "    if i in dataset:\n",
    "        print(i, 'is in the vocabulary')\n",
    "    else:\n",
    "        print(i, 'isnt in the vocabulary')"
   ]
  },
  {
   "cell_type": "code",
   "execution_count": 1025,
   "id": "cbf31e26",
   "metadata": {},
   "outputs": [],
   "source": [
    "marital_status_encoding= None"
   ]
  },
  {
   "cell_type": "code",
   "execution_count": 1026,
   "id": "eeb4452f",
   "metadata": {},
   "outputs": [
    {
     "data": {
      "text/html": [
       "<div>\n",
       "<style scoped>\n",
       "    .dataframe tbody tr th:only-of-type {\n",
       "        vertical-align: middle;\n",
       "    }\n",
       "\n",
       "    .dataframe tbody tr th {\n",
       "        vertical-align: top;\n",
       "    }\n",
       "\n",
       "    .dataframe thead th {\n",
       "        text-align: right;\n",
       "    }\n",
       "</style>\n",
       "<table border=\"1\" class=\"dataframe\">\n",
       "  <thead>\n",
       "    <tr style=\"text-align: right;\">\n",
       "      <th></th>\n",
       "      <th>Marital_Status</th>\n",
       "      <th>Frequency</th>\n",
       "    </tr>\n",
       "  </thead>\n",
       "  <tbody>\n",
       "    <tr>\n",
       "      <th>0</th>\n",
       "      <td>Absurd</td>\n",
       "      <td>2</td>\n",
       "    </tr>\n",
       "    <tr>\n",
       "      <th>1</th>\n",
       "      <td>Alone</td>\n",
       "      <td>3</td>\n",
       "    </tr>\n",
       "    <tr>\n",
       "      <th>2</th>\n",
       "      <td>Divorced</td>\n",
       "      <td>232</td>\n",
       "    </tr>\n",
       "    <tr>\n",
       "      <th>3</th>\n",
       "      <td>Married</td>\n",
       "      <td>864</td>\n",
       "    </tr>\n",
       "    <tr>\n",
       "      <th>4</th>\n",
       "      <td>Single</td>\n",
       "      <td>480</td>\n",
       "    </tr>\n",
       "    <tr>\n",
       "      <th>5</th>\n",
       "      <td>Together</td>\n",
       "      <td>580</td>\n",
       "    </tr>\n",
       "    <tr>\n",
       "      <th>6</th>\n",
       "      <td>Widow</td>\n",
       "      <td>77</td>\n",
       "    </tr>\n",
       "    <tr>\n",
       "      <th>7</th>\n",
       "      <td>YOLO</td>\n",
       "      <td>2</td>\n",
       "    </tr>\n",
       "  </tbody>\n",
       "</table>\n",
       "</div>"
      ],
      "text/plain": [
       "  Marital_Status  Frequency\n",
       "0         Absurd          2\n",
       "1          Alone          3\n",
       "2       Divorced        232\n",
       "3        Married        864\n",
       "4         Single        480\n",
       "5       Together        580\n",
       "6          Widow         77\n",
       "7           YOLO          2"
      ]
     },
     "execution_count": 1026,
     "metadata": {},
     "output_type": "execute_result"
    }
   ],
   "source": [
    "data.groupby('Marital_Status').size().reset_index(name='Frequency')"
   ]
  },
  {
   "cell_type": "code",
   "execution_count": 1027,
   "id": "8fe283b4",
   "metadata": {},
   "outputs": [],
   "source": [
    "# # Assuming Absurd, Yolo and Alone are equivalent. We can combine these two categories.\n",
    "data['Marital_Status'] = data['Marital_Status'].replace('YOLO', 'Single')\n",
    "data['Marital_Status'] = data['Marital_Status'].replace('Alone', 'Single')\n",
    "data['Marital_Status'] = data['Marital_Status'].replace('Absurd', 'Single')"
   ]
  },
  {
   "cell_type": "code",
   "execution_count": 1028,
   "id": "6b6c031d",
   "metadata": {},
   "outputs": [
    {
     "data": {
      "text/html": [
       "<div>\n",
       "<style scoped>\n",
       "    .dataframe tbody tr th:only-of-type {\n",
       "        vertical-align: middle;\n",
       "    }\n",
       "\n",
       "    .dataframe tbody tr th {\n",
       "        vertical-align: top;\n",
       "    }\n",
       "\n",
       "    .dataframe thead th {\n",
       "        text-align: right;\n",
       "    }\n",
       "</style>\n",
       "<table border=\"1\" class=\"dataframe\">\n",
       "  <thead>\n",
       "    <tr style=\"text-align: right;\">\n",
       "      <th></th>\n",
       "      <th>Marital_Status</th>\n",
       "      <th>Frequency</th>\n",
       "    </tr>\n",
       "  </thead>\n",
       "  <tbody>\n",
       "    <tr>\n",
       "      <th>0</th>\n",
       "      <td>Divorced</td>\n",
       "      <td>232</td>\n",
       "    </tr>\n",
       "    <tr>\n",
       "      <th>1</th>\n",
       "      <td>Married</td>\n",
       "      <td>864</td>\n",
       "    </tr>\n",
       "    <tr>\n",
       "      <th>2</th>\n",
       "      <td>Single</td>\n",
       "      <td>487</td>\n",
       "    </tr>\n",
       "    <tr>\n",
       "      <th>3</th>\n",
       "      <td>Together</td>\n",
       "      <td>580</td>\n",
       "    </tr>\n",
       "    <tr>\n",
       "      <th>4</th>\n",
       "      <td>Widow</td>\n",
       "      <td>77</td>\n",
       "    </tr>\n",
       "  </tbody>\n",
       "</table>\n",
       "</div>"
      ],
      "text/plain": [
       "  Marital_Status  Frequency\n",
       "0       Divorced        232\n",
       "1        Married        864\n",
       "2         Single        487\n",
       "3       Together        580\n",
       "4          Widow         77"
      ]
     },
     "execution_count": 1028,
     "metadata": {},
     "output_type": "execute_result"
    }
   ],
   "source": [
    "data.groupby('Marital_Status').size().reset_index(name='Frequency')"
   ]
  },
  {
   "cell_type": "code",
   "execution_count": 534,
   "id": "f0ac9d65",
   "metadata": {},
   "outputs": [],
   "source": [
    "# Define a dictionary to map marital status to vectors\n",
    "marital_status_vectors = {\n",
    "    'Widow': dataset['Widow'],\n",
    "    'Single': dataset['Single'],\n",
    "    'Together': dataset['Together'],\n",
    "    'Married': dataset['Married'],\n",
    "    'Divorced': dataset['Divorced'],\n",
    "    'Alone': dataset['Alone'],\n",
    "    'YOLO': dataset['YOLO'],\n",
    "    'Absurd': dataset['Absurd']\n",
    "}\n",
    "\n",
    "# Iterate over each marital status and assign vectors to corresponding columns\n",
    "for marital_status, vector in marital_status_vectors.items():\n",
    "    # Create column names based on marital status\n",
    "    column_names = [f'Marital_Status_{i}' for i in range(len(vector))]\n",
    "    # Mask for rows where marital status matches\n",
    "    mask = data['Marital_Status'] == marital_status\n",
    "    # Assign values to corresponding columns\n",
    "    data.loc[mask, column_names] = vector.tolist()\n",
    "    \n",
    "marital_status_encoding= 'Word2Vec'\n",
    "\n",
    "############################################################################\n",
    "############# CHEQUEAR SI DEJARLA (Label Encoded) O BORRARLA  ##############\n",
    "##################### MEJORA LAS MÉTRICAS DE VALIDACIÓN ####################\n",
    "############################################################################\n"
   ]
  },
  {
   "cell_type": "code",
   "execution_count": 535,
   "id": "738327c3",
   "metadata": {},
   "outputs": [
    {
     "name": "stdout",
     "output_type": "stream",
     "text": [
      "Marital status: Alone\n",
      "First dimension of embedded Martial status for observation 131: 0.19140625\n",
      "First dimension of ALONE token from word2vec-google-news-300: 0.19140625\n"
     ]
    }
   ],
   "source": [
    "print('Marital status:', data.loc[131, 'Marital_Status'])\n",
    "print('First dimension of embedded Martial status for observation 131:', data.loc[131, 'Marital_Status_0'])\n",
    "print('First dimension of ALONE token from word2vec-google-news-300:', dataset['Alone'][0])\n",
    "# marital_status_vectors['Widow'].shape\n",
    "# len(marital_status_vectors['Widow'])\n",
    "# marital_status_vectors['Widow'].tolist()\n",
    "data.drop('Marital_Status', axis=1, inplace= True)"
   ]
  },
  {
   "cell_type": "code",
   "execution_count": 417,
   "id": "4d94be36",
   "metadata": {},
   "outputs": [],
   "source": [
    "# for i in range(300):\n",
    "#     data['Marital_Status_' + str(i)] = pd.to_numeric(data['Marital_Status_' + str(i)]) "
   ]
  },
  {
   "cell_type": "code",
   "execution_count": 1029,
   "id": "99dd8e35",
   "metadata": {},
   "outputs": [
    {
     "data": {
      "text/plain": [
       "0    0.0\n",
       "1    0.0\n",
       "2    1.0\n",
       "3    1.0\n",
       "4    2.0\n",
       "Name: Marital_Status, dtype: float64"
      ]
     },
     "execution_count": 1029,
     "metadata": {},
     "output_type": "execute_result"
    }
   ],
   "source": [
    "# Doing Ordinal Encoding of 'Marital Status':\n",
    "marital_cat= list(data['Marital_Status'].unique())\n",
    "ord_enc= OrdinalEncoder(categories=[marital_cat])\n",
    "ord_edu= pd.DataFrame(ord_enc.fit_transform(data[['Marital_Status']]))\n",
    "data['Marital_Status']= ord_edu\n",
    "marital_status_encoding= 'Ordinal'\n",
    "data.loc[:, 'Marital_Status'].head()"
   ]
  },
  {
   "cell_type": "code",
   "execution_count": 929,
   "id": "5e9845db",
   "metadata": {},
   "outputs": [],
   "source": [
    "# Doing One-Hot Encoding of 'Marital_Status':\n",
    "ohe= OneHotEncoder(cols=['Marital_Status'])\n",
    "data= ohe.fit_transform(data)\n",
    "marital_status_encoding= 'One-hot'"
   ]
  },
  {
   "cell_type": "code",
   "execution_count": 930,
   "id": "f9db9671",
   "metadata": {},
   "outputs": [
    {
     "data": {
      "text/html": [
       "<div>\n",
       "<style scoped>\n",
       "    .dataframe tbody tr th:only-of-type {\n",
       "        vertical-align: middle;\n",
       "    }\n",
       "\n",
       "    .dataframe tbody tr th {\n",
       "        vertical-align: top;\n",
       "    }\n",
       "\n",
       "    .dataframe thead th {\n",
       "        text-align: right;\n",
       "    }\n",
       "</style>\n",
       "<table border=\"1\" class=\"dataframe\">\n",
       "  <thead>\n",
       "    <tr style=\"text-align: right;\">\n",
       "      <th></th>\n",
       "      <th>Education</th>\n",
       "      <th>Frequency</th>\n",
       "    </tr>\n",
       "  </thead>\n",
       "  <tbody>\n",
       "    <tr>\n",
       "      <th>0</th>\n",
       "      <td>2n Cycle</td>\n",
       "      <td>203</td>\n",
       "    </tr>\n",
       "    <tr>\n",
       "      <th>1</th>\n",
       "      <td>Basic</td>\n",
       "      <td>54</td>\n",
       "    </tr>\n",
       "    <tr>\n",
       "      <th>2</th>\n",
       "      <td>Graduation</td>\n",
       "      <td>1127</td>\n",
       "    </tr>\n",
       "    <tr>\n",
       "      <th>3</th>\n",
       "      <td>Master</td>\n",
       "      <td>370</td>\n",
       "    </tr>\n",
       "    <tr>\n",
       "      <th>4</th>\n",
       "      <td>PhD</td>\n",
       "      <td>486</td>\n",
       "    </tr>\n",
       "  </tbody>\n",
       "</table>\n",
       "</div>"
      ],
      "text/plain": [
       "    Education  Frequency\n",
       "0    2n Cycle        203\n",
       "1       Basic         54\n",
       "2  Graduation       1127\n",
       "3      Master        370\n",
       "4         PhD        486"
      ]
     },
     "execution_count": 930,
     "metadata": {},
     "output_type": "execute_result"
    }
   ],
   "source": [
    "data.groupby('Education').size().reset_index(name='Frequency')"
   ]
  },
  {
   "cell_type": "code",
   "execution_count": 840,
   "id": "45a14c96",
   "metadata": {},
   "outputs": [
    {
     "name": "stdout",
     "output_type": "stream",
     "text": [
      "Graduation is in the vocabulary\n",
      "PhD is in the vocabulary\n",
      "Master is in the vocabulary\n",
      "Basic is in the vocabulary\n",
      "2n Cycle isnt in the vocabulary\n"
     ]
    }
   ],
   "source": [
    "for i in list(data['Education'].unique()):\n",
    "    if i in dataset:\n",
    "        print(i, 'is in the vocabulary')\n",
    "    else:\n",
    "        print(i, 'isnt in the vocabulary')"
   ]
  },
  {
   "cell_type": "code",
   "execution_count": 1030,
   "id": "8b814869",
   "metadata": {},
   "outputs": [],
   "source": [
    "# # Assuming 2n cycle and Master means the same thing. We can combine these two categories.\n",
    "data['Education'] = data['Education'].replace('2n Cycle', 'Master')"
   ]
  },
  {
   "cell_type": "code",
   "execution_count": 1031,
   "id": "571ed43b",
   "metadata": {},
   "outputs": [
    {
     "data": {
      "text/html": [
       "<div>\n",
       "<style scoped>\n",
       "    .dataframe tbody tr th:only-of-type {\n",
       "        vertical-align: middle;\n",
       "    }\n",
       "\n",
       "    .dataframe tbody tr th {\n",
       "        vertical-align: top;\n",
       "    }\n",
       "\n",
       "    .dataframe thead th {\n",
       "        text-align: right;\n",
       "    }\n",
       "</style>\n",
       "<table border=\"1\" class=\"dataframe\">\n",
       "  <thead>\n",
       "    <tr style=\"text-align: right;\">\n",
       "      <th></th>\n",
       "      <th>Education</th>\n",
       "      <th>Frequency</th>\n",
       "    </tr>\n",
       "  </thead>\n",
       "  <tbody>\n",
       "    <tr>\n",
       "      <th>0</th>\n",
       "      <td>Basic</td>\n",
       "      <td>54</td>\n",
       "    </tr>\n",
       "    <tr>\n",
       "      <th>1</th>\n",
       "      <td>Graduation</td>\n",
       "      <td>1127</td>\n",
       "    </tr>\n",
       "    <tr>\n",
       "      <th>2</th>\n",
       "      <td>Master</td>\n",
       "      <td>573</td>\n",
       "    </tr>\n",
       "    <tr>\n",
       "      <th>3</th>\n",
       "      <td>PhD</td>\n",
       "      <td>486</td>\n",
       "    </tr>\n",
       "  </tbody>\n",
       "</table>\n",
       "</div>"
      ],
      "text/plain": [
       "    Education  Frequency\n",
       "0       Basic         54\n",
       "1  Graduation       1127\n",
       "2      Master        573\n",
       "3         PhD        486"
      ]
     },
     "execution_count": 1031,
     "metadata": {},
     "output_type": "execute_result"
    }
   ],
   "source": [
    "data.groupby('Education').size().reset_index(name='Frequency')"
   ]
  },
  {
   "cell_type": "code",
   "execution_count": 1032,
   "id": "467f3f97",
   "metadata": {},
   "outputs": [],
   "source": [
    "# Define a dictionary to map marital status to vectors\n",
    "education_vectors = {\n",
    "    'Basic': dataset['Basic'],\n",
    "    'Master': dataset['Master'],\n",
    "    'PhD': dataset['PhD'],\n",
    "    'Graduation': dataset['Graduation'],\n",
    "}\n",
    "\n",
    "# Iterate over each marital status and assign vectors to corresponding columns\n",
    "for education, vector in education_vectors.items():\n",
    "    # Create column names based on marital status\n",
    "    column_names = [f'Education_{i}' for i in range(len(vector))]\n",
    "    mask = data['Education'] == education\n",
    "    # Assign values to corresponding columns\n",
    "    data.loc[mask, column_names] = vector.tolist()\n",
    "    \n",
    "education_encoding = 'Word2Vec'\n",
    "\n",
    "############################################################################\n",
    "############# CHEQUEAR SI DEJARLA (Label Encoded) O BORRARLA  ##############\n",
    "##################### MEJORA LAS MÉTRICAS DE VALIDACIÓN ####################\n",
    "############################################################################\n"
   ]
  },
  {
   "cell_type": "code",
   "execution_count": 1033,
   "id": "5e176e0c",
   "metadata": {},
   "outputs": [
    {
     "name": "stdout",
     "output_type": "stream",
     "text": [
      "Education: Master\n",
      "First dimension of embedded Education for observation 131: -0.09130859375\n",
      "First dimension of MASTER token from word2vec-google-news-300: -0.091308594\n",
      "Education: Graduation\n",
      "First dimension of embedded Education for observation 131: -0.287109375\n",
      "First dimension of GRADUATION token from word2vec-google-news-300: -0.28710938\n",
      "Education: PhD\n",
      "First dimension of embedded Education for observation 131: -0.27734375\n",
      "First dimension of PhD token from word2vec-google-news-300: -0.27734375\n",
      "Education: Basic\n",
      "First dimension of embedded Education for observation 131: 0.020263671875\n",
      "First dimension of BASIC token from word2vec-google-news-300: 0.020263672\n"
     ]
    }
   ],
   "source": [
    "print('Education:', data.loc[131, 'Education'])\n",
    "print('First dimension of embedded Education for observation 131:', data.loc[131, 'Education_0'])\n",
    "print('First dimension of MASTER token from word2vec-google-news-300:', dataset['Master'][0])\n",
    "print('Education:', data.loc[1, 'Education'])\n",
    "print('First dimension of embedded Education for observation 131:', data.loc[1, 'Education_0'])\n",
    "print('First dimension of GRADUATION token from word2vec-google-news-300:', dataset['Graduation'][0])\n",
    "print('Education:', data.loc[4, 'Education'])\n",
    "print('First dimension of embedded Education for observation 131:', data.loc[4, 'Education_0'])\n",
    "print('First dimension of PhD token from word2vec-google-news-300:', dataset['PhD'][0])\n",
    "print('Education:', data.loc[11, 'Education'])\n",
    "print('First dimension of embedded Education for observation 131:', data.loc[11, 'Education_0'])\n",
    "print('First dimension of BASIC token from word2vec-google-news-300:', dataset['Basic'][0])\n",
    "\n",
    "data.drop('Education', axis=1, inplace= True)"
   ]
  },
  {
   "cell_type": "code",
   "execution_count": 931,
   "id": "b0a6a634",
   "metadata": {},
   "outputs": [
    {
     "data": {
      "text/plain": [
       "0    1.0\n",
       "1    1.0\n",
       "2    1.0\n",
       "3    1.0\n",
       "4    4.0\n",
       "Name: Education, dtype: float64"
      ]
     },
     "execution_count": 931,
     "metadata": {},
     "output_type": "execute_result"
    }
   ],
   "source": [
    "# Doing Ordinal Encoding of 'Education':\n",
    "educ_cat= ['Basic', 'Graduation', '2n Cycle', 'Master', 'PhD']\n",
    "ord_enc= OrdinalEncoder(categories=[educ_cat])\n",
    "ord_edu= pd.DataFrame(ord_enc.fit_transform(data[['Education']]))\n",
    "data['Education']= ord_edu\n",
    "education_encoding= 'Ordinal'\n",
    "data.loc[:, 'Education'].head()"
   ]
  },
  {
   "cell_type": "code",
   "execution_count": 973,
   "id": "df91fc3b",
   "metadata": {},
   "outputs": [],
   "source": [
    "# Doing One-Hot Encoding of 'Education':\n",
    "ohe= OneHotEncoder(cols=['Education'])\n",
    "data= ohe.fit_transform(data)\n",
    "education_encoding= 'One-hot'"
   ]
  },
  {
   "cell_type": "code",
   "execution_count": 1034,
   "id": "af9f7cfd",
   "metadata": {},
   "outputs": [
    {
     "data": {
      "text/plain": [
       "['Year_Birth',\n",
       " 'Marital_Status',\n",
       " 'Income',\n",
       " 'Kidhome',\n",
       " 'Teenhome',\n",
       " 'Recency',\n",
       " 'MntWines',\n",
       " 'MntFruits',\n",
       " 'MntMeatProducts',\n",
       " 'MntFishProducts',\n",
       " 'MntSweetProducts',\n",
       " 'MntGoldProds',\n",
       " 'NumDealsPurchases',\n",
       " 'NumWebPurchases',\n",
       " 'NumCatalogPurchases',\n",
       " 'NumStorePurchases',\n",
       " 'NumWebVisitsMonth',\n",
       " 'Education_0',\n",
       " 'Education_1',\n",
       " 'Education_2',\n",
       " 'Education_3',\n",
       " 'Education_4',\n",
       " 'Education_5',\n",
       " 'Education_6',\n",
       " 'Education_7',\n",
       " 'Education_8',\n",
       " 'Education_9',\n",
       " 'Education_10',\n",
       " 'Education_11',\n",
       " 'Education_12',\n",
       " 'Education_13',\n",
       " 'Education_14',\n",
       " 'Education_15',\n",
       " 'Education_16',\n",
       " 'Education_17',\n",
       " 'Education_18',\n",
       " 'Education_19',\n",
       " 'Education_20',\n",
       " 'Education_21',\n",
       " 'Education_22',\n",
       " 'Education_23',\n",
       " 'Education_24',\n",
       " 'Education_25',\n",
       " 'Education_26',\n",
       " 'Education_27',\n",
       " 'Education_28',\n",
       " 'Education_29',\n",
       " 'Education_30',\n",
       " 'Education_31',\n",
       " 'Education_32',\n",
       " 'Education_33',\n",
       " 'Education_34',\n",
       " 'Education_35',\n",
       " 'Education_36',\n",
       " 'Education_37',\n",
       " 'Education_38',\n",
       " 'Education_39',\n",
       " 'Education_40',\n",
       " 'Education_41',\n",
       " 'Education_42',\n",
       " 'Education_43',\n",
       " 'Education_44',\n",
       " 'Education_45',\n",
       " 'Education_46',\n",
       " 'Education_47',\n",
       " 'Education_48',\n",
       " 'Education_49',\n",
       " 'Education_50',\n",
       " 'Education_51',\n",
       " 'Education_52',\n",
       " 'Education_53',\n",
       " 'Education_54',\n",
       " 'Education_55',\n",
       " 'Education_56',\n",
       " 'Education_57',\n",
       " 'Education_58',\n",
       " 'Education_59',\n",
       " 'Education_60',\n",
       " 'Education_61',\n",
       " 'Education_62',\n",
       " 'Education_63',\n",
       " 'Education_64',\n",
       " 'Education_65',\n",
       " 'Education_66',\n",
       " 'Education_67',\n",
       " 'Education_68',\n",
       " 'Education_69',\n",
       " 'Education_70',\n",
       " 'Education_71',\n",
       " 'Education_72',\n",
       " 'Education_73',\n",
       " 'Education_74',\n",
       " 'Education_75',\n",
       " 'Education_76',\n",
       " 'Education_77',\n",
       " 'Education_78',\n",
       " 'Education_79',\n",
       " 'Education_80',\n",
       " 'Education_81',\n",
       " 'Education_82',\n",
       " 'Education_83',\n",
       " 'Education_84',\n",
       " 'Education_85',\n",
       " 'Education_86',\n",
       " 'Education_87',\n",
       " 'Education_88',\n",
       " 'Education_89',\n",
       " 'Education_90',\n",
       " 'Education_91',\n",
       " 'Education_92',\n",
       " 'Education_93',\n",
       " 'Education_94',\n",
       " 'Education_95',\n",
       " 'Education_96',\n",
       " 'Education_97',\n",
       " 'Education_98',\n",
       " 'Education_99',\n",
       " 'Education_100',\n",
       " 'Education_101',\n",
       " 'Education_102',\n",
       " 'Education_103',\n",
       " 'Education_104',\n",
       " 'Education_105',\n",
       " 'Education_106',\n",
       " 'Education_107',\n",
       " 'Education_108',\n",
       " 'Education_109',\n",
       " 'Education_110',\n",
       " 'Education_111',\n",
       " 'Education_112',\n",
       " 'Education_113',\n",
       " 'Education_114',\n",
       " 'Education_115',\n",
       " 'Education_116',\n",
       " 'Education_117',\n",
       " 'Education_118',\n",
       " 'Education_119',\n",
       " 'Education_120',\n",
       " 'Education_121',\n",
       " 'Education_122',\n",
       " 'Education_123',\n",
       " 'Education_124',\n",
       " 'Education_125',\n",
       " 'Education_126',\n",
       " 'Education_127',\n",
       " 'Education_128',\n",
       " 'Education_129',\n",
       " 'Education_130',\n",
       " 'Education_131',\n",
       " 'Education_132',\n",
       " 'Education_133',\n",
       " 'Education_134',\n",
       " 'Education_135',\n",
       " 'Education_136',\n",
       " 'Education_137',\n",
       " 'Education_138',\n",
       " 'Education_139',\n",
       " 'Education_140',\n",
       " 'Education_141',\n",
       " 'Education_142',\n",
       " 'Education_143',\n",
       " 'Education_144',\n",
       " 'Education_145',\n",
       " 'Education_146',\n",
       " 'Education_147',\n",
       " 'Education_148',\n",
       " 'Education_149',\n",
       " 'Education_150',\n",
       " 'Education_151',\n",
       " 'Education_152',\n",
       " 'Education_153',\n",
       " 'Education_154',\n",
       " 'Education_155',\n",
       " 'Education_156',\n",
       " 'Education_157',\n",
       " 'Education_158',\n",
       " 'Education_159',\n",
       " 'Education_160',\n",
       " 'Education_161',\n",
       " 'Education_162',\n",
       " 'Education_163',\n",
       " 'Education_164',\n",
       " 'Education_165',\n",
       " 'Education_166',\n",
       " 'Education_167',\n",
       " 'Education_168',\n",
       " 'Education_169',\n",
       " 'Education_170',\n",
       " 'Education_171',\n",
       " 'Education_172',\n",
       " 'Education_173',\n",
       " 'Education_174',\n",
       " 'Education_175',\n",
       " 'Education_176',\n",
       " 'Education_177',\n",
       " 'Education_178',\n",
       " 'Education_179',\n",
       " 'Education_180',\n",
       " 'Education_181',\n",
       " 'Education_182',\n",
       " 'Education_183',\n",
       " 'Education_184',\n",
       " 'Education_185',\n",
       " 'Education_186',\n",
       " 'Education_187',\n",
       " 'Education_188',\n",
       " 'Education_189',\n",
       " 'Education_190',\n",
       " 'Education_191',\n",
       " 'Education_192',\n",
       " 'Education_193',\n",
       " 'Education_194',\n",
       " 'Education_195',\n",
       " 'Education_196',\n",
       " 'Education_197',\n",
       " 'Education_198',\n",
       " 'Education_199',\n",
       " 'Education_200',\n",
       " 'Education_201',\n",
       " 'Education_202',\n",
       " 'Education_203',\n",
       " 'Education_204',\n",
       " 'Education_205',\n",
       " 'Education_206',\n",
       " 'Education_207',\n",
       " 'Education_208',\n",
       " 'Education_209',\n",
       " 'Education_210',\n",
       " 'Education_211',\n",
       " 'Education_212',\n",
       " 'Education_213',\n",
       " 'Education_214',\n",
       " 'Education_215',\n",
       " 'Education_216',\n",
       " 'Education_217',\n",
       " 'Education_218',\n",
       " 'Education_219',\n",
       " 'Education_220',\n",
       " 'Education_221',\n",
       " 'Education_222',\n",
       " 'Education_223',\n",
       " 'Education_224',\n",
       " 'Education_225',\n",
       " 'Education_226',\n",
       " 'Education_227',\n",
       " 'Education_228',\n",
       " 'Education_229',\n",
       " 'Education_230',\n",
       " 'Education_231',\n",
       " 'Education_232',\n",
       " 'Education_233',\n",
       " 'Education_234',\n",
       " 'Education_235',\n",
       " 'Education_236',\n",
       " 'Education_237',\n",
       " 'Education_238',\n",
       " 'Education_239',\n",
       " 'Education_240',\n",
       " 'Education_241',\n",
       " 'Education_242',\n",
       " 'Education_243',\n",
       " 'Education_244',\n",
       " 'Education_245',\n",
       " 'Education_246',\n",
       " 'Education_247',\n",
       " 'Education_248',\n",
       " 'Education_249',\n",
       " 'Education_250',\n",
       " 'Education_251',\n",
       " 'Education_252',\n",
       " 'Education_253',\n",
       " 'Education_254',\n",
       " 'Education_255',\n",
       " 'Education_256',\n",
       " 'Education_257',\n",
       " 'Education_258',\n",
       " 'Education_259',\n",
       " 'Education_260',\n",
       " 'Education_261',\n",
       " 'Education_262',\n",
       " 'Education_263',\n",
       " 'Education_264',\n",
       " 'Education_265',\n",
       " 'Education_266',\n",
       " 'Education_267',\n",
       " 'Education_268',\n",
       " 'Education_269',\n",
       " 'Education_270',\n",
       " 'Education_271',\n",
       " 'Education_272',\n",
       " 'Education_273',\n",
       " 'Education_274',\n",
       " 'Education_275',\n",
       " 'Education_276',\n",
       " 'Education_277',\n",
       " 'Education_278',\n",
       " 'Education_279',\n",
       " 'Education_280',\n",
       " 'Education_281',\n",
       " 'Education_282',\n",
       " 'Education_283',\n",
       " 'Education_284',\n",
       " 'Education_285',\n",
       " 'Education_286',\n",
       " 'Education_287',\n",
       " 'Education_288',\n",
       " 'Education_289',\n",
       " 'Education_290',\n",
       " 'Education_291',\n",
       " 'Education_292',\n",
       " 'Education_293',\n",
       " 'Education_294',\n",
       " 'Education_295',\n",
       " 'Education_296',\n",
       " 'Education_297',\n",
       " 'Education_298',\n",
       " 'Education_299']"
      ]
     },
     "execution_count": 1034,
     "metadata": {},
     "output_type": "execute_result"
    }
   ],
   "source": [
    "# Scaling features:\n",
    "scaler=MinMaxScaler()\n",
    "num =[var for var in data.columns if data[var].dtypes!='object' and 'Accepted' not in var and 'Complain' not in var and 'Response' not in var]\n",
    "# num\n",
    "data[num]=scaler.fit_transform(data[num])\n",
    "\n",
    "# data['Education']= scaler.fit_transform(data['Education'].values.reshape(-1,1))"
   ]
  },
  {
   "cell_type": "code",
   "execution_count": 1035,
   "id": "9d543bd6",
   "metadata": {},
   "outputs": [
    {
     "data": {
      "text/plain": [
       "'01-01-2013'"
      ]
     },
     "execution_count": 1035,
     "metadata": {},
     "output_type": "execute_result"
    },
    {
     "data": {
      "text/html": [
       "<div>\n",
       "<style scoped>\n",
       "    .dataframe tbody tr th:only-of-type {\n",
       "        vertical-align: middle;\n",
       "    }\n",
       "\n",
       "    .dataframe tbody tr th {\n",
       "        vertical-align: top;\n",
       "    }\n",
       "\n",
       "    .dataframe thead th {\n",
       "        text-align: right;\n",
       "    }\n",
       "</style>\n",
       "<table border=\"1\" class=\"dataframe\">\n",
       "  <thead>\n",
       "    <tr style=\"text-align: right;\">\n",
       "      <th></th>\n",
       "      <th>Dt_Customer_rel</th>\n",
       "    </tr>\n",
       "  </thead>\n",
       "  <tbody>\n",
       "    <tr>\n",
       "      <th>0</th>\n",
       "      <td>92 days 00:00:00</td>\n",
       "    </tr>\n",
       "    <tr>\n",
       "      <th>1</th>\n",
       "      <td>938 days 00:00:00</td>\n",
       "    </tr>\n",
       "    <tr>\n",
       "      <th>2</th>\n",
       "      <td>591 days 00:00:00</td>\n",
       "    </tr>\n",
       "    <tr>\n",
       "      <th>3</th>\n",
       "      <td>998 days 00:00:00</td>\n",
       "    </tr>\n",
       "    <tr>\n",
       "      <th>4</th>\n",
       "      <td>742 days 00:00:00</td>\n",
       "    </tr>\n",
       "  </tbody>\n",
       "</table>\n",
       "</div>"
      ],
      "text/plain": [
       "     Dt_Customer_rel\n",
       "0   92 days 00:00:00\n",
       "1  938 days 00:00:00\n",
       "2  591 days 00:00:00\n",
       "3  998 days 00:00:00\n",
       "4  742 days 00:00:00"
      ]
     },
     "execution_count": 1035,
     "metadata": {},
     "output_type": "execute_result"
    },
    {
     "data": {
      "text/plain": [
       "0     92\n",
       "1    938\n",
       "2    591\n",
       "3    998\n",
       "4    742\n",
       "Name: Dt_Customer_rel, dtype: int64"
      ]
     },
     "execution_count": 1035,
     "metadata": {},
     "output_type": "execute_result"
    },
    {
     "data": {
      "text/plain": [
       "0    0.086548\n",
       "1    0.882408\n",
       "2    0.555974\n",
       "3    0.938852\n",
       "4    0.698024\n",
       "Name: Dt_Customer_rel, dtype: float64"
      ]
     },
     "execution_count": 1035,
     "metadata": {},
     "output_type": "execute_result"
    }
   ],
   "source": [
    "data['Dt_Customer'].min()\n",
    "data['Dt_Customer']= pd.to_datetime(arg=data['Dt_Customer'], infer_datetime_format= True)\n",
    "#Checking transformation:\n",
    "# data.dtypes\n",
    "# Creating an empty column to receive the transformed values of 'Dt_Customer':\n",
    "data['Dt_Customer_rel']= np.nan\n",
    "# For each client, attribute the value of 'Dt_Customer_rel' as the difference in days in relation to the oldest date of registration:\n",
    "for i in range(0, data.shape[0]):\n",
    "    data['Dt_Customer_rel'][i]= abs(data['Dt_Customer'][i]-(data['Dt_Customer'].min()))\n",
    "\n",
    "pd.DataFrame(data['Dt_Customer_rel']).head()\n",
    "data['Dt_Customer_rel']= (data['Dt_Customer_rel']/np.timedelta64(1, 'D')).astype(int)\n",
    "#Checking:\n",
    "data['Dt_Customer_rel'].head()\n",
    "#Dropping the original date column of the dataset:\n",
    "data.drop('Dt_Customer', axis=1, inplace=True)\n",
    "\n",
    "data['Dt_Customer_rel']= scaler.fit_transform(data['Dt_Customer_rel'].values.reshape(-1,1))\n",
    "# #Checking:\n",
    "data['Dt_Customer_rel'].head()"
   ]
  },
  {
   "cell_type": "code",
   "execution_count": 1036,
   "id": "c05d8179",
   "metadata": {},
   "outputs": [],
   "source": [
    "# data.loc[:,  -320:-290]"
   ]
  },
  {
   "cell_type": "code",
   "execution_count": 1038,
   "id": "38664303",
   "metadata": {},
   "outputs": [],
   "source": [
    "# for i in range(300):\n",
    "#     data['Education_' + str(i)] = pd.to_numeric(data['Education_' + str(i)]) "
   ]
  },
  {
   "cell_type": "code",
   "execution_count": 1039,
   "id": "affdc838",
   "metadata": {},
   "outputs": [],
   "source": [
    "# data.isna().sum()"
   ]
  },
  {
   "cell_type": "code",
   "execution_count": 1040,
   "id": "b17f66d2",
   "metadata": {},
   "outputs": [],
   "source": [
    "pca = PCA(n_components= 2)\n",
    "data_pca = pca.fit_transform(data)\n",
    "# pca = PCA(n_components= 3)\n",
    "# data_pca = pca.fit_transform(data)"
   ]
  },
  {
   "cell_type": "code",
   "execution_count": 1041,
   "id": "d8d5d11f",
   "metadata": {},
   "outputs": [
    {
     "data": {
      "text/plain": [
       "array([0.62377407, 0.30561371])"
      ]
     },
     "execution_count": 1041,
     "metadata": {},
     "output_type": "execute_result"
    },
    {
     "name": "stdout",
     "output_type": "stream",
     "text": [
      "Varianza explicada en los dos primeros componentes: 0.9293877807586153\n"
     ]
    }
   ],
   "source": [
    "pca.explained_variance_ratio_\n",
    "# array([0.42504098, 0.32050577])\n",
    "# array([0.39534001, 0.19437815])\n",
    "\n",
    "print('Varianza explicada en los dos primeros componentes:', \n",
    "      pca.explained_variance_ratio_.sum())\n",
    "\n",
    "Explained_Variance = pca.explained_variance_ratio_.sum()"
   ]
  },
  {
   "cell_type": "code",
   "execution_count": 1042,
   "id": "aae73693",
   "metadata": {},
   "outputs": [
    {
     "name": "stdout",
     "output_type": "stream",
     "text": [
      "9\n"
     ]
    },
    {
     "data": {
      "text/plain": [
       "'0.99'"
      ]
     },
     "execution_count": 1042,
     "metadata": {},
     "output_type": "execute_result"
    }
   ],
   "source": [
    "for i in range(2, int(data.shape[1])):\n",
    "    pca = PCA(n_components= i)\n",
    "    data_pca = pca.fit_transform(data)\n",
    "    if pca.explained_variance_ratio_.sum()>= 0.99:\n",
    "        print(i)\n",
    "        break\n",
    "        \n",
    "\"%.2f\"%pca.explained_variance_ratio_.sum()\n",
    "# With n_components=25, we reach 99% of the variance being explained by the components."
   ]
  },
  {
   "cell_type": "code",
   "execution_count": 1043,
   "id": "8d2c9f02",
   "metadata": {},
   "outputs": [
    {
     "data": {
      "text/html": [
       "<div>\n",
       "<style scoped>\n",
       "    .dataframe tbody tr th:only-of-type {\n",
       "        vertical-align: middle;\n",
       "    }\n",
       "\n",
       "    .dataframe tbody tr th {\n",
       "        vertical-align: top;\n",
       "    }\n",
       "\n",
       "    .dataframe thead th {\n",
       "        text-align: right;\n",
       "    }\n",
       "</style>\n",
       "<table border=\"1\" class=\"dataframe\">\n",
       "  <thead>\n",
       "    <tr style=\"text-align: right;\">\n",
       "      <th></th>\n",
       "      <th>0</th>\n",
       "      <th>1</th>\n",
       "      <th>2</th>\n",
       "      <th>3</th>\n",
       "      <th>4</th>\n",
       "      <th>5</th>\n",
       "      <th>6</th>\n",
       "      <th>7</th>\n",
       "      <th>8</th>\n",
       "    </tr>\n",
       "  </thead>\n",
       "  <tbody>\n",
       "    <tr>\n",
       "      <th>0</th>\n",
       "      <td>-4.993668</td>\n",
       "      <td>0.380978</td>\n",
       "      <td>-0.136816</td>\n",
       "      <td>0.773439</td>\n",
       "      <td>0.378307</td>\n",
       "      <td>-0.275519</td>\n",
       "      <td>-0.210861</td>\n",
       "      <td>0.389945</td>\n",
       "      <td>-0.504364</td>\n",
       "    </tr>\n",
       "    <tr>\n",
       "      <th>1</th>\n",
       "      <td>-4.989847</td>\n",
       "      <td>0.375701</td>\n",
       "      <td>-0.096748</td>\n",
       "      <td>-0.572481</td>\n",
       "      <td>0.152580</td>\n",
       "      <td>0.022911</td>\n",
       "      <td>0.025102</td>\n",
       "      <td>-0.234544</td>\n",
       "      <td>-0.249797</td>\n",
       "    </tr>\n",
       "    <tr>\n",
       "      <th>2</th>\n",
       "      <td>-4.993162</td>\n",
       "      <td>0.376379</td>\n",
       "      <td>-0.126199</td>\n",
       "      <td>0.227974</td>\n",
       "      <td>-0.264448</td>\n",
       "      <td>-0.195103</td>\n",
       "      <td>-0.347010</td>\n",
       "      <td>-0.196787</td>\n",
       "      <td>-0.090143</td>\n",
       "    </tr>\n",
       "    <tr>\n",
       "      <th>3</th>\n",
       "      <td>-4.991161</td>\n",
       "      <td>0.373056</td>\n",
       "      <td>-0.088864</td>\n",
       "      <td>-0.453596</td>\n",
       "      <td>0.219480</td>\n",
       "      <td>-0.256471</td>\n",
       "      <td>-0.064387</td>\n",
       "      <td>-0.404699</td>\n",
       "      <td>0.058039</td>\n",
       "    </tr>\n",
       "    <tr>\n",
       "      <th>4</th>\n",
       "      <td>6.037301</td>\n",
       "      <td>5.207499</td>\n",
       "      <td>-0.233847</td>\n",
       "      <td>-0.267175</td>\n",
       "      <td>-0.181394</td>\n",
       "      <td>-0.416511</td>\n",
       "      <td>0.293703</td>\n",
       "      <td>0.119443</td>\n",
       "      <td>0.181974</td>\n",
       "    </tr>\n",
       "  </tbody>\n",
       "</table>\n",
       "</div>"
      ],
      "text/plain": [
       "          0         1         2         3         4         5         6  \\\n",
       "0 -4.993668  0.380978 -0.136816  0.773439  0.378307 -0.275519 -0.210861   \n",
       "1 -4.989847  0.375701 -0.096748 -0.572481  0.152580  0.022911  0.025102   \n",
       "2 -4.993162  0.376379 -0.126199  0.227974 -0.264448 -0.195103 -0.347010   \n",
       "3 -4.991161  0.373056 -0.088864 -0.453596  0.219480 -0.256471 -0.064387   \n",
       "4  6.037301  5.207499 -0.233847 -0.267175 -0.181394 -0.416511  0.293703   \n",
       "\n",
       "          7         8  \n",
       "0  0.389945 -0.504364  \n",
       "1 -0.234544 -0.249797  \n",
       "2 -0.196787 -0.090143  \n",
       "3 -0.404699  0.058039  \n",
       "4  0.119443  0.181974  "
      ]
     },
     "execution_count": 1043,
     "metadata": {},
     "output_type": "execute_result"
    }
   ],
   "source": [
    "#Creating a new dataframe with the dataset turned into 25 PCA components:\n",
    "data_pca= pd.DataFrame(data_pca)\n",
    "\n",
    "#Checking:\n",
    "data_pca.head()"
   ]
  },
  {
   "cell_type": "code",
   "execution_count": 1044,
   "id": "23cb7622",
   "metadata": {},
   "outputs": [
    {
     "data": {
      "text/plain": [
       "KMeans(n_clusters=1, random_state=2)"
      ]
     },
     "execution_count": 1044,
     "metadata": {},
     "output_type": "execute_result"
    },
    {
     "data": {
      "text/plain": [
       "KMeans(n_clusters=2, random_state=2)"
      ]
     },
     "execution_count": 1044,
     "metadata": {},
     "output_type": "execute_result"
    },
    {
     "data": {
      "text/plain": [
       "KMeans(n_clusters=3, random_state=2)"
      ]
     },
     "execution_count": 1044,
     "metadata": {},
     "output_type": "execute_result"
    },
    {
     "data": {
      "text/plain": [
       "KMeans(n_clusters=4, random_state=2)"
      ]
     },
     "execution_count": 1044,
     "metadata": {},
     "output_type": "execute_result"
    },
    {
     "data": {
      "text/plain": [
       "KMeans(n_clusters=5, random_state=2)"
      ]
     },
     "execution_count": 1044,
     "metadata": {},
     "output_type": "execute_result"
    },
    {
     "data": {
      "text/plain": [
       "KMeans(n_clusters=6, random_state=2)"
      ]
     },
     "execution_count": 1044,
     "metadata": {},
     "output_type": "execute_result"
    },
    {
     "data": {
      "text/plain": [
       "KMeans(n_clusters=7, random_state=2)"
      ]
     },
     "execution_count": 1044,
     "metadata": {},
     "output_type": "execute_result"
    },
    {
     "data": {
      "text/plain": [
       "KMeans(random_state=2)"
      ]
     },
     "execution_count": 1044,
     "metadata": {},
     "output_type": "execute_result"
    },
    {
     "data": {
      "text/plain": [
       "KMeans(n_clusters=9, random_state=2)"
      ]
     },
     "execution_count": 1044,
     "metadata": {},
     "output_type": "execute_result"
    },
    {
     "data": {
      "text/plain": [
       "KMeans(n_clusters=10, random_state=2)"
      ]
     },
     "execution_count": 1044,
     "metadata": {},
     "output_type": "execute_result"
    }
   ],
   "source": [
    "#Defining the optimal number of clusters (K) by the elbow method:\n",
    "\n",
    "inertia=[]\n",
    "kmax=10\n",
    "\n",
    "for i in range(1, kmax+1):\n",
    "    clustering= KMeans(n_clusters=i, random_state=2)\n",
    "    clustering.fit(data_pca)\n",
    "    inertia.append(clustering.inertia_)\n",
    "    \n",
    "ks=[1, 2, 3, 4, 5, 6, 7, 8, 9, 10]"
   ]
  },
  {
   "cell_type": "code",
   "execution_count": 1045,
   "id": "62a13643",
   "metadata": {},
   "outputs": [
    {
     "data": {
      "text/plain": [
       "<AxesSubplot:>"
      ]
     },
     "execution_count": 1045,
     "metadata": {},
     "output_type": "execute_result"
    },
    {
     "data": {
      "text/plain": [
       "Text(0.5, 0, 'K')"
      ]
     },
     "execution_count": 1045,
     "metadata": {},
     "output_type": "execute_result"
    },
    {
     "data": {
      "text/plain": [
       "Text(0, 0.5, 'Inertia')"
      ]
     },
     "execution_count": 1045,
     "metadata": {},
     "output_type": "execute_result"
    },
    {
     "data": {
      "image/png": "[encoded data removed]",
      "text/plain": [
       "<Figure size 800x550 with 1 Axes>"
      ]
     },
     "metadata": {},
     "output_type": "display_data"
    }
   ],
   "source": [
    "#Plotting inertia versus K:\n",
    "sns.lineplot(x=ks, y=inertia)\n",
    "plt.xlabel('K')\n",
    "plt.ylabel('Inertia')"
   ]
  },
  {
   "cell_type": "code",
   "execution_count": 1046,
   "id": "8dd2db38",
   "metadata": {},
   "outputs": [],
   "source": [
    "import kneed"
   ]
  },
  {
   "cell_type": "code",
   "execution_count": 1047,
   "id": "c8df8ea9",
   "metadata": {},
   "outputs": [
    {
     "data": {
      "text/plain": [
       "[3, '6695.14']"
      ]
     },
     "execution_count": 1047,
     "metadata": {},
     "output_type": "execute_result"
    }
   ],
   "source": [
    "#Determining the point of inflection of the curve of inertia versus number of clusters:\n",
    "kneedle_kmeans=kneed.KneeLocator(y=inertia, x=ks, S=1.0, curve='convex', direction='decreasing')\n",
    "inflection_point_kmeans=[kneedle_kmeans.knee, \"%.2f\"%kneedle_kmeans.knee_y]\n",
    "inflection_point_kmeans"
   ]
  },
  {
   "cell_type": "code",
   "execution_count": 1048,
   "id": "af4269e5",
   "metadata": {},
   "outputs": [
    {
     "data": {
      "text/plain": [
       "3"
      ]
     },
     "execution_count": 1048,
     "metadata": {},
     "output_type": "execute_result"
    }
   ],
   "source": [
    "inflection_point_kmeans[0]"
   ]
  },
  {
   "cell_type": "code",
   "execution_count": 1049,
   "id": "b8b35823",
   "metadata": {},
   "outputs": [
    {
     "data": {
      "image/png": "[encoded data removed]",
      "text/plain": [
       "<Figure size 600x600 with 1 Axes>"
      ]
     },
     "metadata": {},
     "output_type": "display_data"
    }
   ],
   "source": [
    "kneedle_kmeans.plot_knee()"
   ]
  },
  {
   "cell_type": "code",
   "execution_count": 1050,
   "id": "7db481ca",
   "metadata": {},
   "outputs": [],
   "source": [
    "# Determining the optimal number of clusters (K) using the graph of silhouette score versus K:\n",
    "\n",
    "sil=[]\n",
    "kmax=10\n",
    "\n",
    "for k in range(2, kmax+1):\n",
    "  clustering= KMeans(n_clusters=k, random_state=2).fit(data_pca)\n",
    "  labels= clustering.labels_\n",
    "  sil.append(silhouette_score(data_pca, labels, metric='euclidean'))\n",
    "\n",
    "ks=[2, 3, 4, 5, 6, 7, 8, 9, 10]"
   ]
  },
  {
   "cell_type": "code",
   "execution_count": 1051,
   "id": "7818d92c",
   "metadata": {},
   "outputs": [
    {
     "data": {
      "text/plain": [
       "<AxesSubplot:>"
      ]
     },
     "execution_count": 1051,
     "metadata": {},
     "output_type": "execute_result"
    },
    {
     "data": {
      "text/plain": [
       "Text(0.5, 0, 'K')"
      ]
     },
     "execution_count": 1051,
     "metadata": {},
     "output_type": "execute_result"
    },
    {
     "data": {
      "text/plain": [
       "Text(0, 0.5, 'Silhouette score')"
      ]
     },
     "execution_count": 1051,
     "metadata": {},
     "output_type": "execute_result"
    },
    {
     "data": {
      "image/png": "[encoded data removed]",
      "text/plain": [
       "<Figure size 800x550 with 1 Axes>"
      ]
     },
     "metadata": {},
     "output_type": "display_data"
    }
   ],
   "source": [
    "# Plotting the graph of silhouette score versus K:\n",
    "sns.lineplot(x=ks, y=sil)\n",
    "plt.xlabel('K')\n",
    "plt.ylabel('Silhouette score')"
   ]
  },
  {
   "cell_type": "code",
   "execution_count": 1052,
   "id": "f9bd65ce",
   "metadata": {},
   "outputs": [],
   "source": [
    "#Creating the model with K=4 (optimal K found by the elbow method):\n",
    "# inflection_point_kmeans[0]\n",
    "kmeans= KMeans(n_clusters= int(inflection_point_kmeans[0]), random_state=2).fit(data_pca)"
   ]
  },
  {
   "cell_type": "code",
   "execution_count": 1053,
   "id": "af195adc",
   "metadata": {},
   "outputs": [
    {
     "data": {
      "text/html": [
       "<div>\n",
       "<style scoped>\n",
       "    .dataframe tbody tr th:only-of-type {\n",
       "        vertical-align: middle;\n",
       "    }\n",
       "\n",
       "    .dataframe tbody tr th {\n",
       "        vertical-align: top;\n",
       "    }\n",
       "\n",
       "    .dataframe thead th {\n",
       "        text-align: right;\n",
       "    }\n",
       "</style>\n",
       "<table border=\"1\" class=\"dataframe\">\n",
       "  <thead>\n",
       "    <tr style=\"text-align: right;\">\n",
       "      <th></th>\n",
       "      <th>0</th>\n",
       "      <th>1</th>\n",
       "      <th>2</th>\n",
       "      <th>3</th>\n",
       "      <th>4</th>\n",
       "      <th>5</th>\n",
       "      <th>6</th>\n",
       "      <th>7</th>\n",
       "      <th>8</th>\n",
       "      <th>kmeans_labels</th>\n",
       "    </tr>\n",
       "  </thead>\n",
       "  <tbody>\n",
       "    <tr>\n",
       "      <th>0</th>\n",
       "      <td>-4.993668</td>\n",
       "      <td>0.380978</td>\n",
       "      <td>-0.136816</td>\n",
       "      <td>0.773439</td>\n",
       "      <td>0.378307</td>\n",
       "      <td>-0.275519</td>\n",
       "      <td>-0.210861</td>\n",
       "      <td>0.389945</td>\n",
       "      <td>-0.504364</td>\n",
       "      <td>1</td>\n",
       "    </tr>\n",
       "    <tr>\n",
       "      <th>1</th>\n",
       "      <td>-4.989847</td>\n",
       "      <td>0.375701</td>\n",
       "      <td>-0.096748</td>\n",
       "      <td>-0.572481</td>\n",
       "      <td>0.152580</td>\n",
       "      <td>0.022911</td>\n",
       "      <td>0.025102</td>\n",
       "      <td>-0.234544</td>\n",
       "      <td>-0.249797</td>\n",
       "      <td>1</td>\n",
       "    </tr>\n",
       "    <tr>\n",
       "      <th>2</th>\n",
       "      <td>-4.993162</td>\n",
       "      <td>0.376379</td>\n",
       "      <td>-0.126199</td>\n",
       "      <td>0.227974</td>\n",
       "      <td>-0.264448</td>\n",
       "      <td>-0.195103</td>\n",
       "      <td>-0.347010</td>\n",
       "      <td>-0.196787</td>\n",
       "      <td>-0.090143</td>\n",
       "      <td>1</td>\n",
       "    </tr>\n",
       "    <tr>\n",
       "      <th>3</th>\n",
       "      <td>-4.991161</td>\n",
       "      <td>0.373056</td>\n",
       "      <td>-0.088864</td>\n",
       "      <td>-0.453596</td>\n",
       "      <td>0.219480</td>\n",
       "      <td>-0.256471</td>\n",
       "      <td>-0.064387</td>\n",
       "      <td>-0.404699</td>\n",
       "      <td>0.058039</td>\n",
       "      <td>1</td>\n",
       "    </tr>\n",
       "    <tr>\n",
       "      <th>4</th>\n",
       "      <td>6.037301</td>\n",
       "      <td>5.207499</td>\n",
       "      <td>-0.233847</td>\n",
       "      <td>-0.267175</td>\n",
       "      <td>-0.181394</td>\n",
       "      <td>-0.416511</td>\n",
       "      <td>0.293703</td>\n",
       "      <td>0.119443</td>\n",
       "      <td>0.181974</td>\n",
       "      <td>2</td>\n",
       "    </tr>\n",
       "  </tbody>\n",
       "</table>\n",
       "</div>"
      ],
      "text/plain": [
       "          0         1         2         3         4         5         6  \\\n",
       "0 -4.993668  0.380978 -0.136816  0.773439  0.378307 -0.275519 -0.210861   \n",
       "1 -4.989847  0.375701 -0.096748 -0.572481  0.152580  0.022911  0.025102   \n",
       "2 -4.993162  0.376379 -0.126199  0.227974 -0.264448 -0.195103 -0.347010   \n",
       "3 -4.991161  0.373056 -0.088864 -0.453596  0.219480 -0.256471 -0.064387   \n",
       "4  6.037301  5.207499 -0.233847 -0.267175 -0.181394 -0.416511  0.293703   \n",
       "\n",
       "          7         8  kmeans_labels  \n",
       "0  0.389945 -0.504364              1  \n",
       "1 -0.234544 -0.249797              1  \n",
       "2 -0.196787 -0.090143              1  \n",
       "3 -0.404699  0.058039              1  \n",
       "4  0.119443  0.181974              2  "
      ]
     },
     "execution_count": 1053,
     "metadata": {},
     "output_type": "execute_result"
    }
   ],
   "source": [
    "#Inserting the generated labels into a new column in the dataset:\n",
    "data_pca['kmeans_labels']= kmeans.labels_\n",
    "\n",
    "#Checking:\n",
    "data_pca.head()"
   ]
  },
  {
   "cell_type": "code",
   "execution_count": 1054,
   "id": "24f356eb",
   "metadata": {},
   "outputs": [
    {
     "data": {
      "text/plain": [
       "'0.86'"
      ]
     },
     "execution_count": 1054,
     "metadata": {},
     "output_type": "execute_result"
    }
   ],
   "source": [
    "#Mean silhouette score:\n",
    "silhouette_avg_kmeans= silhouette_score(X= data_pca, labels= data_pca['kmeans_labels'])\n",
    "\n",
    "#Checking:\n",
    "\"%.2f\"%silhouette_avg_kmeans\n",
    "# 0.64\n",
    "# 0.50\n",
    "\n",
    "Silhouette = silhouette_avg_kmeans"
   ]
  },
  {
   "cell_type": "code",
   "execution_count": 1055,
   "id": "07dd58e9",
   "metadata": {},
   "outputs": [
    {
     "data": {
      "text/plain": [
       "'14357.70'"
      ]
     },
     "execution_count": 1055,
     "metadata": {},
     "output_type": "execute_result"
    }
   ],
   "source": [
    "# Calinski Harabasz (CH) score:\n",
    "CH_kmeans= calinski_harabasz_score(X=data_pca, labels=data_pca['kmeans_labels'])\n",
    "\n",
    "# Checking:\n",
    "\"%.2f\"%CH_kmeans\n",
    "\n",
    "Calinski_Harabasz = CH_kmeans"
   ]
  },
  {
   "cell_type": "code",
   "execution_count": 1056,
   "id": "b937a23f",
   "metadata": {},
   "outputs": [
    {
     "data": {
      "image/png": "[encoded data removed]",
      "text/plain": [
       "<Figure size 800x550 with 1 Axes>"
      ]
     },
     "metadata": {},
     "output_type": "display_data"
    },
    {
     "data": {
      "text/plain": [
       "SilhouetteVisualizer(ax=<AxesSubplot:title={'center':'Silhouette Plot of KMeans Clustering for 2240 Samples in 3 Centers'}, xlabel='silhouette coefficient values', ylabel='cluster label'>,\n",
       "                     colors='yellowbrick',\n",
       "                     estimator=KMeans(n_clusters=3, random_state=2))"
      ]
     },
     "execution_count": 1056,
     "metadata": {},
     "output_type": "execute_result"
    }
   ],
   "source": [
    "# Silhouette plot:\n",
    "silhouette_visualizer(kmeans, data_pca.drop('kmeans_labels', axis=1), colors='yellowbrick')"
   ]
  },
  {
   "cell_type": "code",
   "execution_count": 1057,
   "id": "bd29978d",
   "metadata": {},
   "outputs": [
    {
     "name": "stdout",
     "output_type": "stream",
     "text": [
      "Para 2 clusters, o score de silhueta médio é 0.68\n",
      "Para 2 clusters, o score CH é 3708.48\n",
      "Para 3 clusters, o score de silhueta médio é 0.86\n",
      "Para 3 clusters, o score CH é 14357.70\n",
      "Para 4 clusters, o score de silhueta médio é 0.90\n",
      "Para 4 clusters, o score CH é 43351.14\n",
      "Para 5 clusters, o score de silhueta médio é 0.84\n",
      "Para 5 clusters, o score CH é 38899.27\n",
      "Para 6 clusters, o score de silhueta médio é 0.76\n",
      "Para 6 clusters, o score CH é 33160.07\n",
      "Para 7 clusters, o score de silhueta médio é 0.77\n",
      "Para 7 clusters, o score CH é 31990.60\n",
      "Para 8 clusters, o score de silhueta médio é 0.72\n",
      "Para 8 clusters, o score CH é 29398.81\n",
      "Para 9 clusters, o score de silhueta médio é 0.74\n",
      "Para 9 clusters, o score CH é 28151.54\n",
      "Para 10 clusters, o score de silhueta médio é 0.67\n",
      "Para 10 clusters, o score CH é 27318.50\n"
     ]
    }
   ],
   "source": [
    "# Iterating to check the mean silhouette score and the CH score for other values of K:\n",
    "\n",
    "kmax=10 #Valor máximo de clusters deseado / # Maximum value of clusters we desire\n",
    "\n",
    "for i in range(2, kmax+1):\n",
    "    #Creating the model:\n",
    "    kmeans= KMeans(n_clusters=i, random_state=2).fit(data_pca)\n",
    "    #Integrating the classification created by KMeans to the original dataset:\n",
    "    data_pca['kmeans_labels']=kmeans.labels_\n",
    "    #Mean silhouette score:\n",
    "    silhouette_avg_kmeans= silhouette_score(X= data_pca, labels= data_pca['kmeans_labels'], metric= 'euclidean')\n",
    "    #CH score:\n",
    "    CH_kmeans= calinski_harabasz_score(X=data_pca, labels=data_pca['kmeans_labels'])\n",
    "    print('Para {} clusters, o score de silhueta médio é {}'.format(i, \"%.2f\"%silhouette_avg_kmeans))\n",
    "    print('Para {} clusters, o score CH é {}'.format(i, \"%.2f\"%CH_kmeans))"
   ]
  },
  {
   "cell_type": "code",
   "execution_count": 998,
   "id": "ece0acd7",
   "metadata": {},
   "outputs": [],
   "source": [
    "# KMeans produces silhouette values below 0.5 for values of K between 2 and 10, so we will try other models."
   ]
  },
  {
   "cell_type": "code",
   "execution_count": 1058,
   "id": "5c7c4eb8",
   "metadata": {},
   "outputs": [],
   "source": [
    "import csv\n",
    "\n",
    "results = [\n",
    "    {'Experiment': '5b_standarized(remove_marital_states)',\n",
    "     'Dimensions': data.shape[1],\n",
    "     'Clusters': int(inflection_point_kmeans[0]),\n",
    "     'Marital_Status_Encoding': marital_status_encoding,\n",
    "     'Education_Encoding': education_encoding,\n",
    "     'Calinski-Harabasz': Calinski_Harabasz,\n",
    "     'Silhouette': Silhouette ,\n",
    "     'Explained Variance': Explained_Variance }\n",
    "     ]\n",
    "\n",
    "# Define the header of the CSV file\n",
    "keys= [key for key in results[0].keys()]\n",
    "\n",
    "# Create a DataFrame from the results\n",
    "results_df = pd.DataFrame(results)\n"
   ]
  },
  {
   "cell_type": "code",
   "execution_count": 391,
   "id": "0572273f",
   "metadata": {},
   "outputs": [],
   "source": [
    "# Save the DataFrame to a CSV file\n",
    "results_df.to_csv('experiment_results.csv', index=False)"
   ]
  },
  {
   "cell_type": "code",
   "execution_count": 1061,
   "id": "7ca80157",
   "metadata": {},
   "outputs": [],
   "source": [
    "# Load the existing CSV file into a DataFrame\n",
    "results_df = pd.read_csv('experiment_results.csv')\n",
    "\n",
    "## New experiment results (Experiment 3)\n",
    "# new_results = {'Experiment': 3, 'Calinski-Harabasz': 90, 'Silhouette': 0.6, 'Explained Variance': 0.75}\n",
    "new_results = results\n",
    "# Append the new results to the DataFrame\n",
    "results_df = results_df.append(new_results, ignore_index=True)\n",
    "# Save the updated DataFrame to the CSV file\n",
    "results_df.to_csv('experiment_results.csv', index=False)"
   ]
  }
 ],
 "metadata": {
  "kernelspec": {
   "display_name": "Python 3 (ipykernel)",
   "language": "python",
   "name": "python3"
  },
  "language_info": {
   "codemirror_mode": {
    "name": "ipython",
    "version": 3
   },
   "file_extension": ".py",
   "mimetype": "text/x-python",
   "name": "python",
   "nbconvert_exporter": "python",
   "pygments_lexer": "ipython3",
   "version": "3.9.13"
  }
 },
 "nbformat": 4,
 "nbformat_minor": 5
}
