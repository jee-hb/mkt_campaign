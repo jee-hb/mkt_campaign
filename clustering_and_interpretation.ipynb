{
 "cells": [
  {
   "cell_type": "code",
   "execution_count": 1,
   "id": "3f6d9420",
   "metadata": {},
   "outputs": [],
   "source": [
    "from IPython.core.interactiveshell import InteractiveShell\n",
    "InteractiveShell.ast_node_interactivity = \"all\""
   ]
  },
  {
   "cell_type": "code",
   "execution_count": 2,
   "id": "36b36aa3",
   "metadata": {},
   "outputs": [
    {
     "data": {
      "text/html": [
       "        <script type=\"text/javascript\">\n",
       "        window.PlotlyConfig = {MathJaxConfig: 'local'};\n",
       "        if (window.MathJax && window.MathJax.Hub && window.MathJax.Hub.Config) {window.MathJax.Hub.Config({SVG: {font: \"STIX-Web\"}});}\n",
       "        if (typeof require !== 'undefined') {\n",
       "        require.undef(\"plotly\");\n",
       "        requirejs.config({\n",
       "            paths: {\n",
       "                'plotly': ['https://cdn.plot.ly/plotly-2.12.1.min']\n",
       "            }\n",
       "        });\n",
       "        require(['plotly'], function(Plotly) {\n",
       "            window._Plotly = Plotly;\n",
       "        });\n",
       "        }\n",
       "        </script>\n",
       "        "
      ]
     },
     "metadata": {},
     "output_type": "display_data"
    }
   ],
   "source": [
    "import os\n",
    "import pandas as pd\n",
    "import numpy as np\n",
    "import matplotlib.pyplot as plt\n",
    "import matplotlib.cm as cm\n",
    "import seaborn as sns\n",
    "import kneed\n",
    "import itertools\n",
    "import csv\n",
    "from sklearn.cluster import KMeans, DBSCAN, SpectralClustering, OPTICS, AffinityPropagation\n",
    "from sklearn.impute import SimpleImputer\n",
    "from category_encoders.one_hot import OneHotEncoder\n",
    "# from sklearn.preprocessing import OneHotEncoder\n",
    "from sklearn.preprocessing import OrdinalEncoder\n",
    "from sklearn.preprocessing import MinMaxScaler, StandardScaler\n",
    "from sklearn.decomposition import PCA\n",
    "from sklearn.metrics import silhouette_score, calinski_harabasz_score\n",
    "from yellowbrick.cluster import silhouette_visualizer\n",
    "import plotly.express as px\n",
    "from plotly.offline import init_notebook_mode\n",
    "import warnings\n",
    "pd.options.display.max_rows = 4000\n",
    "init_notebook_mode(connected=True)\n",
    "warnings.filterwarnings(action='ignore')"
   ]
  },
  {
   "cell_type": "code",
   "execution_count": null,
   "id": "8c632231",
   "metadata": {},
   "outputs": [],
   "source": [
    "os.getcwd()\n",
    "cd /Users/gabyherediabaek/marketing_campaign/mkt_campaign/Data"
   ]
  },
  {
   "cell_type": "code",
   "execution_count": 5,
   "id": "529fec5b",
   "metadata": {},
   "outputs": [],
   "source": [
    "data= pd.read_csv('marketing_campaign.csv', sep='\\t')"
   ]
  },
  {
   "cell_type": "code",
   "execution_count": 6,
   "id": "aad8e943",
   "metadata": {},
   "outputs": [
    {
     "data": {
      "text/html": [
       "<div>\n",
       "<style scoped>\n",
       "    .dataframe tbody tr th:only-of-type {\n",
       "        vertical-align: middle;\n",
       "    }\n",
       "\n",
       "    .dataframe tbody tr th {\n",
       "        vertical-align: top;\n",
       "    }\n",
       "\n",
       "    .dataframe thead th {\n",
       "        text-align: right;\n",
       "    }\n",
       "</style>\n",
       "<table border=\"1\" class=\"dataframe\">\n",
       "  <thead>\n",
       "    <tr style=\"text-align: right;\">\n",
       "      <th></th>\n",
       "      <th>ID</th>\n",
       "      <th>Year_Birth</th>\n",
       "      <th>Education</th>\n",
       "      <th>Marital_Status</th>\n",
       "      <th>Income</th>\n",
       "      <th>Kidhome</th>\n",
       "      <th>Teenhome</th>\n",
       "      <th>Dt_Customer</th>\n",
       "      <th>Recency</th>\n",
       "      <th>MntWines</th>\n",
       "      <th>...</th>\n",
       "      <th>NumWebVisitsMonth</th>\n",
       "      <th>AcceptedCmp3</th>\n",
       "      <th>AcceptedCmp4</th>\n",
       "      <th>AcceptedCmp5</th>\n",
       "      <th>AcceptedCmp1</th>\n",
       "      <th>AcceptedCmp2</th>\n",
       "      <th>Complain</th>\n",
       "      <th>Z_CostContact</th>\n",
       "      <th>Z_Revenue</th>\n",
       "      <th>Response</th>\n",
       "    </tr>\n",
       "  </thead>\n",
       "  <tbody>\n",
       "    <tr>\n",
       "      <th>0</th>\n",
       "      <td>5524</td>\n",
       "      <td>1957</td>\n",
       "      <td>Graduation</td>\n",
       "      <td>Single</td>\n",
       "      <td>58138.0</td>\n",
       "      <td>0</td>\n",
       "      <td>0</td>\n",
       "      <td>04-09-2012</td>\n",
       "      <td>58</td>\n",
       "      <td>635</td>\n",
       "      <td>...</td>\n",
       "      <td>7</td>\n",
       "      <td>0</td>\n",
       "      <td>0</td>\n",
       "      <td>0</td>\n",
       "      <td>0</td>\n",
       "      <td>0</td>\n",
       "      <td>0</td>\n",
       "      <td>3</td>\n",
       "      <td>11</td>\n",
       "      <td>1</td>\n",
       "    </tr>\n",
       "    <tr>\n",
       "      <th>1</th>\n",
       "      <td>2174</td>\n",
       "      <td>1954</td>\n",
       "      <td>Graduation</td>\n",
       "      <td>Single</td>\n",
       "      <td>46344.0</td>\n",
       "      <td>1</td>\n",
       "      <td>1</td>\n",
       "      <td>08-03-2014</td>\n",
       "      <td>38</td>\n",
       "      <td>11</td>\n",
       "      <td>...</td>\n",
       "      <td>5</td>\n",
       "      <td>0</td>\n",
       "      <td>0</td>\n",
       "      <td>0</td>\n",
       "      <td>0</td>\n",
       "      <td>0</td>\n",
       "      <td>0</td>\n",
       "      <td>3</td>\n",
       "      <td>11</td>\n",
       "      <td>0</td>\n",
       "    </tr>\n",
       "    <tr>\n",
       "      <th>2</th>\n",
       "      <td>4141</td>\n",
       "      <td>1965</td>\n",
       "      <td>Graduation</td>\n",
       "      <td>Together</td>\n",
       "      <td>71613.0</td>\n",
       "      <td>0</td>\n",
       "      <td>0</td>\n",
       "      <td>21-08-2013</td>\n",
       "      <td>26</td>\n",
       "      <td>426</td>\n",
       "      <td>...</td>\n",
       "      <td>4</td>\n",
       "      <td>0</td>\n",
       "      <td>0</td>\n",
       "      <td>0</td>\n",
       "      <td>0</td>\n",
       "      <td>0</td>\n",
       "      <td>0</td>\n",
       "      <td>3</td>\n",
       "      <td>11</td>\n",
       "      <td>0</td>\n",
       "    </tr>\n",
       "    <tr>\n",
       "      <th>3</th>\n",
       "      <td>6182</td>\n",
       "      <td>1984</td>\n",
       "      <td>Graduation</td>\n",
       "      <td>Together</td>\n",
       "      <td>26646.0</td>\n",
       "      <td>1</td>\n",
       "      <td>0</td>\n",
       "      <td>10-02-2014</td>\n",
       "      <td>26</td>\n",
       "      <td>11</td>\n",
       "      <td>...</td>\n",
       "      <td>6</td>\n",
       "      <td>0</td>\n",
       "      <td>0</td>\n",
       "      <td>0</td>\n",
       "      <td>0</td>\n",
       "      <td>0</td>\n",
       "      <td>0</td>\n",
       "      <td>3</td>\n",
       "      <td>11</td>\n",
       "      <td>0</td>\n",
       "    </tr>\n",
       "    <tr>\n",
       "      <th>4</th>\n",
       "      <td>5324</td>\n",
       "      <td>1981</td>\n",
       "      <td>PhD</td>\n",
       "      <td>Married</td>\n",
       "      <td>58293.0</td>\n",
       "      <td>1</td>\n",
       "      <td>0</td>\n",
       "      <td>19-01-2014</td>\n",
       "      <td>94</td>\n",
       "      <td>173</td>\n",
       "      <td>...</td>\n",
       "      <td>5</td>\n",
       "      <td>0</td>\n",
       "      <td>0</td>\n",
       "      <td>0</td>\n",
       "      <td>0</td>\n",
       "      <td>0</td>\n",
       "      <td>0</td>\n",
       "      <td>3</td>\n",
       "      <td>11</td>\n",
       "      <td>0</td>\n",
       "    </tr>\n",
       "  </tbody>\n",
       "</table>\n",
       "<p>5 rows × 29 columns</p>\n",
       "</div>"
      ],
      "text/plain": [
       "     ID  Year_Birth   Education Marital_Status   Income  Kidhome  Teenhome  \\\n",
       "0  5524        1957  Graduation         Single  58138.0        0         0   \n",
       "1  2174        1954  Graduation         Single  46344.0        1         1   \n",
       "2  4141        1965  Graduation       Together  71613.0        0         0   \n",
       "3  6182        1984  Graduation       Together  26646.0        1         0   \n",
       "4  5324        1981         PhD        Married  58293.0        1         0   \n",
       "\n",
       "  Dt_Customer  Recency  MntWines  ...  NumWebVisitsMonth  AcceptedCmp3  \\\n",
       "0  04-09-2012       58       635  ...                  7             0   \n",
       "1  08-03-2014       38        11  ...                  5             0   \n",
       "2  21-08-2013       26       426  ...                  4             0   \n",
       "3  10-02-2014       26        11  ...                  6             0   \n",
       "4  19-01-2014       94       173  ...                  5             0   \n",
       "\n",
       "   AcceptedCmp4  AcceptedCmp5  AcceptedCmp1  AcceptedCmp2  Complain  \\\n",
       "0             0             0             0             0         0   \n",
       "1             0             0             0             0         0   \n",
       "2             0             0             0             0         0   \n",
       "3             0             0             0             0         0   \n",
       "4             0             0             0             0         0   \n",
       "\n",
       "   Z_CostContact  Z_Revenue  Response  \n",
       "0              3         11         1  \n",
       "1              3         11         0  \n",
       "2              3         11         0  \n",
       "3              3         11         0  \n",
       "4              3         11         0  \n",
       "\n",
       "[5 rows x 29 columns]"
      ]
     },
     "execution_count": 6,
     "metadata": {},
     "output_type": "execute_result"
    }
   ],
   "source": [
    "data.head()"
   ]
  },
  {
   "cell_type": "code",
   "execution_count": 7,
   "id": "f86a917a",
   "metadata": {},
   "outputs": [
    {
     "data": {
      "text/plain": [
       "ID                       int64\n",
       "Year_Birth               int64\n",
       "Education               object\n",
       "Marital_Status          object\n",
       "Income                 float64\n",
       "Kidhome                  int64\n",
       "Teenhome                 int64\n",
       "Dt_Customer             object\n",
       "Recency                  int64\n",
       "MntWines                 int64\n",
       "MntFruits                int64\n",
       "MntMeatProducts          int64\n",
       "MntFishProducts          int64\n",
       "MntSweetProducts         int64\n",
       "MntGoldProds             int64\n",
       "NumDealsPurchases        int64\n",
       "NumWebPurchases          int64\n",
       "NumCatalogPurchases      int64\n",
       "NumStorePurchases        int64\n",
       "NumWebVisitsMonth        int64\n",
       "AcceptedCmp3             int64\n",
       "AcceptedCmp4             int64\n",
       "AcceptedCmp5             int64\n",
       "AcceptedCmp1             int64\n",
       "AcceptedCmp2             int64\n",
       "Complain                 int64\n",
       "Z_CostContact            int64\n",
       "Z_Revenue                int64\n",
       "Response                 int64\n",
       "dtype: object"
      ]
     },
     "execution_count": 7,
     "metadata": {},
     "output_type": "execute_result"
    }
   ],
   "source": [
    "data.dtypes"
   ]
  },
  {
   "cell_type": "code",
   "execution_count": 8,
   "id": "4e2454a3",
   "metadata": {},
   "outputs": [],
   "source": [
    "data.drop('ID', axis=1, inplace=True)"
   ]
  },
  {
   "cell_type": "code",
   "execution_count": 9,
   "id": "6afb8179",
   "metadata": {},
   "outputs": [
    {
     "data": {
      "text/plain": [
       "count    2240.0\n",
       "mean       11.0\n",
       "std         0.0\n",
       "min        11.0\n",
       "25%        11.0\n",
       "50%        11.0\n",
       "75%        11.0\n",
       "max        11.0\n",
       "Name: Z_Revenue, dtype: float64"
      ]
     },
     "execution_count": 9,
     "metadata": {},
     "output_type": "execute_result"
    },
    {
     "data": {
      "text/plain": [
       "count    2240.0\n",
       "mean        3.0\n",
       "std         0.0\n",
       "min         3.0\n",
       "25%         3.0\n",
       "50%         3.0\n",
       "75%         3.0\n",
       "max         3.0\n",
       "Name: Z_CostContact, dtype: float64"
      ]
     },
     "execution_count": 9,
     "metadata": {},
     "output_type": "execute_result"
    }
   ],
   "source": [
    "# CONSTANT VARIABLES\n",
    "data['Z_Revenue'].describe()\n",
    "data['Z_CostContact'].describe()\n",
    "data.drop(['Z_Revenue', 'Z_CostContact'], axis=1, inplace=True)"
   ]
  },
  {
   "cell_type": "code",
   "execution_count": 10,
   "id": "5361a8ad",
   "metadata": {},
   "outputs": [
    {
     "data": {
      "text/plain": [
       "Year_Birth             False\n",
       "Education              False\n",
       "Marital_Status         False\n",
       "Income                  True\n",
       "Kidhome                False\n",
       "Teenhome               False\n",
       "Dt_Customer            False\n",
       "Recency                False\n",
       "MntWines               False\n",
       "MntFruits              False\n",
       "MntMeatProducts        False\n",
       "MntFishProducts        False\n",
       "MntSweetProducts       False\n",
       "MntGoldProds           False\n",
       "NumDealsPurchases      False\n",
       "NumWebPurchases        False\n",
       "NumCatalogPurchases    False\n",
       "NumStorePurchases      False\n",
       "NumWebVisitsMonth      False\n",
       "AcceptedCmp3           False\n",
       "AcceptedCmp4           False\n",
       "AcceptedCmp5           False\n",
       "AcceptedCmp1           False\n",
       "AcceptedCmp2           False\n",
       "Complain               False\n",
       "Response               False\n",
       "dtype: bool"
      ]
     },
     "execution_count": 10,
     "metadata": {},
     "output_type": "execute_result"
    }
   ],
   "source": [
    "data.isnull().any()"
   ]
  },
  {
   "cell_type": "code",
   "execution_count": 11,
   "id": "fec84729",
   "metadata": {},
   "outputs": [
    {
     "data": {
      "text/plain": [
       "24"
      ]
     },
     "execution_count": 11,
     "metadata": {},
     "output_type": "execute_result"
    }
   ],
   "source": [
    "data.Income.isnull().sum()"
   ]
  },
  {
   "cell_type": "code",
   "execution_count": 12,
   "id": "4bac51ff",
   "metadata": {},
   "outputs": [
    {
     "data": {
      "text/html": [
       "<div>\n",
       "<style scoped>\n",
       "    .dataframe tbody tr th:only-of-type {\n",
       "        vertical-align: middle;\n",
       "    }\n",
       "\n",
       "    .dataframe tbody tr th {\n",
       "        vertical-align: top;\n",
       "    }\n",
       "\n",
       "    .dataframe thead th {\n",
       "        text-align: right;\n",
       "    }\n",
       "</style>\n",
       "<table border=\"1\" class=\"dataframe\">\n",
       "  <thead>\n",
       "    <tr style=\"text-align: right;\">\n",
       "      <th></th>\n",
       "      <th>Year_Birth</th>\n",
       "      <th>Education</th>\n",
       "      <th>Marital_Status</th>\n",
       "      <th>Income</th>\n",
       "      <th>Kidhome</th>\n",
       "      <th>Teenhome</th>\n",
       "      <th>Dt_Customer</th>\n",
       "      <th>Recency</th>\n",
       "      <th>MntWines</th>\n",
       "      <th>MntFruits</th>\n",
       "      <th>...</th>\n",
       "      <th>NumCatalogPurchases</th>\n",
       "      <th>NumStorePurchases</th>\n",
       "      <th>NumWebVisitsMonth</th>\n",
       "      <th>AcceptedCmp3</th>\n",
       "      <th>AcceptedCmp4</th>\n",
       "      <th>AcceptedCmp5</th>\n",
       "      <th>AcceptedCmp1</th>\n",
       "      <th>AcceptedCmp2</th>\n",
       "      <th>Complain</th>\n",
       "      <th>Response</th>\n",
       "    </tr>\n",
       "  </thead>\n",
       "  <tbody>\n",
       "    <tr>\n",
       "      <th>10</th>\n",
       "      <td>1983</td>\n",
       "      <td>Graduation</td>\n",
       "      <td>Married</td>\n",
       "      <td>NaN</td>\n",
       "      <td>1</td>\n",
       "      <td>0</td>\n",
       "      <td>15-11-2013</td>\n",
       "      <td>11</td>\n",
       "      <td>5</td>\n",
       "      <td>5</td>\n",
       "      <td>...</td>\n",
       "      <td>0</td>\n",
       "      <td>2</td>\n",
       "      <td>7</td>\n",
       "      <td>0</td>\n",
       "      <td>0</td>\n",
       "      <td>0</td>\n",
       "      <td>0</td>\n",
       "      <td>0</td>\n",
       "      <td>0</td>\n",
       "      <td>0</td>\n",
       "    </tr>\n",
       "    <tr>\n",
       "      <th>27</th>\n",
       "      <td>1986</td>\n",
       "      <td>Graduation</td>\n",
       "      <td>Single</td>\n",
       "      <td>NaN</td>\n",
       "      <td>1</td>\n",
       "      <td>0</td>\n",
       "      <td>20-02-2013</td>\n",
       "      <td>19</td>\n",
       "      <td>5</td>\n",
       "      <td>1</td>\n",
       "      <td>...</td>\n",
       "      <td>0</td>\n",
       "      <td>0</td>\n",
       "      <td>1</td>\n",
       "      <td>0</td>\n",
       "      <td>0</td>\n",
       "      <td>0</td>\n",
       "      <td>0</td>\n",
       "      <td>0</td>\n",
       "      <td>0</td>\n",
       "      <td>0</td>\n",
       "    </tr>\n",
       "    <tr>\n",
       "      <th>43</th>\n",
       "      <td>1959</td>\n",
       "      <td>PhD</td>\n",
       "      <td>Single</td>\n",
       "      <td>NaN</td>\n",
       "      <td>0</td>\n",
       "      <td>0</td>\n",
       "      <td>05-11-2013</td>\n",
       "      <td>80</td>\n",
       "      <td>81</td>\n",
       "      <td>11</td>\n",
       "      <td>...</td>\n",
       "      <td>3</td>\n",
       "      <td>4</td>\n",
       "      <td>2</td>\n",
       "      <td>0</td>\n",
       "      <td>0</td>\n",
       "      <td>0</td>\n",
       "      <td>0</td>\n",
       "      <td>0</td>\n",
       "      <td>0</td>\n",
       "      <td>0</td>\n",
       "    </tr>\n",
       "    <tr>\n",
       "      <th>48</th>\n",
       "      <td>1951</td>\n",
       "      <td>Graduation</td>\n",
       "      <td>Single</td>\n",
       "      <td>NaN</td>\n",
       "      <td>2</td>\n",
       "      <td>1</td>\n",
       "      <td>01-01-2014</td>\n",
       "      <td>96</td>\n",
       "      <td>48</td>\n",
       "      <td>5</td>\n",
       "      <td>...</td>\n",
       "      <td>1</td>\n",
       "      <td>4</td>\n",
       "      <td>6</td>\n",
       "      <td>0</td>\n",
       "      <td>0</td>\n",
       "      <td>0</td>\n",
       "      <td>0</td>\n",
       "      <td>0</td>\n",
       "      <td>0</td>\n",
       "      <td>0</td>\n",
       "    </tr>\n",
       "    <tr>\n",
       "      <th>58</th>\n",
       "      <td>1982</td>\n",
       "      <td>Graduation</td>\n",
       "      <td>Single</td>\n",
       "      <td>NaN</td>\n",
       "      <td>1</td>\n",
       "      <td>0</td>\n",
       "      <td>17-06-2013</td>\n",
       "      <td>57</td>\n",
       "      <td>11</td>\n",
       "      <td>3</td>\n",
       "      <td>...</td>\n",
       "      <td>0</td>\n",
       "      <td>3</td>\n",
       "      <td>6</td>\n",
       "      <td>0</td>\n",
       "      <td>0</td>\n",
       "      <td>0</td>\n",
       "      <td>0</td>\n",
       "      <td>0</td>\n",
       "      <td>0</td>\n",
       "      <td>0</td>\n",
       "    </tr>\n",
       "    <tr>\n",
       "      <th>71</th>\n",
       "      <td>1973</td>\n",
       "      <td>2n Cycle</td>\n",
       "      <td>Married</td>\n",
       "      <td>NaN</td>\n",
       "      <td>1</td>\n",
       "      <td>0</td>\n",
       "      <td>14-09-2012</td>\n",
       "      <td>25</td>\n",
       "      <td>25</td>\n",
       "      <td>3</td>\n",
       "      <td>...</td>\n",
       "      <td>0</td>\n",
       "      <td>3</td>\n",
       "      <td>8</td>\n",
       "      <td>0</td>\n",
       "      <td>0</td>\n",
       "      <td>0</td>\n",
       "      <td>0</td>\n",
       "      <td>0</td>\n",
       "      <td>0</td>\n",
       "      <td>0</td>\n",
       "    </tr>\n",
       "    <tr>\n",
       "      <th>90</th>\n",
       "      <td>1957</td>\n",
       "      <td>PhD</td>\n",
       "      <td>Married</td>\n",
       "      <td>NaN</td>\n",
       "      <td>2</td>\n",
       "      <td>1</td>\n",
       "      <td>19-11-2012</td>\n",
       "      <td>4</td>\n",
       "      <td>230</td>\n",
       "      <td>42</td>\n",
       "      <td>...</td>\n",
       "      <td>2</td>\n",
       "      <td>8</td>\n",
       "      <td>9</td>\n",
       "      <td>0</td>\n",
       "      <td>0</td>\n",
       "      <td>0</td>\n",
       "      <td>0</td>\n",
       "      <td>0</td>\n",
       "      <td>0</td>\n",
       "      <td>0</td>\n",
       "    </tr>\n",
       "    <tr>\n",
       "      <th>91</th>\n",
       "      <td>1957</td>\n",
       "      <td>Graduation</td>\n",
       "      <td>Single</td>\n",
       "      <td>NaN</td>\n",
       "      <td>1</td>\n",
       "      <td>1</td>\n",
       "      <td>27-05-2014</td>\n",
       "      <td>45</td>\n",
       "      <td>7</td>\n",
       "      <td>0</td>\n",
       "      <td>...</td>\n",
       "      <td>0</td>\n",
       "      <td>2</td>\n",
       "      <td>7</td>\n",
       "      <td>0</td>\n",
       "      <td>0</td>\n",
       "      <td>0</td>\n",
       "      <td>0</td>\n",
       "      <td>0</td>\n",
       "      <td>0</td>\n",
       "      <td>0</td>\n",
       "    </tr>\n",
       "    <tr>\n",
       "      <th>92</th>\n",
       "      <td>1973</td>\n",
       "      <td>Master</td>\n",
       "      <td>Together</td>\n",
       "      <td>NaN</td>\n",
       "      <td>0</td>\n",
       "      <td>0</td>\n",
       "      <td>23-11-2013</td>\n",
       "      <td>87</td>\n",
       "      <td>445</td>\n",
       "      <td>37</td>\n",
       "      <td>...</td>\n",
       "      <td>4</td>\n",
       "      <td>8</td>\n",
       "      <td>1</td>\n",
       "      <td>0</td>\n",
       "      <td>0</td>\n",
       "      <td>0</td>\n",
       "      <td>0</td>\n",
       "      <td>0</td>\n",
       "      <td>0</td>\n",
       "      <td>0</td>\n",
       "    </tr>\n",
       "    <tr>\n",
       "      <th>128</th>\n",
       "      <td>1961</td>\n",
       "      <td>PhD</td>\n",
       "      <td>Married</td>\n",
       "      <td>NaN</td>\n",
       "      <td>0</td>\n",
       "      <td>1</td>\n",
       "      <td>11-07-2013</td>\n",
       "      <td>23</td>\n",
       "      <td>352</td>\n",
       "      <td>0</td>\n",
       "      <td>...</td>\n",
       "      <td>1</td>\n",
       "      <td>7</td>\n",
       "      <td>6</td>\n",
       "      <td>0</td>\n",
       "      <td>0</td>\n",
       "      <td>0</td>\n",
       "      <td>0</td>\n",
       "      <td>0</td>\n",
       "      <td>0</td>\n",
       "      <td>0</td>\n",
       "    </tr>\n",
       "    <tr>\n",
       "      <th>133</th>\n",
       "      <td>1963</td>\n",
       "      <td>Graduation</td>\n",
       "      <td>Married</td>\n",
       "      <td>NaN</td>\n",
       "      <td>0</td>\n",
       "      <td>1</td>\n",
       "      <td>11-08-2013</td>\n",
       "      <td>96</td>\n",
       "      <td>231</td>\n",
       "      <td>65</td>\n",
       "      <td>...</td>\n",
       "      <td>5</td>\n",
       "      <td>7</td>\n",
       "      <td>4</td>\n",
       "      <td>0</td>\n",
       "      <td>0</td>\n",
       "      <td>0</td>\n",
       "      <td>0</td>\n",
       "      <td>0</td>\n",
       "      <td>0</td>\n",
       "      <td>0</td>\n",
       "    </tr>\n",
       "    <tr>\n",
       "      <th>312</th>\n",
       "      <td>1989</td>\n",
       "      <td>Graduation</td>\n",
       "      <td>Married</td>\n",
       "      <td>NaN</td>\n",
       "      <td>0</td>\n",
       "      <td>0</td>\n",
       "      <td>03-06-2013</td>\n",
       "      <td>69</td>\n",
       "      <td>861</td>\n",
       "      <td>138</td>\n",
       "      <td>...</td>\n",
       "      <td>5</td>\n",
       "      <td>12</td>\n",
       "      <td>3</td>\n",
       "      <td>0</td>\n",
       "      <td>1</td>\n",
       "      <td>0</td>\n",
       "      <td>1</td>\n",
       "      <td>0</td>\n",
       "      <td>0</td>\n",
       "      <td>0</td>\n",
       "    </tr>\n",
       "    <tr>\n",
       "      <th>319</th>\n",
       "      <td>1970</td>\n",
       "      <td>Graduation</td>\n",
       "      <td>Single</td>\n",
       "      <td>NaN</td>\n",
       "      <td>1</td>\n",
       "      <td>2</td>\n",
       "      <td>23-08-2013</td>\n",
       "      <td>67</td>\n",
       "      <td>738</td>\n",
       "      <td>20</td>\n",
       "      <td>...</td>\n",
       "      <td>3</td>\n",
       "      <td>10</td>\n",
       "      <td>7</td>\n",
       "      <td>0</td>\n",
       "      <td>1</td>\n",
       "      <td>0</td>\n",
       "      <td>1</td>\n",
       "      <td>0</td>\n",
       "      <td>0</td>\n",
       "      <td>0</td>\n",
       "    </tr>\n",
       "    <tr>\n",
       "      <th>1379</th>\n",
       "      <td>1970</td>\n",
       "      <td>Master</td>\n",
       "      <td>Together</td>\n",
       "      <td>NaN</td>\n",
       "      <td>0</td>\n",
       "      <td>1</td>\n",
       "      <td>01-04-2013</td>\n",
       "      <td>39</td>\n",
       "      <td>187</td>\n",
       "      <td>5</td>\n",
       "      <td>...</td>\n",
       "      <td>2</td>\n",
       "      <td>6</td>\n",
       "      <td>5</td>\n",
       "      <td>0</td>\n",
       "      <td>0</td>\n",
       "      <td>0</td>\n",
       "      <td>0</td>\n",
       "      <td>0</td>\n",
       "      <td>0</td>\n",
       "      <td>0</td>\n",
       "    </tr>\n",
       "    <tr>\n",
       "      <th>1382</th>\n",
       "      <td>1958</td>\n",
       "      <td>Graduation</td>\n",
       "      <td>Together</td>\n",
       "      <td>NaN</td>\n",
       "      <td>1</td>\n",
       "      <td>1</td>\n",
       "      <td>03-09-2012</td>\n",
       "      <td>87</td>\n",
       "      <td>19</td>\n",
       "      <td>4</td>\n",
       "      <td>...</td>\n",
       "      <td>0</td>\n",
       "      <td>3</td>\n",
       "      <td>5</td>\n",
       "      <td>0</td>\n",
       "      <td>0</td>\n",
       "      <td>0</td>\n",
       "      <td>0</td>\n",
       "      <td>0</td>\n",
       "      <td>0</td>\n",
       "      <td>0</td>\n",
       "    </tr>\n",
       "    <tr>\n",
       "      <th>1383</th>\n",
       "      <td>1964</td>\n",
       "      <td>2n Cycle</td>\n",
       "      <td>Single</td>\n",
       "      <td>NaN</td>\n",
       "      <td>1</td>\n",
       "      <td>1</td>\n",
       "      <td>12-01-2014</td>\n",
       "      <td>49</td>\n",
       "      <td>5</td>\n",
       "      <td>1</td>\n",
       "      <td>...</td>\n",
       "      <td>0</td>\n",
       "      <td>2</td>\n",
       "      <td>7</td>\n",
       "      <td>0</td>\n",
       "      <td>0</td>\n",
       "      <td>0</td>\n",
       "      <td>0</td>\n",
       "      <td>0</td>\n",
       "      <td>0</td>\n",
       "      <td>0</td>\n",
       "    </tr>\n",
       "    <tr>\n",
       "      <th>1386</th>\n",
       "      <td>1972</td>\n",
       "      <td>PhD</td>\n",
       "      <td>Together</td>\n",
       "      <td>NaN</td>\n",
       "      <td>1</td>\n",
       "      <td>0</td>\n",
       "      <td>02-03-2014</td>\n",
       "      <td>17</td>\n",
       "      <td>25</td>\n",
       "      <td>1</td>\n",
       "      <td>...</td>\n",
       "      <td>0</td>\n",
       "      <td>3</td>\n",
       "      <td>7</td>\n",
       "      <td>0</td>\n",
       "      <td>0</td>\n",
       "      <td>0</td>\n",
       "      <td>0</td>\n",
       "      <td>0</td>\n",
       "      <td>0</td>\n",
       "      <td>0</td>\n",
       "    </tr>\n",
       "    <tr>\n",
       "      <th>2059</th>\n",
       "      <td>1969</td>\n",
       "      <td>Master</td>\n",
       "      <td>Together</td>\n",
       "      <td>NaN</td>\n",
       "      <td>1</td>\n",
       "      <td>1</td>\n",
       "      <td>18-05-2013</td>\n",
       "      <td>52</td>\n",
       "      <td>375</td>\n",
       "      <td>42</td>\n",
       "      <td>...</td>\n",
       "      <td>10</td>\n",
       "      <td>4</td>\n",
       "      <td>3</td>\n",
       "      <td>0</td>\n",
       "      <td>0</td>\n",
       "      <td>0</td>\n",
       "      <td>0</td>\n",
       "      <td>0</td>\n",
       "      <td>0</td>\n",
       "      <td>0</td>\n",
       "    </tr>\n",
       "    <tr>\n",
       "      <th>2061</th>\n",
       "      <td>1981</td>\n",
       "      <td>PhD</td>\n",
       "      <td>Single</td>\n",
       "      <td>NaN</td>\n",
       "      <td>1</td>\n",
       "      <td>0</td>\n",
       "      <td>31-05-2013</td>\n",
       "      <td>82</td>\n",
       "      <td>23</td>\n",
       "      <td>0</td>\n",
       "      <td>...</td>\n",
       "      <td>0</td>\n",
       "      <td>3</td>\n",
       "      <td>6</td>\n",
       "      <td>0</td>\n",
       "      <td>0</td>\n",
       "      <td>0</td>\n",
       "      <td>0</td>\n",
       "      <td>0</td>\n",
       "      <td>0</td>\n",
       "      <td>0</td>\n",
       "    </tr>\n",
       "    <tr>\n",
       "      <th>2078</th>\n",
       "      <td>1971</td>\n",
       "      <td>Graduation</td>\n",
       "      <td>Married</td>\n",
       "      <td>NaN</td>\n",
       "      <td>1</td>\n",
       "      <td>1</td>\n",
       "      <td>03-03-2013</td>\n",
       "      <td>82</td>\n",
       "      <td>71</td>\n",
       "      <td>1</td>\n",
       "      <td>...</td>\n",
       "      <td>1</td>\n",
       "      <td>3</td>\n",
       "      <td>8</td>\n",
       "      <td>0</td>\n",
       "      <td>0</td>\n",
       "      <td>0</td>\n",
       "      <td>0</td>\n",
       "      <td>0</td>\n",
       "      <td>0</td>\n",
       "      <td>0</td>\n",
       "    </tr>\n",
       "    <tr>\n",
       "      <th>2079</th>\n",
       "      <td>1954</td>\n",
       "      <td>Master</td>\n",
       "      <td>Together</td>\n",
       "      <td>NaN</td>\n",
       "      <td>0</td>\n",
       "      <td>1</td>\n",
       "      <td>23-06-2013</td>\n",
       "      <td>83</td>\n",
       "      <td>161</td>\n",
       "      <td>0</td>\n",
       "      <td>...</td>\n",
       "      <td>1</td>\n",
       "      <td>4</td>\n",
       "      <td>6</td>\n",
       "      <td>0</td>\n",
       "      <td>0</td>\n",
       "      <td>0</td>\n",
       "      <td>0</td>\n",
       "      <td>0</td>\n",
       "      <td>0</td>\n",
       "      <td>0</td>\n",
       "    </tr>\n",
       "    <tr>\n",
       "      <th>2081</th>\n",
       "      <td>1955</td>\n",
       "      <td>Graduation</td>\n",
       "      <td>Single</td>\n",
       "      <td>NaN</td>\n",
       "      <td>0</td>\n",
       "      <td>1</td>\n",
       "      <td>18-10-2013</td>\n",
       "      <td>95</td>\n",
       "      <td>264</td>\n",
       "      <td>0</td>\n",
       "      <td>...</td>\n",
       "      <td>1</td>\n",
       "      <td>5</td>\n",
       "      <td>7</td>\n",
       "      <td>0</td>\n",
       "      <td>0</td>\n",
       "      <td>0</td>\n",
       "      <td>0</td>\n",
       "      <td>0</td>\n",
       "      <td>0</td>\n",
       "      <td>0</td>\n",
       "    </tr>\n",
       "    <tr>\n",
       "      <th>2084</th>\n",
       "      <td>1943</td>\n",
       "      <td>Master</td>\n",
       "      <td>Widow</td>\n",
       "      <td>NaN</td>\n",
       "      <td>0</td>\n",
       "      <td>0</td>\n",
       "      <td>30-10-2013</td>\n",
       "      <td>75</td>\n",
       "      <td>532</td>\n",
       "      <td>126</td>\n",
       "      <td>...</td>\n",
       "      <td>5</td>\n",
       "      <td>11</td>\n",
       "      <td>1</td>\n",
       "      <td>0</td>\n",
       "      <td>0</td>\n",
       "      <td>1</td>\n",
       "      <td>0</td>\n",
       "      <td>0</td>\n",
       "      <td>0</td>\n",
       "      <td>1</td>\n",
       "    </tr>\n",
       "    <tr>\n",
       "      <th>2228</th>\n",
       "      <td>1978</td>\n",
       "      <td>2n Cycle</td>\n",
       "      <td>Together</td>\n",
       "      <td>NaN</td>\n",
       "      <td>0</td>\n",
       "      <td>0</td>\n",
       "      <td>12-08-2012</td>\n",
       "      <td>53</td>\n",
       "      <td>32</td>\n",
       "      <td>2</td>\n",
       "      <td>...</td>\n",
       "      <td>0</td>\n",
       "      <td>1</td>\n",
       "      <td>0</td>\n",
       "      <td>0</td>\n",
       "      <td>1</td>\n",
       "      <td>0</td>\n",
       "      <td>0</td>\n",
       "      <td>0</td>\n",
       "      <td>0</td>\n",
       "      <td>0</td>\n",
       "    </tr>\n",
       "  </tbody>\n",
       "</table>\n",
       "<p>24 rows × 26 columns</p>\n",
       "</div>"
      ],
      "text/plain": [
       "      Year_Birth   Education Marital_Status  Income  Kidhome  Teenhome  \\\n",
       "10          1983  Graduation        Married     NaN        1         0   \n",
       "27          1986  Graduation         Single     NaN        1         0   \n",
       "43          1959         PhD         Single     NaN        0         0   \n",
       "48          1951  Graduation         Single     NaN        2         1   \n",
       "58          1982  Graduation         Single     NaN        1         0   \n",
       "71          1973    2n Cycle        Married     NaN        1         0   \n",
       "90          1957         PhD        Married     NaN        2         1   \n",
       "91          1957  Graduation         Single     NaN        1         1   \n",
       "92          1973      Master       Together     NaN        0         0   \n",
       "128         1961         PhD        Married     NaN        0         1   \n",
       "133         1963  Graduation        Married     NaN        0         1   \n",
       "312         1989  Graduation        Married     NaN        0         0   \n",
       "319         1970  Graduation         Single     NaN        1         2   \n",
       "1379        1970      Master       Together     NaN        0         1   \n",
       "1382        1958  Graduation       Together     NaN        1         1   \n",
       "1383        1964    2n Cycle         Single     NaN        1         1   \n",
       "1386        1972         PhD       Together     NaN        1         0   \n",
       "2059        1969      Master       Together     NaN        1         1   \n",
       "2061        1981         PhD         Single     NaN        1         0   \n",
       "2078        1971  Graduation        Married     NaN        1         1   \n",
       "2079        1954      Master       Together     NaN        0         1   \n",
       "2081        1955  Graduation         Single     NaN        0         1   \n",
       "2084        1943      Master          Widow     NaN        0         0   \n",
       "2228        1978    2n Cycle       Together     NaN        0         0   \n",
       "\n",
       "     Dt_Customer  Recency  MntWines  MntFruits  ...  NumCatalogPurchases  \\\n",
       "10    15-11-2013       11         5          5  ...                    0   \n",
       "27    20-02-2013       19         5          1  ...                    0   \n",
       "43    05-11-2013       80        81         11  ...                    3   \n",
       "48    01-01-2014       96        48          5  ...                    1   \n",
       "58    17-06-2013       57        11          3  ...                    0   \n",
       "71    14-09-2012       25        25          3  ...                    0   \n",
       "90    19-11-2012        4       230         42  ...                    2   \n",
       "91    27-05-2014       45         7          0  ...                    0   \n",
       "92    23-11-2013       87       445         37  ...                    4   \n",
       "128   11-07-2013       23       352          0  ...                    1   \n",
       "133   11-08-2013       96       231         65  ...                    5   \n",
       "312   03-06-2013       69       861        138  ...                    5   \n",
       "319   23-08-2013       67       738         20  ...                    3   \n",
       "1379  01-04-2013       39       187          5  ...                    2   \n",
       "1382  03-09-2012       87        19          4  ...                    0   \n",
       "1383  12-01-2014       49         5          1  ...                    0   \n",
       "1386  02-03-2014       17        25          1  ...                    0   \n",
       "2059  18-05-2013       52       375         42  ...                   10   \n",
       "2061  31-05-2013       82        23          0  ...                    0   \n",
       "2078  03-03-2013       82        71          1  ...                    1   \n",
       "2079  23-06-2013       83       161          0  ...                    1   \n",
       "2081  18-10-2013       95       264          0  ...                    1   \n",
       "2084  30-10-2013       75       532        126  ...                    5   \n",
       "2228  12-08-2012       53        32          2  ...                    0   \n",
       "\n",
       "      NumStorePurchases  NumWebVisitsMonth  AcceptedCmp3  AcceptedCmp4  \\\n",
       "10                    2                  7             0             0   \n",
       "27                    0                  1             0             0   \n",
       "43                    4                  2             0             0   \n",
       "48                    4                  6             0             0   \n",
       "58                    3                  6             0             0   \n",
       "71                    3                  8             0             0   \n",
       "90                    8                  9             0             0   \n",
       "91                    2                  7             0             0   \n",
       "92                    8                  1             0             0   \n",
       "128                   7                  6             0             0   \n",
       "133                   7                  4             0             0   \n",
       "312                  12                  3             0             1   \n",
       "319                  10                  7             0             1   \n",
       "1379                  6                  5             0             0   \n",
       "1382                  3                  5             0             0   \n",
       "1383                  2                  7             0             0   \n",
       "1386                  3                  7             0             0   \n",
       "2059                  4                  3             0             0   \n",
       "2061                  3                  6             0             0   \n",
       "2078                  3                  8             0             0   \n",
       "2079                  4                  6             0             0   \n",
       "2081                  5                  7             0             0   \n",
       "2084                 11                  1             0             0   \n",
       "2228                  1                  0             0             1   \n",
       "\n",
       "      AcceptedCmp5  AcceptedCmp1  AcceptedCmp2  Complain  Response  \n",
       "10               0             0             0         0         0  \n",
       "27               0             0             0         0         0  \n",
       "43               0             0             0         0         0  \n",
       "48               0             0             0         0         0  \n",
       "58               0             0             0         0         0  \n",
       "71               0             0             0         0         0  \n",
       "90               0             0             0         0         0  \n",
       "91               0             0             0         0         0  \n",
       "92               0             0             0         0         0  \n",
       "128              0             0             0         0         0  \n",
       "133              0             0             0         0         0  \n",
       "312              0             1             0         0         0  \n",
       "319              0             1             0         0         0  \n",
       "1379             0             0             0         0         0  \n",
       "1382             0             0             0         0         0  \n",
       "1383             0             0             0         0         0  \n",
       "1386             0             0             0         0         0  \n",
       "2059             0             0             0         0         0  \n",
       "2061             0             0             0         0         0  \n",
       "2078             0             0             0         0         0  \n",
       "2079             0             0             0         0         0  \n",
       "2081             0             0             0         0         0  \n",
       "2084             1             0             0         0         1  \n",
       "2228             0             0             0         0         0  \n",
       "\n",
       "[24 rows x 26 columns]"
      ]
     },
     "execution_count": 12,
     "metadata": {},
     "output_type": "execute_result"
    }
   ],
   "source": [
    "data.loc[data['Income'].isnull()== True]"
   ]
  },
  {
   "cell_type": "code",
   "execution_count": 13,
   "id": "ed41ac2f",
   "metadata": {},
   "outputs": [],
   "source": [
    "# Replacing missing values of 'Income' with mean value of the respective group of education:\n",
    "for i in range(0, data.shape[0]):\n",
    "    if data.Income[i]!=data.Income[i]: # NaN!=Nan\n",
    "        data.Income[i]=data['Income'].loc[data['Education']==data['Education'][i]].mean()"
   ]
  },
  {
   "cell_type": "code",
   "execution_count": 14,
   "id": "1096aeb4",
   "metadata": {},
   "outputs": [
    {
     "data": {
      "text/plain": [
       "Year_Birth             False\n",
       "Education              False\n",
       "Marital_Status         False\n",
       "Income                 False\n",
       "Kidhome                False\n",
       "Teenhome               False\n",
       "Dt_Customer            False\n",
       "Recency                False\n",
       "MntWines               False\n",
       "MntFruits              False\n",
       "MntMeatProducts        False\n",
       "MntFishProducts        False\n",
       "MntSweetProducts       False\n",
       "MntGoldProds           False\n",
       "NumDealsPurchases      False\n",
       "NumWebPurchases        False\n",
       "NumCatalogPurchases    False\n",
       "NumStorePurchases      False\n",
       "NumWebVisitsMonth      False\n",
       "AcceptedCmp3           False\n",
       "AcceptedCmp4           False\n",
       "AcceptedCmp5           False\n",
       "AcceptedCmp1           False\n",
       "AcceptedCmp2           False\n",
       "Complain               False\n",
       "Response               False\n",
       "dtype: bool"
      ]
     },
     "execution_count": 14,
     "metadata": {},
     "output_type": "execute_result"
    }
   ],
   "source": [
    "data.isnull().any()"
   ]
  },
  {
   "cell_type": "code",
   "execution_count": 15,
   "id": "d4843e33",
   "metadata": {},
   "outputs": [
    {
     "name": "stdout",
     "output_type": "stream",
     "text": [
      "Memory usage: 217.171875 MB\n"
     ]
    }
   ],
   "source": [
    "import resource\n",
    "# Get memory usage information (in bytes)\n",
    "mem_usage = resource.getrusage(resource.RUSAGE_SELF).ru_maxrss\n",
    "\n",
    "# Convert memory usage to megabytes (MB)\n",
    "mem_usage_mb = mem_usage / (1024 ** 2)\n",
    "\n",
    "print(\"Memory usage:\", mem_usage_mb, \"MB\")"
   ]
  },
  {
   "cell_type": "code",
   "execution_count": 16,
   "id": "2b90a161",
   "metadata": {},
   "outputs": [
    {
     "name": "stdout",
     "output_type": "stream",
     "text": [
      "Number of CPUs: 8\n"
     ]
    }
   ],
   "source": [
    "import gensim.downloader as api\n",
    "# from gensim.models.word2vec import Word2Vec\n",
    "\n",
    "from multiprocessing import cpu_count\n",
    "num_cpus = cpu_count()\n",
    "print(\"Number of CPUs:\", num_cpus)\n",
    "\n",
    "if 'dataset' in locals() or 'dataset' in globals():\n",
    "    pass\n",
    "else:\n",
    "    dataset = None\n",
    "    \n",
    "if dataset is not None:\n",
    "    print(\"Dataset exists and was loaded successfully.\")\n",
    "else:\n",
    "    dataset = api.load(\"word2vec-google-news-300\") if dataset is None else dataset\n"
   ]
  },
  {
   "cell_type": "code",
   "execution_count": 17,
   "id": "fc614622",
   "metadata": {},
   "outputs": [
    {
     "name": "stdout",
     "output_type": "stream",
     "text": [
      "Memory usage: 4231.984375 MB\n"
     ]
    }
   ],
   "source": [
    "# Get memory usage information (in bytes)\n",
    "mem_usage = resource.getrusage(resource.RUSAGE_SELF).ru_maxrss\n",
    "# Convert memory usage to megabytes (MB)\n",
    "mem_usage_mb = mem_usage / (1024 ** 2)\n",
    "print(\"Memory usage:\", mem_usage_mb, \"MB\")"
   ]
  },
  {
   "cell_type": "code",
   "execution_count": 18,
   "id": "8f5b19cb",
   "metadata": {},
   "outputs": [
    {
     "data": {
      "text/plain": [
       "numpy.ndarray"
      ]
     },
     "execution_count": 18,
     "metadata": {},
     "output_type": "execute_result"
    },
    {
     "data": {
      "text/plain": [
       "array([-0.28710938, -0.00427246, -0.20898438,  0.07226562,  0.09082031,\n",
       "       -0.40234375,  0.18359375,  0.12597656,  0.09814453,  0.234375  ],\n",
       "      dtype=float32)"
      ]
     },
     "execution_count": 18,
     "metadata": {},
     "output_type": "execute_result"
    }
   ],
   "source": [
    "type(dataset['Widow'])\n",
    "dataset['Graduation'][0:10]"
   ]
  },
  {
   "cell_type": "code",
   "execution_count": 19,
   "id": "547bdf12",
   "metadata": {},
   "outputs": [
    {
     "data": {
      "text/plain": [
       "'01-01-2013'"
      ]
     },
     "execution_count": 19,
     "metadata": {},
     "output_type": "execute_result"
    },
    {
     "data": {
      "text/html": [
       "<div>\n",
       "<style scoped>\n",
       "    .dataframe tbody tr th:only-of-type {\n",
       "        vertical-align: middle;\n",
       "    }\n",
       "\n",
       "    .dataframe tbody tr th {\n",
       "        vertical-align: top;\n",
       "    }\n",
       "\n",
       "    .dataframe thead th {\n",
       "        text-align: right;\n",
       "    }\n",
       "</style>\n",
       "<table border=\"1\" class=\"dataframe\">\n",
       "  <thead>\n",
       "    <tr style=\"text-align: right;\">\n",
       "      <th></th>\n",
       "      <th>Dt_Customer_rel</th>\n",
       "    </tr>\n",
       "  </thead>\n",
       "  <tbody>\n",
       "    <tr>\n",
       "      <th>0</th>\n",
       "      <td>92 days 00:00:00</td>\n",
       "    </tr>\n",
       "    <tr>\n",
       "      <th>1</th>\n",
       "      <td>938 days 00:00:00</td>\n",
       "    </tr>\n",
       "    <tr>\n",
       "      <th>2</th>\n",
       "      <td>591 days 00:00:00</td>\n",
       "    </tr>\n",
       "    <tr>\n",
       "      <th>3</th>\n",
       "      <td>998 days 00:00:00</td>\n",
       "    </tr>\n",
       "    <tr>\n",
       "      <th>4</th>\n",
       "      <td>742 days 00:00:00</td>\n",
       "    </tr>\n",
       "  </tbody>\n",
       "</table>\n",
       "</div>"
      ],
      "text/plain": [
       "     Dt_Customer_rel\n",
       "0   92 days 00:00:00\n",
       "1  938 days 00:00:00\n",
       "2  591 days 00:00:00\n",
       "3  998 days 00:00:00\n",
       "4  742 days 00:00:00"
      ]
     },
     "execution_count": 19,
     "metadata": {},
     "output_type": "execute_result"
    },
    {
     "data": {
      "text/plain": [
       "0     92\n",
       "1    938\n",
       "2    591\n",
       "3    998\n",
       "4    742\n",
       "Name: Dt_Customer_rel, dtype: int64"
      ]
     },
     "execution_count": 19,
     "metadata": {},
     "output_type": "execute_result"
    },
    {
     "data": {
      "text/plain": [
       "0     92\n",
       "1    938\n",
       "2    591\n",
       "3    998\n",
       "4    742\n",
       "Name: Dt_Customer_rel, dtype: int64"
      ]
     },
     "execution_count": 19,
     "metadata": {},
     "output_type": "execute_result"
    }
   ],
   "source": [
    "    data['Dt_Customer'].min()\n",
    "    data['Dt_Customer']= pd.to_datetime(arg=data['Dt_Customer'], infer_datetime_format= True)\n",
    "    #Checking transformation:\n",
    "    # data.dtypes\n",
    "    # Creating an empty column to receive the transformed values of 'Dt_Customer':\n",
    "    data['Dt_Customer_rel']= np.nan\n",
    "    # For each client, attribute the value of 'Dt_Customer_rel' as the difference in days in relation to the oldest date of registration:\n",
    "    for i in range(0, data.shape[0]):\n",
    "        data['Dt_Customer_rel'][i]= abs(data['Dt_Customer'][i]-(data['Dt_Customer'].min()))\n",
    "\n",
    "    pd.DataFrame(data['Dt_Customer_rel']).head()\n",
    "    data['Dt_Customer_rel']= (data['Dt_Customer_rel']/np.timedelta64(1, 'D')).astype(int)\n",
    "    #Checking:\n",
    "    data['Dt_Customer_rel'].head()\n",
    "    #Dropping the original date column of the dataset:\n",
    "    data.drop('Dt_Customer', axis=1, inplace=True)\n",
    "\n",
    "#     data['Dt_Customer_rel']= scaler.fit_transform(data['Dt_Customer_rel'].values.reshape(-1,1))\n",
    "    # #Checking:\n",
    "    data['Dt_Customer_rel'].head()\n",
    "    "
   ]
  },
  {
   "cell_type": "code",
   "execution_count": 20,
   "id": "e27db6b9",
   "metadata": {},
   "outputs": [
    {
     "data": {
      "text/html": [
       "<div>\n",
       "<style scoped>\n",
       "    .dataframe tbody tr th:only-of-type {\n",
       "        vertical-align: middle;\n",
       "    }\n",
       "\n",
       "    .dataframe tbody tr th {\n",
       "        vertical-align: top;\n",
       "    }\n",
       "\n",
       "    .dataframe thead th {\n",
       "        text-align: right;\n",
       "    }\n",
       "</style>\n",
       "<table border=\"1\" class=\"dataframe\">\n",
       "  <thead>\n",
       "    <tr style=\"text-align: right;\">\n",
       "      <th></th>\n",
       "      <th>Year_Birth</th>\n",
       "      <th>Education</th>\n",
       "      <th>Marital_Status</th>\n",
       "      <th>Income</th>\n",
       "      <th>Kidhome</th>\n",
       "      <th>Teenhome</th>\n",
       "      <th>Recency</th>\n",
       "      <th>MntWines</th>\n",
       "      <th>MntFruits</th>\n",
       "      <th>MntMeatProducts</th>\n",
       "      <th>...</th>\n",
       "      <th>NumStorePurchases</th>\n",
       "      <th>NumWebVisitsMonth</th>\n",
       "      <th>AcceptedCmp3</th>\n",
       "      <th>AcceptedCmp4</th>\n",
       "      <th>AcceptedCmp5</th>\n",
       "      <th>AcceptedCmp1</th>\n",
       "      <th>AcceptedCmp2</th>\n",
       "      <th>Complain</th>\n",
       "      <th>Response</th>\n",
       "      <th>Dt_Customer_rel</th>\n",
       "    </tr>\n",
       "  </thead>\n",
       "  <tbody>\n",
       "    <tr>\n",
       "      <th>0</th>\n",
       "      <td>1957</td>\n",
       "      <td>Graduation</td>\n",
       "      <td>Single</td>\n",
       "      <td>58138.0</td>\n",
       "      <td>0</td>\n",
       "      <td>0</td>\n",
       "      <td>58</td>\n",
       "      <td>635</td>\n",
       "      <td>88</td>\n",
       "      <td>546</td>\n",
       "      <td>...</td>\n",
       "      <td>4</td>\n",
       "      <td>7</td>\n",
       "      <td>0</td>\n",
       "      <td>0</td>\n",
       "      <td>0</td>\n",
       "      <td>0</td>\n",
       "      <td>0</td>\n",
       "      <td>0</td>\n",
       "      <td>1</td>\n",
       "      <td>92</td>\n",
       "    </tr>\n",
       "    <tr>\n",
       "      <th>1</th>\n",
       "      <td>1954</td>\n",
       "      <td>Graduation</td>\n",
       "      <td>Single</td>\n",
       "      <td>46344.0</td>\n",
       "      <td>1</td>\n",
       "      <td>1</td>\n",
       "      <td>38</td>\n",
       "      <td>11</td>\n",
       "      <td>1</td>\n",
       "      <td>6</td>\n",
       "      <td>...</td>\n",
       "      <td>2</td>\n",
       "      <td>5</td>\n",
       "      <td>0</td>\n",
       "      <td>0</td>\n",
       "      <td>0</td>\n",
       "      <td>0</td>\n",
       "      <td>0</td>\n",
       "      <td>0</td>\n",
       "      <td>0</td>\n",
       "      <td>938</td>\n",
       "    </tr>\n",
       "    <tr>\n",
       "      <th>2</th>\n",
       "      <td>1965</td>\n",
       "      <td>Graduation</td>\n",
       "      <td>Together</td>\n",
       "      <td>71613.0</td>\n",
       "      <td>0</td>\n",
       "      <td>0</td>\n",
       "      <td>26</td>\n",
       "      <td>426</td>\n",
       "      <td>49</td>\n",
       "      <td>127</td>\n",
       "      <td>...</td>\n",
       "      <td>10</td>\n",
       "      <td>4</td>\n",
       "      <td>0</td>\n",
       "      <td>0</td>\n",
       "      <td>0</td>\n",
       "      <td>0</td>\n",
       "      <td>0</td>\n",
       "      <td>0</td>\n",
       "      <td>0</td>\n",
       "      <td>591</td>\n",
       "    </tr>\n",
       "    <tr>\n",
       "      <th>3</th>\n",
       "      <td>1984</td>\n",
       "      <td>Graduation</td>\n",
       "      <td>Together</td>\n",
       "      <td>26646.0</td>\n",
       "      <td>1</td>\n",
       "      <td>0</td>\n",
       "      <td>26</td>\n",
       "      <td>11</td>\n",
       "      <td>4</td>\n",
       "      <td>20</td>\n",
       "      <td>...</td>\n",
       "      <td>4</td>\n",
       "      <td>6</td>\n",
       "      <td>0</td>\n",
       "      <td>0</td>\n",
       "      <td>0</td>\n",
       "      <td>0</td>\n",
       "      <td>0</td>\n",
       "      <td>0</td>\n",
       "      <td>0</td>\n",
       "      <td>998</td>\n",
       "    </tr>\n",
       "    <tr>\n",
       "      <th>4</th>\n",
       "      <td>1981</td>\n",
       "      <td>PhD</td>\n",
       "      <td>Married</td>\n",
       "      <td>58293.0</td>\n",
       "      <td>1</td>\n",
       "      <td>0</td>\n",
       "      <td>94</td>\n",
       "      <td>173</td>\n",
       "      <td>43</td>\n",
       "      <td>118</td>\n",
       "      <td>...</td>\n",
       "      <td>6</td>\n",
       "      <td>5</td>\n",
       "      <td>0</td>\n",
       "      <td>0</td>\n",
       "      <td>0</td>\n",
       "      <td>0</td>\n",
       "      <td>0</td>\n",
       "      <td>0</td>\n",
       "      <td>0</td>\n",
       "      <td>742</td>\n",
       "    </tr>\n",
       "  </tbody>\n",
       "</table>\n",
       "<p>5 rows × 26 columns</p>\n",
       "</div>"
      ],
      "text/plain": [
       "   Year_Birth   Education Marital_Status   Income  Kidhome  Teenhome  Recency  \\\n",
       "0        1957  Graduation         Single  58138.0        0         0       58   \n",
       "1        1954  Graduation         Single  46344.0        1         1       38   \n",
       "2        1965  Graduation       Together  71613.0        0         0       26   \n",
       "3        1984  Graduation       Together  26646.0        1         0       26   \n",
       "4        1981         PhD        Married  58293.0        1         0       94   \n",
       "\n",
       "   MntWines  MntFruits  MntMeatProducts  ...  NumStorePurchases  \\\n",
       "0       635         88              546  ...                  4   \n",
       "1        11          1                6  ...                  2   \n",
       "2       426         49              127  ...                 10   \n",
       "3        11          4               20  ...                  4   \n",
       "4       173         43              118  ...                  6   \n",
       "\n",
       "   NumWebVisitsMonth  AcceptedCmp3  AcceptedCmp4  AcceptedCmp5  AcceptedCmp1  \\\n",
       "0                  7             0             0             0             0   \n",
       "1                  5             0             0             0             0   \n",
       "2                  4             0             0             0             0   \n",
       "3                  6             0             0             0             0   \n",
       "4                  5             0             0             0             0   \n",
       "\n",
       "   AcceptedCmp2  Complain  Response  Dt_Customer_rel  \n",
       "0             0         0         1               92  \n",
       "1             0         0         0              938  \n",
       "2             0         0         0              591  \n",
       "3             0         0         0              998  \n",
       "4             0         0         0              742  \n",
       "\n",
       "[5 rows x 26 columns]"
      ]
     },
     "execution_count": 20,
     "metadata": {},
     "output_type": "execute_result"
    }
   ],
   "source": [
    "data.head()"
   ]
  },
  {
   "cell_type": "code",
   "execution_count": 21,
   "id": "483817b3",
   "metadata": {},
   "outputs": [],
   "source": [
    "clean_data = data.copy()\n",
    "# clean_data.head()"
   ]
  },
  {
   "cell_type": "code",
   "execution_count": 22,
   "id": "fe804ca5",
   "metadata": {},
   "outputs": [
    {
     "name": "stdout",
     "output_type": "stream",
     "text": [
      "Iteration 1\n",
      "EMBEDDED MARITAL STATUS DONE\n",
      "Index(['Year_Birth', 'Education', 'Income', 'Kidhome', 'Teenhome', 'Recency',\n",
      "       'MntWines', 'MntFruits', 'MntMeatProducts', 'MntFishProducts',\n",
      "       ...\n",
      "       'Marital_Status_290', 'Marital_Status_291', 'Marital_Status_292',\n",
      "       'Marital_Status_293', 'Marital_Status_294', 'Marital_Status_295',\n",
      "       'Marital_Status_296', 'Marital_Status_297', 'Marital_Status_298',\n",
      "       'Marital_Status_299'],\n",
      "      dtype='object', length=325)\n",
      "EMBEDDED EDUCATION DONE\n",
      "Index(['Year_Birth', 'Income', 'Kidhome', 'Teenhome', 'Recency', 'MntWines',\n",
      "       'MntFruits', 'MntMeatProducts', 'MntFishProducts', 'MntSweetProducts',\n",
      "       ...\n",
      "       'Education_290', 'Education_291', 'Education_292', 'Education_293',\n",
      "       'Education_294', 'Education_295', 'Education_296', 'Education_297',\n",
      "       'Education_298', 'Education_299'],\n",
      "      dtype='object', length=624)\n"
     ]
    },
    {
     "data": {
      "text/plain": [
       "array([0.39534001, 0.19437815, 0.16295679])"
      ]
     },
     "execution_count": 22,
     "metadata": {},
     "output_type": "execute_result"
    },
    {
     "name": "stdout",
     "output_type": "stream",
     "text": [
      "Varianza explicada en los tres primeros componentes: 0.75\n",
      "Con 11 componentes representamos el 0.99% de la varianza explicada por los componentes.\n",
      "Inflection point: 4, Inertia: 48407.90\n",
      "Coeficiente de silueta promedio: 48.3%\n",
      "CH Score: 1480\n"
     ]
    },
    {
     "data": {
      "text/plain": [
       "CustomSilhouetteVisualizer(ax=<AxesSubplot:>,\n",
       "                           estimator=KMeans(n_clusters=4, random_state=2))"
      ]
     },
     "execution_count": 22,
     "metadata": {},
     "output_type": "execute_result"
    },
    {
     "data": {
      "image/png": "[encoded data removed]",
      "text/plain": [
       "<Figure size 800x550 with 1 Axes>"
      ]
     },
     "metadata": {},
     "output_type": "display_data"
    },
    {
     "data": {
      "text/plain": [
       "<AxesSubplot:title={'center':'Gráfico de silueta de la Clusterización por KMedias'}, xlabel='Coeficiente de silueta', ylabel='Etiqueta del cluster'>"
      ]
     },
     "execution_count": 22,
     "metadata": {},
     "output_type": "execute_result"
    },
    {
     "name": "stdout",
     "output_type": "stream",
     "text": [
      "Para 2 clusters, el coeficiente de silueta medio es 0.41 y el índice CH es 1453\n",
      "Para 3 clusters, el coeficiente de silueta medio es 0.5 y el índice CH es 1592\n",
      "Para 4 clusters, el coeficiente de silueta medio es 0.48 y el índice CH es 1480\n",
      "Para 5 clusters, el coeficiente de silueta medio es 0.57 y el índice CH es 1508\n",
      "Para 6 clusters, el coeficiente de silueta medio es 0.58 y el índice CH es 1520\n",
      "Para 7 clusters, el coeficiente de silueta medio es 0.59 y el índice CH es 1516\n",
      "Para 8 clusters, el coeficiente de silueta medio es 0.64 y el índice CH es 1672\n",
      "Para 9 clusters, el coeficiente de silueta medio es 0.69 y el índice CH es 1837\n",
      "Para 10 clusters, el coeficiente de silueta medio es 0.73 y el índice CH es 2135\n",
      "Silhouette: 0.638599973112834:.2 / Clusters: 8\n",
      "Coeficiente de silueta promedio: 0.64\n",
      "CH Score: 1672\n",
      "Iteration 1 : Word2Vec, Word2Vec\n",
      "\n",
      "Iteration 2\n",
      "EMBEDDED MARITAL STATUS DONE\n",
      "Index(['Year_Birth', 'Education', 'Income', 'Kidhome', 'Teenhome', 'Recency',\n",
      "       'MntWines', 'MntFruits', 'MntMeatProducts', 'MntFishProducts',\n",
      "       ...\n",
      "       'Marital_Status_290', 'Marital_Status_291', 'Marital_Status_292',\n",
      "       'Marital_Status_293', 'Marital_Status_294', 'Marital_Status_295',\n",
      "       'Marital_Status_296', 'Marital_Status_297', 'Marital_Status_298',\n",
      "       'Marital_Status_299'],\n",
      "      dtype='object', length=325)\n"
     ]
    },
    {
     "data": {
      "text/plain": [
       "0    1.0\n",
       "1    1.0\n",
       "2    1.0\n",
       "3    1.0\n",
       "4    4.0\n",
       "Name: Education, dtype: float64"
      ]
     },
     "execution_count": 22,
     "metadata": {},
     "output_type": "execute_result"
    },
    {
     "data": {
      "text/plain": [
       "Index(['Year_Birth', 'Education', 'Income', 'Kidhome', 'Teenhome', 'Recency',\n",
       "       'MntWines', 'MntFruits', 'MntMeatProducts', 'MntFishProducts',\n",
       "       ...\n",
       "       'Marital_Status_290', 'Marital_Status_291', 'Marital_Status_292',\n",
       "       'Marital_Status_293', 'Marital_Status_294', 'Marital_Status_295',\n",
       "       'Marital_Status_296', 'Marital_Status_297', 'Marital_Status_298',\n",
       "       'Marital_Status_299'],\n",
       "      dtype='object', length=325)"
      ]
     },
     "execution_count": 22,
     "metadata": {},
     "output_type": "execute_result"
    },
    {
     "data": {
      "text/plain": [
       "array([0.42504098, 0.32050577, 0.13878868])"
      ]
     },
     "execution_count": 22,
     "metadata": {},
     "output_type": "execute_result"
    },
    {
     "name": "stdout",
     "output_type": "stream",
     "text": [
      "Varianza explicada en los tres primeros componentes: 0.88\n",
      "Con 16 componentes representamos el 0.99% de la varianza explicada por los componentes.\n",
      "Inflection point: 4, Inertia: 7128.60\n",
      "Coeficiente de silueta promedio: 76.8%\n",
      "CH Score: 5068\n"
     ]
    },
    {
     "data": {
      "text/plain": [
       "CustomSilhouetteVisualizer(ax=<AxesSubplot:>,\n",
       "                           estimator=KMeans(n_clusters=4, random_state=2))"
      ]
     },
     "execution_count": 22,
     "metadata": {},
     "output_type": "execute_result"
    },
    {
     "data": {
      "image/png": "[encoded data removed]",
      "text/plain": [
       "<Figure size 800x550 with 1 Axes>"
      ]
     },
     "metadata": {},
     "output_type": "display_data"
    },
    {
     "data": {
      "text/plain": [
       "<AxesSubplot:title={'center':'Gráfico de silueta de la Clusterización por KMedias'}, xlabel='Coeficiente de silueta', ylabel='Etiqueta del cluster'>"
      ]
     },
     "execution_count": 22,
     "metadata": {},
     "output_type": "execute_result"
    },
    {
     "name": "stdout",
     "output_type": "stream",
     "text": [
      "Para 2 clusters, el coeficiente de silueta medio es 0.48 y el índice CH es 1368\n",
      "Para 3 clusters, el coeficiente de silueta medio es 0.69 y el índice CH es 2991\n",
      "Para 4 clusters, el coeficiente de silueta medio es 0.77 y el índice CH es 5068\n",
      "Para 5 clusters, el coeficiente de silueta medio es 0.82 y el índice CH es 12109\n",
      "Para 6 clusters, el coeficiente de silueta medio es 0.6 y el índice CH es 10341\n",
      "Para 7 clusters, el coeficiente de silueta medio es 0.59 y el índice CH es 9819\n",
      "Para 8 clusters, el coeficiente de silueta medio es 0.48 y el índice CH es 8891\n",
      "Para 9 clusters, el coeficiente de silueta medio es 0.32 y el índice CH es 8210\n",
      "Para 10 clusters, el coeficiente de silueta medio es 0.31 y el índice CH es 7642\n",
      "Silhouette: 0.8236124179305544:.2 / Clusters: 5\n",
      "Coeficiente de silueta promedio: 0.82\n",
      "CH Score: 12109\n",
      "Iteration 2 : Word2Vec, Ordinal\n",
      "\n",
      "Iteration 3\n",
      "EMBEDDED MARITAL STATUS DONE\n",
      "Index(['Year_Birth', 'Education', 'Income', 'Kidhome', 'Teenhome', 'Recency',\n",
      "       'MntWines', 'MntFruits', 'MntMeatProducts', 'MntFishProducts',\n",
      "       ...\n",
      "       'Marital_Status_290', 'Marital_Status_291', 'Marital_Status_292',\n",
      "       'Marital_Status_293', 'Marital_Status_294', 'Marital_Status_295',\n",
      "       'Marital_Status_296', 'Marital_Status_297', 'Marital_Status_298',\n",
      "       'Marital_Status_299'],\n",
      "      dtype='object', length=325)\n",
      "ONE HOT ENCODING FOR EDUCATION IS DONE\n"
     ]
    },
    {
     "data": {
      "text/plain": [
       "Index(['Year_Birth', 'Education_1', 'Education_2', 'Education_3',\n",
       "       'Education_4', 'Education_5', 'Income', 'Kidhome', 'Teenhome',\n",
       "       'Recency',\n",
       "       ...\n",
       "       'Marital_Status_290', 'Marital_Status_291', 'Marital_Status_292',\n",
       "       'Marital_Status_293', 'Marital_Status_294', 'Marital_Status_295',\n",
       "       'Marital_Status_296', 'Marital_Status_297', 'Marital_Status_298',\n",
       "       'Marital_Status_299'],\n",
       "      dtype='object', length=329)"
      ]
     },
     "execution_count": 22,
     "metadata": {},
     "output_type": "execute_result"
    },
    {
     "data": {
      "text/plain": [
       "array([0.41571872, 0.31348051, 0.13574506])"
      ]
     },
     "execution_count": 22,
     "metadata": {},
     "output_type": "execute_result"
    },
    {
     "name": "stdout",
     "output_type": "stream",
     "text": [
      "Varianza explicada en los tres primeros componentes: 0.86\n",
      "Con 18 componentes representamos el 0.99% de la varianza explicada por los componentes.\n",
      "Inflection point: 4, Inertia: 7926.59\n",
      "Coeficiente de silueta promedio: 73.5%\n",
      "CH Score: 4596\n"
     ]
    },
    {
     "data": {
      "text/plain": [
       "CustomSilhouetteVisualizer(ax=<AxesSubplot:>,\n",
       "                           estimator=KMeans(n_clusters=4, random_state=2))"
      ]
     },
     "execution_count": 22,
     "metadata": {},
     "output_type": "execute_result"
    },
    {
     "data": {
      "image/png": "[encoded data removed]",
      "text/plain": [
       "<Figure size 800x550 with 1 Axes>"
      ]
     },
     "metadata": {},
     "output_type": "display_data"
    },
    {
     "data": {
      "text/plain": [
       "<AxesSubplot:title={'center':'Gráfico de silueta de la Clusterización por KMedias'}, xlabel='Coeficiente de silueta', ylabel='Etiqueta del cluster'>"
      ]
     },
     "execution_count": 22,
     "metadata": {},
     "output_type": "execute_result"
    },
    {
     "name": "stdout",
     "output_type": "stream",
     "text": [
      "Para 2 clusters, el coeficiente de silueta medio es 0.46 y el índice CH es 1322\n",
      "Para 3 clusters, el coeficiente de silueta medio es 0.65 y el índice CH es 2772\n",
      "Para 4 clusters, el coeficiente de silueta medio es 0.73 y el índice CH es 4596\n",
      "Para 5 clusters, el coeficiente de silueta medio es 0.78 y el índice CH es 8136\n",
      "Para 6 clusters, el coeficiente de silueta medio es 0.58 y el índice CH es 7110\n",
      "Para 7 clusters, el coeficiente de silueta medio es 0.44 y el índice CH es 6315\n",
      "Para 8 clusters, el coeficiente de silueta medio es 0.57 y el índice CH es 5732\n",
      "Para 9 clusters, el coeficiente de silueta medio es 0.32 y el índice CH es 5524\n",
      "Para 10 clusters, el coeficiente de silueta medio es 0.34 y el índice CH es 5108\n",
      "Silhouette: 0.7787240219760696:.2 / Clusters: 5\n",
      "Coeficiente de silueta promedio: 0.78\n",
      "CH Score: 8136\n",
      "Iteration 3 : Word2Vec, One-hot\n",
      "\n",
      "Iteration 4\n"
     ]
    },
    {
     "data": {
      "text/plain": [
       "Index(['Year_Birth', 'Education', 'Marital_Status', 'Income', 'Kidhome',\n",
       "       'Teenhome', 'Recency', 'MntWines', 'MntFruits', 'MntMeatProducts',\n",
       "       'MntFishProducts', 'MntSweetProducts', 'MntGoldProds',\n",
       "       'NumDealsPurchases', 'NumWebPurchases', 'NumCatalogPurchases',\n",
       "       'NumStorePurchases', 'NumWebVisitsMonth', 'AcceptedCmp3',\n",
       "       'AcceptedCmp4', 'AcceptedCmp5', 'AcceptedCmp1', 'AcceptedCmp2',\n",
       "       'Complain', 'Response', 'Dt_Customer_rel'],\n",
       "      dtype='object')"
      ]
     },
     "execution_count": 22,
     "metadata": {},
     "output_type": "execute_result"
    },
    {
     "data": {
      "text/plain": [
       "0    0.0\n",
       "1    0.0\n",
       "2    1.0\n",
       "3    1.0\n",
       "4    2.0\n",
       "Name: Marital_Status, dtype: float64"
      ]
     },
     "execution_count": 22,
     "metadata": {},
     "output_type": "execute_result"
    },
    {
     "name": "stdout",
     "output_type": "stream",
     "text": [
      "EMBEDDED EDUCATION DONE\n",
      "Index(['Year_Birth', 'Marital_Status', 'Income', 'Kidhome', 'Teenhome',\n",
      "       'Recency', 'MntWines', 'MntFruits', 'MntMeatProducts',\n",
      "       'MntFishProducts',\n",
      "       ...\n",
      "       'Education_290', 'Education_291', 'Education_292', 'Education_293',\n",
      "       'Education_294', 'Education_295', 'Education_296', 'Education_297',\n",
      "       'Education_298', 'Education_299'],\n",
      "      dtype='object', length=325)\n"
     ]
    },
    {
     "data": {
      "text/plain": [
       "array([0.62445651, 0.30594783, 0.04451513])"
      ]
     },
     "execution_count": 22,
     "metadata": {},
     "output_type": "execute_result"
    },
    {
     "name": "stdout",
     "output_type": "stream",
     "text": [
      "Varianza explicada en los tres primeros componentes: 0.97\n",
      "Con 8 componentes representamos el 0.99% de la varianza explicada por los componentes.\n",
      "Inflection point: 3, Inertia: 6540.59\n",
      "Coeficiente de silueta promedio: 86.7%\n",
      "CH Score: 14508\n"
     ]
    },
    {
     "data": {
      "text/plain": [
       "CustomSilhouetteVisualizer(ax=<AxesSubplot:>,\n",
       "                           estimator=KMeans(n_clusters=3, random_state=2))"
      ]
     },
     "execution_count": 22,
     "metadata": {},
     "output_type": "execute_result"
    },
    {
     "data": {
      "image/png": "[encoded data removed]",
      "text/plain": [
       "<Figure size 800x550 with 1 Axes>"
      ]
     },
     "metadata": {},
     "output_type": "display_data"
    },
    {
     "data": {
      "text/plain": [
       "<AxesSubplot:title={'center':'Gráfico de silueta de la Clusterización por KMedias'}, xlabel='Coeficiente de silueta', ylabel='Etiqueta del cluster'>"
      ]
     },
     "execution_count": 22,
     "metadata": {},
     "output_type": "execute_result"
    },
    {
     "name": "stdout",
     "output_type": "stream",
     "text": [
      "Para 2 clusters, el coeficiente de silueta medio es 0.69 y el índice CH es 3689\n",
      "Para 3 clusters, el coeficiente de silueta medio es 0.87 y el índice CH es 14508\n",
      "Para 4 clusters, el coeficiente de silueta medio es 0.9 y el índice CH es 47154\n",
      "Para 5 clusters, el coeficiente de silueta medio es 0.6 y el índice CH es 41479\n",
      "Para 6 clusters, el coeficiente de silueta medio es 0.6 y el índice CH es 36671\n",
      "Para 7 clusters, el coeficiente de silueta medio es 0.49 y el índice CH es 33431\n",
      "Para 8 clusters, el coeficiente de silueta medio es 0.35 y el índice CH es 31812\n",
      "Para 9 clusters, el coeficiente de silueta medio es 0.34 y el índice CH es 29634\n",
      "Para 10 clusters, el coeficiente de silueta medio es 0.36 y el índice CH es 28722\n",
      "Silhouette: 0.9040161310284404:.2 / Clusters: 4\n",
      "Coeficiente de silueta promedio: 0.9\n",
      "CH Score: 47154\n",
      "Iteration 4 : Ordinal, Word2Vec\n",
      "\n",
      "Iteration 5\n"
     ]
    },
    {
     "data": {
      "text/plain": [
       "Index(['Year_Birth', 'Education', 'Marital_Status', 'Income', 'Kidhome',\n",
       "       'Teenhome', 'Recency', 'MntWines', 'MntFruits', 'MntMeatProducts',\n",
       "       'MntFishProducts', 'MntSweetProducts', 'MntGoldProds',\n",
       "       'NumDealsPurchases', 'NumWebPurchases', 'NumCatalogPurchases',\n",
       "       'NumStorePurchases', 'NumWebVisitsMonth', 'AcceptedCmp3',\n",
       "       'AcceptedCmp4', 'AcceptedCmp5', 'AcceptedCmp1', 'AcceptedCmp2',\n",
       "       'Complain', 'Response', 'Dt_Customer_rel'],\n",
       "      dtype='object')"
      ]
     },
     "execution_count": 22,
     "metadata": {},
     "output_type": "execute_result"
    },
    {
     "data": {
      "text/plain": [
       "0    0.0\n",
       "1    0.0\n",
       "2    1.0\n",
       "3    1.0\n",
       "4    2.0\n",
       "Name: Marital_Status, dtype: float64"
      ]
     },
     "execution_count": 22,
     "metadata": {},
     "output_type": "execute_result"
    },
    {
     "data": {
      "text/plain": [
       "0    1.0\n",
       "1    1.0\n",
       "2    1.0\n",
       "3    1.0\n",
       "4    4.0\n",
       "Name: Education, dtype: float64"
      ]
     },
     "execution_count": 22,
     "metadata": {},
     "output_type": "execute_result"
    },
    {
     "data": {
      "text/plain": [
       "Index(['Year_Birth', 'Education', 'Marital_Status', 'Income', 'Kidhome',\n",
       "       'Teenhome', 'Recency', 'MntWines', 'MntFruits', 'MntMeatProducts',\n",
       "       'MntFishProducts', 'MntSweetProducts', 'MntGoldProds',\n",
       "       'NumDealsPurchases', 'NumWebPurchases', 'NumCatalogPurchases',\n",
       "       'NumStorePurchases', 'NumWebVisitsMonth', 'AcceptedCmp3',\n",
       "       'AcceptedCmp4', 'AcceptedCmp5', 'AcceptedCmp1', 'AcceptedCmp2',\n",
       "       'Complain', 'Response', 'Dt_Customer_rel'],\n",
       "      dtype='object')"
      ]
     },
     "execution_count": 22,
     "metadata": {},
     "output_type": "execute_result"
    },
    {
     "data": {
      "text/plain": [
       "array([0.21570418, 0.12418875, 0.10060048])"
      ]
     },
     "execution_count": 22,
     "metadata": {},
     "output_type": "execute_result"
    },
    {
     "name": "stdout",
     "output_type": "stream",
     "text": [
      "Varianza explicada en los tres primeros componentes: 0.44\n",
      "Con 23 componentes representamos el 0.99% de la varianza explicada por los componentes.\n",
      "Inflection point: 5, Inertia: 1645.07\n",
      "Coeficiente de silueta promedio: 13.7%\n",
      "CH Score: 308\n"
     ]
    },
    {
     "data": {
      "text/plain": [
       "CustomSilhouetteVisualizer(ax=<AxesSubplot:>,\n",
       "                           estimator=KMeans(n_clusters=5, random_state=2))"
      ]
     },
     "execution_count": 22,
     "metadata": {},
     "output_type": "execute_result"
    },
    {
     "data": {
      "image/png": "[encoded data removed]",
      "text/plain": [
       "<Figure size 800x550 with 1 Axes>"
      ]
     },
     "metadata": {},
     "output_type": "display_data"
    },
    {
     "data": {
      "text/plain": [
       "<AxesSubplot:title={'center':'Gráfico de silueta de la Clusterización por KMedias'}, xlabel='Coeficiente de silueta', ylabel='Etiqueta del cluster'>"
      ]
     },
     "execution_count": 22,
     "metadata": {},
     "output_type": "execute_result"
    },
    {
     "name": "stdout",
     "output_type": "stream",
     "text": [
      "Para 2 clusters, el coeficiente de silueta medio es 0.19 y el índice CH es 412\n",
      "Para 3 clusters, el coeficiente de silueta medio es 0.17 y el índice CH es 385\n",
      "Para 4 clusters, el coeficiente de silueta medio es 0.18 y el índice CH es 325\n",
      "Para 5 clusters, el coeficiente de silueta medio es 0.14 y el índice CH es 308\n",
      "Para 6 clusters, el coeficiente de silueta medio es 0.13 y el índice CH es 279\n",
      "Para 7 clusters, el coeficiente de silueta medio es 0.13 y el índice CH es 262\n",
      "Para 8 clusters, el coeficiente de silueta medio es 0.13 y el índice CH es 246\n",
      "Para 9 clusters, el coeficiente de silueta medio es 0.13 y el índice CH es 238\n",
      "Para 10 clusters, el coeficiente de silueta medio es 0.14 y el índice CH es 224\n",
      "Silhouette: 0.18939510368170398:.2 / Clusters: 2\n",
      "Coeficiente de silueta promedio: 0.19\n",
      "CH Score: 412\n",
      "Iteration 5 : Ordinal, Ordinal\n",
      "\n",
      "Iteration 6\n"
     ]
    },
    {
     "data": {
      "text/plain": [
       "Index(['Year_Birth', 'Education', 'Marital_Status', 'Income', 'Kidhome',\n",
       "       'Teenhome', 'Recency', 'MntWines', 'MntFruits', 'MntMeatProducts',\n",
       "       'MntFishProducts', 'MntSweetProducts', 'MntGoldProds',\n",
       "       'NumDealsPurchases', 'NumWebPurchases', 'NumCatalogPurchases',\n",
       "       'NumStorePurchases', 'NumWebVisitsMonth', 'AcceptedCmp3',\n",
       "       'AcceptedCmp4', 'AcceptedCmp5', 'AcceptedCmp1', 'AcceptedCmp2',\n",
       "       'Complain', 'Response', 'Dt_Customer_rel'],\n",
       "      dtype='object')"
      ]
     },
     "execution_count": 22,
     "metadata": {},
     "output_type": "execute_result"
    },
    {
     "data": {
      "text/plain": [
       "0    0.0\n",
       "1    0.0\n",
       "2    1.0\n",
       "3    1.0\n",
       "4    2.0\n",
       "Name: Marital_Status, dtype: float64"
      ]
     },
     "execution_count": 22,
     "metadata": {},
     "output_type": "execute_result"
    },
    {
     "name": "stdout",
     "output_type": "stream",
     "text": [
      "ONE HOT ENCODING FOR EDUCATION IS DONE\n"
     ]
    },
    {
     "data": {
      "text/plain": [
       "Index(['Year_Birth', 'Education_1', 'Education_2', 'Education_3',\n",
       "       'Education_4', 'Education_5', 'Marital_Status', 'Income', 'Kidhome',\n",
       "       'Teenhome', 'Recency', 'MntWines', 'MntFruits', 'MntMeatProducts',\n",
       "       'MntFishProducts', 'MntSweetProducts', 'MntGoldProds',\n",
       "       'NumDealsPurchases', 'NumWebPurchases', 'NumCatalogPurchases',\n",
       "       'NumStorePurchases', 'NumWebVisitsMonth', 'AcceptedCmp3',\n",
       "       'AcceptedCmp4', 'AcceptedCmp5', 'AcceptedCmp1', 'AcceptedCmp2',\n",
       "       'Complain', 'Response', 'Dt_Customer_rel'],\n",
       "      dtype='object')"
      ]
     },
     "execution_count": 22,
     "metadata": {},
     "output_type": "execute_result"
    },
    {
     "data": {
      "text/plain": [
       "array([0.20235923, 0.14563288, 0.10928672])"
      ]
     },
     "execution_count": 22,
     "metadata": {},
     "output_type": "execute_result"
    },
    {
     "name": "stdout",
     "output_type": "stream",
     "text": [
      "Varianza explicada en los tres primeros componentes: 0.46\n",
      "Con 25 componentes representamos el 0.99% de la varianza explicada por los componentes.\n",
      "Inflection point: 5, Inertia: 2165.85\n",
      "Coeficiente de silueta promedio: 23.9%\n",
      "CH Score: 421\n"
     ]
    },
    {
     "data": {
      "text/plain": [
       "CustomSilhouetteVisualizer(ax=<AxesSubplot:>,\n",
       "                           estimator=KMeans(n_clusters=5, random_state=2))"
      ]
     },
     "execution_count": 22,
     "metadata": {},
     "output_type": "execute_result"
    },
    {
     "data": {
      "image/png": "[encoded data removed]",
      "text/plain": [
       "<Figure size 800x550 with 1 Axes>"
      ]
     },
     "metadata": {},
     "output_type": "display_data"
    },
    {
     "data": {
      "text/plain": [
       "<AxesSubplot:title={'center':'Gráfico de silueta de la Clusterización por KMedias'}, xlabel='Coeficiente de silueta', ylabel='Etiqueta del cluster'>"
      ]
     },
     "execution_count": 22,
     "metadata": {},
     "output_type": "execute_result"
    },
    {
     "name": "stdout",
     "output_type": "stream",
     "text": [
      "Para 2 clusters, el coeficiente de silueta medio es 0.22 y el índice CH es 554\n",
      "Para 3 clusters, el coeficiente de silueta medio es 0.27 y el índice CH es 493\n",
      "Para 4 clusters, el coeficiente de silueta medio es 0.3 y el índice CH es 447\n",
      "Para 5 clusters, el coeficiente de silueta medio es 0.24 y el índice CH es 421\n",
      "Para 6 clusters, el coeficiente de silueta medio es 0.23 y el índice CH es 398\n",
      "Para 7 clusters, el coeficiente de silueta medio es 0.23 y el índice CH es 358\n",
      "Para 8 clusters, el coeficiente de silueta medio es 0.23 y el índice CH es 337\n",
      "Para 9 clusters, el coeficiente de silueta medio es 0.22 y el índice CH es 314\n",
      "Para 10 clusters, el coeficiente de silueta medio es 0.2 y el índice CH es 291\n",
      "Silhouette: 0.30447009272941983:.2 / Clusters: 4\n",
      "Coeficiente de silueta promedio: 0.3\n",
      "CH Score: 447\n",
      "Iteration 6 : Ordinal, One-hot\n",
      "\n",
      "Iteration 7\n",
      "ONE HOT ENCODING FOR MARITAL STATUS IS DONE\n",
      "EMBEDDED EDUCATION DONE\n",
      "Index(['Year_Birth', 'Marital_Status_1', 'Marital_Status_2',\n",
      "       'Marital_Status_3', 'Marital_Status_4', 'Marital_Status_5',\n",
      "       'Marital_Status_6', 'Marital_Status_7', 'Marital_Status_8', 'Income',\n",
      "       ...\n",
      "       'Education_290', 'Education_291', 'Education_292', 'Education_293',\n",
      "       'Education_294', 'Education_295', 'Education_296', 'Education_297',\n",
      "       'Education_298', 'Education_299'],\n",
      "      dtype='object', length=332)\n"
     ]
    },
    {
     "data": {
      "text/plain": [
       "array([0.6139842 , 0.30082252, 0.04378199])"
      ]
     },
     "execution_count": 22,
     "metadata": {},
     "output_type": "execute_result"
    },
    {
     "name": "stdout",
     "output_type": "stream",
     "text": [
      "Varianza explicada en los tres primeros componentes: 0.96\n",
      "Con 11 componentes representamos el 0.99% de la varianza explicada por los componentes.\n",
      "Inflection point: 3, Inertia: 8069.87\n",
      "Coeficiente de silueta promedio: 82.2%\n",
      "CH Score: 11759\n"
     ]
    },
    {
     "data": {
      "text/plain": [
       "CustomSilhouetteVisualizer(ax=<AxesSubplot:>,\n",
       "                           estimator=KMeans(n_clusters=3, random_state=2))"
      ]
     },
     "execution_count": 22,
     "metadata": {},
     "output_type": "execute_result"
    },
    {
     "data": {
      "image/png": "[encoded data removed]",
      "text/plain": [
       "<Figure size 800x550 with 1 Axes>"
      ]
     },
     "metadata": {},
     "output_type": "display_data"
    },
    {
     "data": {
      "text/plain": [
       "<AxesSubplot:title={'center':'Gráfico de silueta de la Clusterización por KMedias'}, xlabel='Coeficiente de silueta', ylabel='Etiqueta del cluster'>"
      ]
     },
     "execution_count": 22,
     "metadata": {},
     "output_type": "execute_result"
    },
    {
     "name": "stdout",
     "output_type": "stream",
     "text": [
      "Para 2 clusters, el coeficiente de silueta medio es 0.65 y el índice CH es 3532\n",
      "Para 3 clusters, el coeficiente de silueta medio es 0.82 y el índice CH es 11759\n",
      "Para 4 clusters, el coeficiente de silueta medio es 0.86 y el índice CH es 22729\n",
      "Para 5 clusters, el coeficiente de silueta medio es 0.55 y el índice CH es 19459\n",
      "Para 6 clusters, el coeficiente de silueta medio es 0.6 y el índice CH es 17261\n",
      "Para 7 clusters, el coeficiente de silueta medio es 0.45 y el índice CH es 15573\n",
      "Para 8 clusters, el coeficiente de silueta medio es 0.47 y el índice CH es 14446\n",
      "Para 9 clusters, el coeficiente de silueta medio es 0.34 y el índice CH es 13696\n",
      "Para 10 clusters, el coeficiente de silueta medio es 0.35 y el índice CH es 12905\n",
      "Silhouette: 0.8556798767635194:.2 / Clusters: 4\n",
      "Coeficiente de silueta promedio: 0.86\n",
      "CH Score: 22729\n",
      "Iteration 7 : One-hot, Word2Vec\n",
      "\n",
      "Iteration 8\n",
      "ONE HOT ENCODING FOR MARITAL STATUS IS DONE\n"
     ]
    },
    {
     "data": {
      "text/plain": [
       "0    1.0\n",
       "1    1.0\n",
       "2    1.0\n",
       "3    1.0\n",
       "4    4.0\n",
       "Name: Education, dtype: float64"
      ]
     },
     "execution_count": 22,
     "metadata": {},
     "output_type": "execute_result"
    },
    {
     "data": {
      "text/plain": [
       "Index(['Year_Birth', 'Education', 'Marital_Status_1', 'Marital_Status_2',\n",
       "       'Marital_Status_3', 'Marital_Status_4', 'Marital_Status_5',\n",
       "       'Marital_Status_6', 'Marital_Status_7', 'Marital_Status_8', 'Income',\n",
       "       'Kidhome', 'Teenhome', 'Recency', 'MntWines', 'MntFruits',\n",
       "       'MntMeatProducts', 'MntFishProducts', 'MntSweetProducts',\n",
       "       'MntGoldProds', 'NumDealsPurchases', 'NumWebPurchases',\n",
       "       'NumCatalogPurchases', 'NumStorePurchases', 'NumWebVisitsMonth',\n",
       "       'AcceptedCmp3', 'AcceptedCmp4', 'AcceptedCmp5', 'AcceptedCmp1',\n",
       "       'AcceptedCmp2', 'Complain', 'Response', 'Dt_Customer_rel'],\n",
       "      dtype='object')"
      ]
     },
     "execution_count": 22,
     "metadata": {},
     "output_type": "execute_result"
    },
    {
     "data": {
      "text/plain": [
       "array([0.17647637, 0.1361788 , 0.12616576])"
      ]
     },
     "execution_count": 22,
     "metadata": {},
     "output_type": "execute_result"
    },
    {
     "name": "stdout",
     "output_type": "stream",
     "text": [
      "Varianza explicada en los tres primeros componentes: 0.44\n",
      "Con 25 componentes representamos el 0.99% de la varianza explicada por los componentes.\n",
      "Inflection point: 4, Inertia: 2593.29\n",
      "Coeficiente de silueta promedio: 28.9%\n",
      "CH Score: 435\n"
     ]
    },
    {
     "data": {
      "text/plain": [
       "CustomSilhouetteVisualizer(ax=<AxesSubplot:>,\n",
       "                           estimator=KMeans(n_clusters=4, random_state=2))"
      ]
     },
     "execution_count": 22,
     "metadata": {},
     "output_type": "execute_result"
    },
    {
     "data": {
      "image/png": "[encoded data removed]",
      "text/plain": [
       "<Figure size 800x550 with 1 Axes>"
      ]
     },
     "metadata": {},
     "output_type": "display_data"
    },
    {
     "data": {
      "text/plain": [
       "<AxesSubplot:title={'center':'Gráfico de silueta de la Clusterización por KMedias'}, xlabel='Coeficiente de silueta', ylabel='Etiqueta del cluster'>"
      ]
     },
     "execution_count": 22,
     "metadata": {},
     "output_type": "execute_result"
    },
    {
     "name": "stdout",
     "output_type": "stream",
     "text": [
      "Para 2 clusters, el coeficiente de silueta medio es 0.18 y el índice CH es 467\n",
      "Para 3 clusters, el coeficiente de silueta medio es 0.25 y el índice CH es 464\n",
      "Para 4 clusters, el coeficiente de silueta medio es 0.29 y el índice CH es 435\n",
      "Para 5 clusters, el coeficiente de silueta medio es 0.29 y el índice CH es 399\n",
      "Para 6 clusters, el coeficiente de silueta medio es 0.22 y el índice CH es 359\n",
      "Para 7 clusters, el coeficiente de silueta medio es 0.19 y el índice CH es 324\n",
      "Para 8 clusters, el coeficiente de silueta medio es 0.21 y el índice CH es 308\n",
      "Para 9 clusters, el coeficiente de silueta medio es 0.19 y el índice CH es 289\n",
      "Para 10 clusters, el coeficiente de silueta medio es 0.19 y el índice CH es 273\n",
      "Silhouette: 0.29393285563175786:.2 / Clusters: 5\n",
      "Coeficiente de silueta promedio: 0.29\n",
      "CH Score: 399\n",
      "Iteration 8 : One-hot, Ordinal\n",
      "\n",
      "Iteration 9\n",
      "ONE HOT ENCODING FOR MARITAL STATUS IS DONE\n",
      "ONE HOT ENCODING FOR EDUCATION IS DONE\n"
     ]
    },
    {
     "data": {
      "text/plain": [
       "Index(['Year_Birth', 'Education_1', 'Education_2', 'Education_3',\n",
       "       'Education_4', 'Education_5', 'Marital_Status_1', 'Marital_Status_2',\n",
       "       'Marital_Status_3', 'Marital_Status_4', 'Marital_Status_5',\n",
       "       'Marital_Status_6', 'Marital_Status_7', 'Marital_Status_8', 'Income',\n",
       "       'Kidhome', 'Teenhome', 'Recency', 'MntWines', 'MntFruits',\n",
       "       'MntMeatProducts', 'MntFishProducts', 'MntSweetProducts',\n",
       "       'MntGoldProds', 'NumDealsPurchases', 'NumWebPurchases',\n",
       "       'NumCatalogPurchases', 'NumStorePurchases', 'NumWebVisitsMonth',\n",
       "       'AcceptedCmp3', 'AcceptedCmp4', 'AcceptedCmp5', 'AcceptedCmp1',\n",
       "       'AcceptedCmp2', 'Complain', 'Response', 'Dt_Customer_rel'],\n",
       "      dtype='object')"
      ]
     },
     "execution_count": 22,
     "metadata": {},
     "output_type": "execute_result"
    },
    {
     "data": {
      "text/plain": [
       "array([0.14353489, 0.13537384, 0.10513251])"
      ]
     },
     "execution_count": 22,
     "metadata": {},
     "output_type": "execute_result"
    },
    {
     "name": "stdout",
     "output_type": "stream",
     "text": [
      "Varianza explicada en los tres primeros componentes: 0.38\n",
      "Con 28 componentes representamos el 0.99% de la varianza explicada por los componentes.\n",
      "Inflection point: 5, Inertia: 3547.19\n",
      "Coeficiente de silueta promedio: 18.8%\n",
      "CH Score: 286\n"
     ]
    },
    {
     "data": {
      "text/plain": [
       "CustomSilhouetteVisualizer(ax=<AxesSubplot:>,\n",
       "                           estimator=KMeans(n_clusters=5, random_state=2))"
      ]
     },
     "execution_count": 22,
     "metadata": {},
     "output_type": "execute_result"
    },
    {
     "data": {
      "image/png": "[encoded data removed]",
      "text/plain": [
       "<Figure size 800x550 with 1 Axes>"
      ]
     },
     "metadata": {},
     "output_type": "display_data"
    },
    {
     "data": {
      "text/plain": [
       "<AxesSubplot:title={'center':'Gráfico de silueta de la Clusterización por KMedias'}, xlabel='Coeficiente de silueta', ylabel='Etiqueta del cluster'>"
      ]
     },
     "execution_count": 22,
     "metadata": {},
     "output_type": "execute_result"
    },
    {
     "name": "stdout",
     "output_type": "stream",
     "text": [
      "Para 2 clusters, el coeficiente de silueta medio es 0.15 y el índice CH es 366\n",
      "Para 3 clusters, el coeficiente de silueta medio es 0.19 y el índice CH es 310\n",
      "Para 4 clusters, el coeficiente de silueta medio es 0.18 y el índice CH es 295\n",
      "Para 5 clusters, el coeficiente de silueta medio es 0.19 y el índice CH es 286\n",
      "Para 6 clusters, el coeficiente de silueta medio es 0.19 y el índice CH es 268\n",
      "Para 7 clusters, el coeficiente de silueta medio es 0.19 y el índice CH es 253\n",
      "Para 8 clusters, el coeficiente de silueta medio es 0.2 y el índice CH es 242\n",
      "Para 9 clusters, el coeficiente de silueta medio es 0.22 y el índice CH es 239\n",
      "Para 10 clusters, el coeficiente de silueta medio es 0.25 y el índice CH es 230\n",
      "Silhouette: 0.202737096403894:.2 / Clusters: 8\n",
      "Coeficiente de silueta promedio: 0.2\n",
      "CH Score: 242\n",
      "Iteration 9 : One-hot, One-hot\n",
      "\n"
     ]
    }
   ],
   "source": [
    "# Define embedding methods for marital status and education\n",
    "encoding_marital = ['Word2Vec', 'Ordinal', 'One-hot']\n",
    "encoding_education = ['Word2Vec', 'Ordinal', 'One-hot']\n",
    "\n",
    "# # # To plot silhouette versus K:\n",
    "# x= 0.6\n",
    "# y= 0.95\n",
    "\n",
    "n_clusters = []\n",
    "score = []\n",
    "iteracion = []\n",
    "marital_enc = []\n",
    "educ_enc = []\n",
    "\n",
    "# Iterate over all combinations of embedding methods\n",
    "index= 0\n",
    "for marital_embedding, education_embedding in itertools.product(encoding_marital, encoding_education):\n",
    "    marital_status_encoding = marital_embedding\n",
    "    education_encoding= education_embedding\n",
    "    data= clean_data.copy()\n",
    "    \n",
    "    print(f'Iteration {index+1}')\n",
    "    if marital_status_encoding== 'One-hot':\n",
    "        if 'Marital_Status' in data.columns:\n",
    "            ohe= OneHotEncoder(cols=['Marital_Status'])\n",
    "            data= ohe.fit_transform(data)\n",
    "            print('ONE HOT ENCODING FOR MARITAL STATUS IS DONE') \n",
    "        else:\n",
    "            print('process a was made in a previous iteration')\n",
    "            \n",
    "    elif marital_status_encoding== 'Ordinal':\n",
    "        marital_cat= list(data['Marital_Status'].unique())\n",
    "        ord_enc= OrdinalEncoder(categories=[marital_cat])\n",
    "        ord_edu= pd.DataFrame(ord_enc.fit_transform(data[['Marital_Status']]))\n",
    "        data['Marital_Status']= ord_edu\n",
    "        data.columns\n",
    "        data.loc[:, 'Marital_Status'].head()\n",
    "            \n",
    "    elif marital_status_encoding== 'Word2Vec':\n",
    "        marital_status_vectors = {'Widow': dataset['Widow'],\n",
    "                                  'Single': dataset['Single'],\n",
    "                                  'Together': dataset['Together'],\n",
    "                                  'Married': dataset['Married'],\n",
    "                                  'Divorced': dataset['Divorced'],\n",
    "                                  'Alone': dataset['Alone'],\n",
    "                                  'YOLO': dataset['YOLO'],\n",
    "                                  'Absurd': dataset['Absurd']\n",
    "}\n",
    "        for marital_status, vector in marital_status_vectors.items():\n",
    "            # Create column names based on marital status\n",
    "            column_names = [f'Marital_Status_{i}' for i in range(len(vector))]\n",
    "            # Mask for rows where marital status matches\n",
    "            mask = data['Marital_Status'] == marital_status\n",
    "            # Assign values to corresponding columns\n",
    "            data.loc[mask, column_names] = vector.tolist()\n",
    "        data.drop('Marital_Status', axis=1, inplace= True)\n",
    "\n",
    "        print('EMBEDDED MARITAL STATUS DONE')\n",
    "        print(data.columns)\n",
    "        \n",
    "        \n",
    "    if education_encoding == 'One-hot':\n",
    "        if 'Education' in data.columns:\n",
    "            ohe= OneHotEncoder(cols=['Education'])\n",
    "            data= ohe.fit_transform(data)\n",
    "            print('ONE HOT ENCODING FOR EDUCATION IS DONE')\n",
    "            data.columns\n",
    "#         else:\n",
    "#             print('process b was made in a previous iteration')\n",
    "            \n",
    "    elif education_embedding== 'Ordinal':\n",
    "        educ_cat= ['Basic', 'Graduation', '2n Cycle', 'Master', 'PhD']\n",
    "        ord_enc= OrdinalEncoder(categories=[educ_cat])\n",
    "        ord_edu= pd.DataFrame(ord_enc.fit_transform(data[['Education']]))\n",
    "        data['Education']= ord_edu\n",
    "        data.loc[:, 'Education'].head()\n",
    "        data.columns\n",
    "        \n",
    "    elif education_encoding== 'Word2Vec':\n",
    "#         Assuming 2n cycle and Master means the same thing. We can combine these two categories.\n",
    "        data['Education'] = data['Education'].replace('2n Cycle', 'Master')\n",
    "        education_vectors = {'Basic': dataset['Basic'],\n",
    "                             'Master': dataset['Master'],\n",
    "                             'PhD': dataset['PhD'],\n",
    "                             'Graduation': dataset['Graduation'],\n",
    "}\n",
    "        # Iterate over each marital status and assign vectors to corresponding columns\n",
    "        for education, vector in education_vectors.items():\n",
    "            # Create column names based on marital status\n",
    "            column_names = [f'Education_{i}' for i in range(len(vector))]\n",
    "            mask = data['Education'] == education\n",
    "            # Assign values to corresponding columns\n",
    "            data.loc[mask, column_names] = vector.tolist()\n",
    "        data.drop('Education', axis=1, inplace= True)\n",
    "        print('EMBEDDED EDUCATION DONE')\n",
    "        print(data.columns)\n",
    "    \n",
    "\n",
    "    # Scaling features:\n",
    "    scaler= MinMaxScaler()\n",
    "    num =[var for var in data.columns if data[var].dtypes!='object' and 'Accepted' not in var and 'Complain' not in var and 'Response' not in var]\n",
    "#     num\n",
    "    data[num]= scaler.fit_transform(data[num])\n",
    "    \n",
    "    pca = PCA(n_components= 3)\n",
    "    data_pca = pca.fit_transform(data)\n",
    "    pca.explained_variance_ratio_\n",
    "\n",
    "    print('Varianza explicada en los tres primeros componentes:',\n",
    "          \"%.2f\"%(pca.explained_variance_ratio_.sum()))\n",
    "    \n",
    "    Explained_Variance = pca.explained_variance_ratio_.sum()\n",
    "    \n",
    "    for i in range(2, int(data.shape[1])):\n",
    "        pca = PCA(n_components= i)\n",
    "        data_pca = pca.fit_transform(data)\n",
    "        if pca.explained_variance_ratio_.sum()>= 0.99:\n",
    "            break\n",
    "    \n",
    "    l_components= i\n",
    "    percentage= \"%.2f\"%(pca.explained_variance_ratio_.sum())\n",
    "    print(f'Con {i} componentes representamos el {percentage}% de la varianza explicada por los componentes.')\n",
    "\n",
    "    # Creating a new dataframe with the dataset turned into l PCA components:\n",
    "    data_pca= pd.DataFrame(data_pca)\n",
    "#     data_pca.head()\n",
    "    \n",
    "    # Defining the optimal number of clusters (K) by the elbow method:\n",
    "    inertia=[]\n",
    "    kmax= 8\n",
    "    ks = list(range(2, kmax + 1))\n",
    "    \n",
    "    for i in range(2, kmax+1):\n",
    "        clustering= KMeans(n_clusters=i, random_state=2).fit(data_pca)\n",
    "        inertia.append(clustering.inertia_)\n",
    "        \n",
    "#     ax.plot(ks, inertia, label= index, color=colors[index % len(colors)])\n",
    "#     plt.text(x, y, f'Embedding frame{index}: {marital_embedding}, {education_embedding}', \n",
    "#              horizontalalignment='left', verticalalignment='top', \n",
    "#              transform= ax.transAxes, fontsize=6, bbox= dict(facecolor='white', alpha=0.5))\n",
    "#     ax.legend(title='Iteration', fontsize='small', title_fontsize='small')\n",
    "\n",
    "    # Determining the point of inflection of the curve of inertia versus number of clusters:\n",
    "    kneedle_kmeans= kneed.KneeLocator(y= inertia, x= ks, S= 1.0, curve= 'convex',\n",
    "                                      direction= 'decreasing')\n",
    "    inflection_point_kmeans= [kneedle_kmeans.knee, \"%.2f\"%kneedle_kmeans.knee_y]\n",
    "    print(f'Inflection point: {inflection_point_kmeans[0]}, Inertia: {inflection_point_kmeans[1]}')\n",
    "#     kneedle_kmeans.plot_knee()\n",
    "    \n",
    "    # Creating the model with inflection_point_kmeans (optimal K found by the elbow method):\n",
    "    kmeans= KMeans(n_clusters= int(inflection_point_kmeans[0]), random_state=2).fit(data_pca)\n",
    "    # Inserting the generated labels into a new column in the dataset:\n",
    "#     data_pca['kmeans_labels']= kmeans.labels_\n",
    "    \n",
    "    # Mean silhouette score:\n",
    "    silhouette_avg_kmeans= silhouette_score(data_pca, kmeans.labels_)\n",
    "    print(f'Coeficiente de silueta promedio: {silhouette_avg_kmeans:.1%}')\n",
    "    Silhouette = silhouette_avg_kmeans\n",
    "    # Calinski Harabasz (CH) score:\n",
    "    CH_kmeans= calinski_harabasz_score(data_pca, kmeans.labels_)\n",
    "    print(f'CH Score: {round(CH_kmeans)}')\n",
    "    Calinski_Harabasz = round(CH_kmeans)\n",
    "    \n",
    "    from yellowbrick.cluster import SilhouetteVisualizer\n",
    "\n",
    "#     Define a custom SilhouetteVisualizer class with a fixed x-label\n",
    "    class CustomSilhouetteVisualizer(SilhouetteVisualizer):\n",
    "\n",
    "        def draw(self, labels):\n",
    "            ax= super().draw(labels)\n",
    "            ax.axvline(x= self.silhouette_score_, color='darkred',\n",
    "                            linestyle=\"dashed\", label= \"Coeficiente de silueta promedio\")\n",
    "            for line in ax.lines:\n",
    "                if line.get_label() == \"Average Silhouette Score\":\n",
    "                    line.remove()\n",
    "                    break \n",
    "\n",
    "        def finalize(self):\n",
    "            super().finalize()  # Call the superclass's finalize method\n",
    "            # Override the x-label and y-label\n",
    "            self.ax.set_xlabel(\"Coeficiente de silueta\", fontsize=12)\n",
    "            self.ax.set_ylabel(\"Etiqueta del cluster\", fontsize=12)\n",
    "            self.set_title('Gráfico de silueta de la Clusterización por KMedias')           \n",
    "        \n",
    "    visualizer = CustomSilhouetteVisualizer(kmeans, ax= None, colors= None,\n",
    "                                            is_fitted= \"auto\")\n",
    "    visualizer.fit(data_pca)\n",
    "    visualizer.show()\n",
    "\n",
    "    # Iterating to check the mean silhouette score and the CH score for other values of K:\n",
    "    kmax= 10 # Valor máximo de clusters deseado\n",
    "    for i in range(2, kmax+1):\n",
    "        # Creating the model:\n",
    "        kmeans= KMeans(n_clusters=i, random_state=2).fit(data_pca)\n",
    "        # Mean silhouette score:\n",
    "        silhouette_avg_kmeans= silhouette_score(X= data_pca, labels= kmeans.labels_)\n",
    "        # CH score:\n",
    "        CH_kmeans= calinski_harabasz_score(X=data_pca, labels= kmeans.labels_)\n",
    "        print(f'Para {i} clusters, el coeficiente de silueta medio es {silhouette_avg_kmeans:.2} y el índice CH es {round(CH_kmeans)}')\n",
    "        \n",
    "    # Determining the optimal number of clusters (K) using the graph of silhouette score versus K:\n",
    "    sil= []\n",
    "    kmax= 8\n",
    "    ks = list(range(2, kmax + 1))\n",
    "\n",
    "    for k in range(2, kmax+1):\n",
    "        clustering= KMeans(n_clusters= k, random_state=2).fit(data_pca)\n",
    "        labels= clustering.labels_\n",
    "        sil.append(silhouette_score(data_pca, labels))\n",
    "    \n",
    "    # For plotting the graph of silhouette score versus K:\n",
    "    n_clusters.append(ks)\n",
    "    score.append(sil)\n",
    "    iteracion.append(index + 1)\n",
    "    marital_enc.append(marital_embedding)\n",
    "    educ_enc.append(education_embedding)\n",
    "    \n",
    "    n_max= max(sil)\n",
    "    index_max = sil.index(n_max)\n",
    "    print(f'Silhouette: {n_max}:.2 / Clusters: {ks[index_max]}')\n",
    "    Clusters_Silhouette= ks[index_max]\n",
    "\n",
    "    # Creating the model with n_clusters[0][index_max] (optimal K found by the silhouette score)\n",
    "    kmeans_sil= KMeans(n_clusters= ks[index_max], random_state=2).fit(data_pca)\n",
    "    \n",
    "    # Mean silhouette score:\n",
    "    silhouette_avg_kmeans_sil = silhouette_score(data_pca, labels= kmeans_sil.labels_)\n",
    "    print(f'Coeficiente de silueta promedio: {silhouette_avg_kmeans_sil:.2}')\n",
    "    Silhouette_Silhouette = silhouette_avg_kmeans_sil\n",
    "\n",
    "    # Calinski Harabasz (CH) score:\n",
    "    CH_kmeans_Silhouette = calinski_harabasz_score(X=data_pca, labels= kmeans_sil.labels_)\n",
    "    print('CH Score:', round(CH_kmeans_Silhouette))\n",
    "    Calinski_Harabasz_Silhouette= round(CH_kmeans_Silhouette)\n",
    "   \n",
    "    results = [\n",
    "        {'Experiment': index+1,\n",
    "         'Marital_Status_Encoding': marital_status_encoding,\n",
    "         'Education_Encoding': education_encoding,\n",
    "         'Dimensions': data.shape[1],\n",
    "         'Components': l_components,\n",
    "         'Explained Variance': Explained_Variance,\n",
    "         'Clusters': int(inflection_point_kmeans[0]),\n",
    "         'Calinski-Harabasz': Calinski_Harabasz,\n",
    "         'Silhouette': Silhouette,\n",
    "         'Clusters_Silhouette': Clusters_Silhouette,\n",
    "         'Calinski_Harabasz_Silhouette': Calinski_Harabasz_Silhouette,\n",
    "         'Silhouette_Silhouette': Silhouette_Silhouette\n",
    "              }\n",
    "     ]\n",
    "\n",
    "    # Define the header of the CSV file\n",
    "    keys= [key for key in results[0].keys()]\n",
    "\n",
    "    # Create a DataFrame from the results\n",
    "    results_df = pd.DataFrame(results)\n",
    "\n",
    "    # Save the DataFrame to a CSV file\n",
    "    if os.path.exists('experiment_results.csv'):\n",
    "        results_df = pd.read_csv('experiment_results.csv')\n",
    "        new_results = results\n",
    "    # Append the new results to the DataFrame\n",
    "        results_df = results_df.append(new_results, ignore_index=True)\n",
    "    # Save the updated DataFrame to the CSV file\n",
    "        results_df.to_csv('experiment_results.csv', index=False)\n",
    "    else:\n",
    "    # If the CSV file doesn't exist, initialize an empty DataFrame\n",
    "        results_df.to_csv('experiment_results.csv', index=False)\n",
    "    \n",
    "    print(f'Iteration {index+1} : {marital_status_encoding}, {education_encoding}')\n",
    "    index += 1\n",
    "    print()"
   ]
  },
  {
   "cell_type": "code",
   "execution_count": 23,
   "id": "f4533bca",
   "metadata": {},
   "outputs": [
    {
     "data": {
      "text/plain": [
       "[<matplotlib.lines.Line2D at 0x7fbc4fc23af0>]"
      ]
     },
     "execution_count": 23,
     "metadata": {},
     "output_type": "execute_result"
    },
    {
     "data": {
      "text/plain": [
       "Text(0.5, 1.0, 'Coeficiente de silueta por número de clusters')"
      ]
     },
     "execution_count": 23,
     "metadata": {},
     "output_type": "execute_result"
    },
    {
     "data": {
      "text/plain": [
       "<matplotlib.legend.Legend at 0x7fbc4fc11490>"
      ]
     },
     "execution_count": 23,
     "metadata": {},
     "output_type": "execute_result"
    },
    {
     "data": {
      "text/plain": [
       "Text(0.5, 0, 'Clusters')"
      ]
     },
     "execution_count": 23,
     "metadata": {},
     "output_type": "execute_result"
    },
    {
     "data": {
      "text/plain": [
       "Text(0, 0.5, 'Silueta')"
      ]
     },
     "execution_count": 23,
     "metadata": {},
     "output_type": "execute_result"
    },
    {
     "data": {
      "text/plain": [
       "[<matplotlib.lines.Line2D at 0x7fbc32560160>]"
      ]
     },
     "execution_count": 23,
     "metadata": {},
     "output_type": "execute_result"
    },
    {
     "data": {
      "text/plain": [
       "Text(0.5, 1.0, 'Coeficiente de silueta por número de clusters')"
      ]
     },
     "execution_count": 23,
     "metadata": {},
     "output_type": "execute_result"
    },
    {
     "data": {
      "text/plain": [
       "<matplotlib.legend.Legend at 0x7fbc324cb040>"
      ]
     },
     "execution_count": 23,
     "metadata": {},
     "output_type": "execute_result"
    },
    {
     "data": {
      "text/plain": [
       "Text(0.5, 0, 'Clusters')"
      ]
     },
     "execution_count": 23,
     "metadata": {},
     "output_type": "execute_result"
    },
    {
     "data": {
      "text/plain": [
       "Text(0, 0.5, 'Silueta')"
      ]
     },
     "execution_count": 23,
     "metadata": {},
     "output_type": "execute_result"
    },
    {
     "data": {
      "text/plain": [
       "[<matplotlib.lines.Line2D at 0x7fbc4fc09a60>]"
      ]
     },
     "execution_count": 23,
     "metadata": {},
     "output_type": "execute_result"
    },
    {
     "data": {
      "text/plain": [
       "Text(0.5, 1.0, 'Coeficiente de silueta por número de clusters')"
      ]
     },
     "execution_count": 23,
     "metadata": {},
     "output_type": "execute_result"
    },
    {
     "data": {
      "text/plain": [
       "<matplotlib.legend.Legend at 0x7fbc4fc11160>"
      ]
     },
     "execution_count": 23,
     "metadata": {},
     "output_type": "execute_result"
    },
    {
     "data": {
      "text/plain": [
       "Text(0.5, 0, 'Clusters')"
      ]
     },
     "execution_count": 23,
     "metadata": {},
     "output_type": "execute_result"
    },
    {
     "data": {
      "text/plain": [
       "Text(0, 0.5, 'Silueta')"
      ]
     },
     "execution_count": 23,
     "metadata": {},
     "output_type": "execute_result"
    },
    {
     "data": {
      "text/plain": [
       "[<matplotlib.lines.Line2D at 0x7fbc3284b1c0>]"
      ]
     },
     "execution_count": 23,
     "metadata": {},
     "output_type": "execute_result"
    },
    {
     "data": {
      "text/plain": [
       "Text(0.5, 1.0, 'Coeficiente de silueta por número de clusters')"
      ]
     },
     "execution_count": 23,
     "metadata": {},
     "output_type": "execute_result"
    },
    {
     "data": {
      "text/plain": [
       "<matplotlib.legend.Legend at 0x7fbc324cb7c0>"
      ]
     },
     "execution_count": 23,
     "metadata": {},
     "output_type": "execute_result"
    },
    {
     "data": {
      "text/plain": [
       "Text(0.5, 0, 'Clusters')"
      ]
     },
     "execution_count": 23,
     "metadata": {},
     "output_type": "execute_result"
    },
    {
     "data": {
      "text/plain": [
       "Text(0, 0.5, 'Silueta')"
      ]
     },
     "execution_count": 23,
     "metadata": {},
     "output_type": "execute_result"
    },
    {
     "data": {
      "text/plain": [
       "[<matplotlib.lines.Line2D at 0x7fbc3284bee0>]"
      ]
     },
     "execution_count": 23,
     "metadata": {},
     "output_type": "execute_result"
    },
    {
     "data": {
      "text/plain": [
       "Text(0.5, 1.0, 'Coeficiente de silueta por número de clusters')"
      ]
     },
     "execution_count": 23,
     "metadata": {},
     "output_type": "execute_result"
    },
    {
     "data": {
      "text/plain": [
       "<matplotlib.legend.Legend at 0x7fbc3284bf10>"
      ]
     },
     "execution_count": 23,
     "metadata": {},
     "output_type": "execute_result"
    },
    {
     "data": {
      "text/plain": [
       "Text(0.5, 0, 'Clusters')"
      ]
     },
     "execution_count": 23,
     "metadata": {},
     "output_type": "execute_result"
    },
    {
     "data": {
      "text/plain": [
       "Text(0, 0.5, 'Silueta')"
      ]
     },
     "execution_count": 23,
     "metadata": {},
     "output_type": "execute_result"
    },
    {
     "data": {
      "text/plain": [
       "[<matplotlib.lines.Line2D at 0x7fbc32862cd0>]"
      ]
     },
     "execution_count": 23,
     "metadata": {},
     "output_type": "execute_result"
    },
    {
     "data": {
      "text/plain": [
       "Text(0.5, 1.0, 'Coeficiente de silueta por número de clusters')"
      ]
     },
     "execution_count": 23,
     "metadata": {},
     "output_type": "execute_result"
    },
    {
     "data": {
      "text/plain": [
       "<matplotlib.legend.Legend at 0x7fbc328681f0>"
      ]
     },
     "execution_count": 23,
     "metadata": {},
     "output_type": "execute_result"
    },
    {
     "data": {
      "text/plain": [
       "Text(0.5, 0, 'Clusters')"
      ]
     },
     "execution_count": 23,
     "metadata": {},
     "output_type": "execute_result"
    },
    {
     "data": {
      "text/plain": [
       "Text(0, 0.5, 'Silueta')"
      ]
     },
     "execution_count": 23,
     "metadata": {},
     "output_type": "execute_result"
    },
    {
     "data": {
      "text/plain": [
       "[<matplotlib.lines.Line2D at 0x7fbc32850a30>]"
      ]
     },
     "execution_count": 23,
     "metadata": {},
     "output_type": "execute_result"
    },
    {
     "data": {
      "text/plain": [
       "Text(0.5, 1.0, 'Coeficiente de silueta por número de clusters')"
      ]
     },
     "execution_count": 23,
     "metadata": {},
     "output_type": "execute_result"
    },
    {
     "data": {
      "text/plain": [
       "<matplotlib.legend.Legend at 0x7fbc3286eac0>"
      ]
     },
     "execution_count": 23,
     "metadata": {},
     "output_type": "execute_result"
    },
    {
     "data": {
      "text/plain": [
       "Text(0.5, 0, 'Clusters')"
      ]
     },
     "execution_count": 23,
     "metadata": {},
     "output_type": "execute_result"
    },
    {
     "data": {
      "text/plain": [
       "Text(0, 0.5, 'Silueta')"
      ]
     },
     "execution_count": 23,
     "metadata": {},
     "output_type": "execute_result"
    },
    {
     "data": {
      "text/plain": [
       "[<matplotlib.lines.Line2D at 0x7fbc324f7700>]"
      ]
     },
     "execution_count": 23,
     "metadata": {},
     "output_type": "execute_result"
    },
    {
     "data": {
      "text/plain": [
       "Text(0.5, 1.0, 'Coeficiente de silueta por número de clusters')"
      ]
     },
     "execution_count": 23,
     "metadata": {},
     "output_type": "execute_result"
    },
    {
     "data": {
      "text/plain": [
       "<matplotlib.legend.Legend at 0x7fbc3284b580>"
      ]
     },
     "execution_count": 23,
     "metadata": {},
     "output_type": "execute_result"
    },
    {
     "data": {
      "text/plain": [
       "Text(0.5, 0, 'Clusters')"
      ]
     },
     "execution_count": 23,
     "metadata": {},
     "output_type": "execute_result"
    },
    {
     "data": {
      "text/plain": [
       "Text(0, 0.5, 'Silueta')"
      ]
     },
     "execution_count": 23,
     "metadata": {},
     "output_type": "execute_result"
    },
    {
     "data": {
      "text/plain": [
       "[<matplotlib.lines.Line2D at 0x7fbc32892d60>]"
      ]
     },
     "execution_count": 23,
     "metadata": {},
     "output_type": "execute_result"
    },
    {
     "data": {
      "text/plain": [
       "Text(0.5, 1.0, 'Coeficiente de silueta por número de clusters')"
      ]
     },
     "execution_count": 23,
     "metadata": {},
     "output_type": "execute_result"
    },
    {
     "data": {
      "text/plain": [
       "<matplotlib.legend.Legend at 0x7fbc32868730>"
      ]
     },
     "execution_count": 23,
     "metadata": {},
     "output_type": "execute_result"
    },
    {
     "data": {
      "text/plain": [
       "Text(0.5, 0, 'Clusters')"
      ]
     },
     "execution_count": 23,
     "metadata": {},
     "output_type": "execute_result"
    },
    {
     "data": {
      "text/plain": [
       "Text(0, 0.5, 'Silueta')"
      ]
     },
     "execution_count": 23,
     "metadata": {},
     "output_type": "execute_result"
    },
    {
     "data": {
      "image/png": "[encoded data removed]",
      "text/plain": [
       "<Figure size 1000x600 with 1 Axes>"
      ]
     },
     "metadata": {},
     "output_type": "display_data"
    }
   ],
   "source": [
    "fig, ax = plt.subplots(figsize=(10, 6))\n",
    "colors = cm.tab10.colors\n",
    "\n",
    "for i in list(range(9)):\n",
    "    ks = n_clusters[i]\n",
    "    sil = score[i]\n",
    "    label = f'Iteración {iteracion[i]}:, {marital_enc[i]}, {educ_enc[i]}'\n",
    "    ax.plot(ks, sil, label = f'Iteración {iteracion[i]}:, {marital_enc[i]}, {educ_enc[i]}',\n",
    "            color= colors[i % len(colors)])\n",
    "\n",
    "    plt.rc('font', size= 9)\n",
    "    plt.title(\"Coeficiente de silueta por número de clusters\")\n",
    "    ax.legend(title= 'Esquema de codificación: Estado Civil, Educación', fontsize= 'small', title_fontsize= 'small')\n",
    "    plt.xlabel('Clusters', fontsize= 10)\n",
    "    plt.ylabel('Silueta', fontsize= 10)"
   ]
  }
 ],
 "metadata": {
  "kernelspec": {
   "display_name": "Python 3 (ipykernel)",
   "language": "python",
   "name": "python3"
  },
  "language_info": {
   "codemirror_mode": {
    "name": "ipython",
    "version": 3
   },
   "file_extension": ".py",
   "mimetype": "text/x-python",
   "name": "python",
   "nbconvert_exporter": "python",
   "pygments_lexer": "ipython3",
   "version": "3.9.13"
  }
 },
 "nbformat": 4,
 "nbformat_minor": 5
}
